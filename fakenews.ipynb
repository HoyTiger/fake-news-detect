{
 "cells": [
  {
   "cell_type": "code",
   "execution_count": null,
   "metadata": {
    "collapsed": false
   },
   "outputs": [],
   "source": [
    "#一旦不再使用即释放内存垃圾，=1.0 垃圾占用内存大小达到10G时，释放内存垃圾`\r\n",
    "!export FLAGS_eager_delete_tensor_gb=1.0\r\n",
    "#启用快速垃圾回收策略，不等待cuda kernel 结束，直接释放显存`\r\n",
    "!export FLAGS_fast_eager_deletion_mode=1\r\n",
    "\r\n",
    "\r\n",
    "\r\n"
   ]
  },
  {
   "cell_type": "code",
   "execution_count": 1,
   "metadata": {
    "collapsed": false
   },
   "outputs": [
    {
     "data": {
      "text/html": [
       "<style type='text/css'>\n",
       ".datatable table.frame { margin-bottom: 0; }\n",
       ".datatable table.frame thead { border-bottom: none; }\n",
       ".datatable table.frame tr.coltypes td {  color: #FFFFFF;  line-height: 6px;  padding: 0 0.5em;}\n",
       ".datatable .bool    { background: #DDDD99; }\n",
       ".datatable .object  { background: #565656; }\n",
       ".datatable .int     { background: #5D9E5D; }\n",
       ".datatable .float   { background: #4040CC; }\n",
       ".datatable .str     { background: #CC4040; }\n",
       ".datatable .row_index {  background: var(--jp-border-color3);  border-right: 1px solid var(--jp-border-color0);  color: var(--jp-ui-font-color3);  font-size: 9px;}\n",
       ".datatable .frame tr.coltypes .row_index {  background: var(--jp-border-color0);}\n",
       ".datatable th:nth-child(2) { padding-left: 12px; }\n",
       ".datatable .hellipsis {  color: var(--jp-cell-editor-border-color);}\n",
       ".datatable .vellipsis {  background: var(--jp-layout-color0);  color: var(--jp-cell-editor-border-color);}\n",
       ".datatable .na {  color: var(--jp-cell-editor-border-color);  font-size: 80%;}\n",
       ".datatable .footer { font-size: 9px; }\n",
       ".datatable .frame_dimensions {  background: var(--jp-border-color3);  border-top: 1px solid var(--jp-border-color0);  color: var(--jp-ui-font-color3);  display: inline-block;  opacity: 0.6;  padding: 1px 10px 1px 5px;}\n",
       "</style>\n"
      ],
      "text/plain": [
       "<IPython.core.display.HTML object>"
      ]
     },
     "metadata": {},
     "output_type": "display_data"
    },
    {
     "name": "stderr",
     "output_type": "stream",
     "text": [
      "/opt/conda/envs/python35-paddle120-env/lib/python3.7/site-packages/paddle/fluid/layers/utils.py:26: DeprecationWarning: `np.int` is a deprecated alias for the builtin `int`. To silence this warning, use `int` by itself. Doing this will not modify any behavior and is safe. When replacing `np.int`, you may wish to use e.g. `np.int64` or `np.int32` to specify the precision. If you wish to review your current use, check the release note link for additional information.\n",
      "Deprecated in NumPy 1.20; for more details and guidance: https://numpy.org/devdocs/release/1.20.0-notes.html#deprecations\n",
      "  def convert_to_list(value, n, name, dtype=np.int):\n"
     ]
    }
   ],
   "source": [
    "import sys\r\n",
    "sys.path.append('external-libraries')\r\n",
    "\r\n",
    "import json\r\n",
    "import emoji\r\n",
    "import scipy as sp\r\n",
    "import pandas as pd\r\n",
    "import numpy as np\r\n",
    "\r\n",
    "from functools import partial\r\n",
    "from math import sqrt\r\n",
    "\r\n",
    "from sklearn.metrics import cohen_kappa_score, mean_squared_error\r\n",
    "from sklearn.metrics import confusion_matrix\r\n",
    "from sklearn.model_selection import StratifiedKFold\r\n",
    "\r\n",
    "from sklearn.feature_extraction.text import TfidfVectorizer\r\n",
    "from sklearn.decomposition import TruncatedSVD\r\n",
    "from sklearn.model_selection import StratifiedKFold\r\n",
    "\r\n",
    "from collections import Counter\r\n",
    "import os\r\n",
    "import sys\r\n",
    "import pickle\r\n",
    "import gc\r\n",
    "import lightgbm as lgb\r\n",
    "np.random.seed(369)\r\n",
    "\r\n",
    "import scipy as sp\r\n",
    "import matplotlib.pyplot as plt \r\n",
    "import statsmodels.api as sm\r\n",
    "\r\n",
    "import jieba\r\n",
    "import re\r\n",
    "\r\n",
    "from collections import Counter\r\n",
    "from functools import partial\r\n",
    "from math import sqrt\r\n",
    "from PIL import Image\r\n",
    "\r\n",
    "from sklearn.metrics import cohen_kappa_score, mean_squared_error\r\n",
    "from sklearn.metrics import confusion_matrix as sk_cmatrix\r\n",
    "import cv2\r\n",
    "import pandas as pd\r\n",
    "import numpy as np\r\n",
    "import os\r\n",
    "os.environ['CUDA_VISIBLE_DEVICES'] = '0'\r\n",
    "from tqdm import tqdm, tqdm_notebook\r\n",
    "import paddlehub as hub\r\n",
    "# module = hub.Module(name=\"ernie_skep_sentiment_analysis\")\r\n",
    "from visualdl import LogWriter\r\n",
    "import time\r\n",
    "from sklearn import metrics\r\n",
    "import paddle.fluid.layers as L"
   ]
  },
  {
   "cell_type": "code",
   "execution_count": 7,
   "metadata": {
    "collapsed": false
   },
   "outputs": [],
   "source": [
    "train = pd.read_csv('train.csv')\r\n",
    "sortedTrain = train.sort_values(by='clean_text')"
   ]
  },
  {
   "cell_type": "code",
   "execution_count": 6,
   "metadata": {
    "collapsed": false
   },
   "outputs": [],
   "source": [
    "train = pd.read_csv(\"./dataset/train.csv\")\r\n",
    "test = pd.read_csv(\"./dataset/test_stage1.csv\")\r\n",
    "len(train),len(test)"
   ]
  },
  {
   "cell_type": "code",
   "execution_count": null,
   "metadata": {
    "collapsed": false
   },
   "outputs": [
    {
     "data": {
      "text/plain": [
       "(13635, 20461)"
      ]
     },
     "execution_count": null,
     "metadata": {},
     "output_type": "execute_result"
    }
   ],
   "source": [
    "fake_pic_dir = os.listdir(\"dataset/rumor_pic/\")\r\n",
    "true_pic_dir = os.listdir(\"dataset/truth_pic/\")\r\n",
    "len(fake_pic_dir), len(true_pic_dir)"
   ]
  },
  {
   "cell_type": "code",
   "execution_count": 3,
   "metadata": {
    "collapsed": false
   },
   "outputs": [
    {
     "data": {
      "text/plain": [
       "(0.9118799999999998, 0.908)"
      ]
     },
     "execution_count": 3,
     "metadata": {},
     "output_type": "execute_result"
    }
   ],
   "source": [
    "(0.8909+0.9283+0.9349+0.8806+0.9247)/5, (0.89+0.90+0.92+0.91+0.92)/5"
   ]
  },
  {
   "cell_type": "markdown",
   "metadata": {
    "collapsed": false
   },
   "source": [
    "** **\n",
    "### **处理文本的统计特征**"
   ]
  },
  {
   "cell_type": "code",
   "execution_count": 4,
   "metadata": {
    "collapsed": false
   },
   "outputs": [],
   "source": [
    "true_text = []\r\n",
    "fake_text = []\r\n",
    "# for i in range(len(data)):\r\n",
    "#     if data[\"label\"][i] == 1:\r\n",
    "#         fake_text.append(data[\"text\"][i])\r\n",
    "#     else:\r\n",
    "#         true_text.append(data[\"text\"][i])\r\n"
   ]
  },
  {
   "cell_type": "code",
   "execution_count": 5,
   "metadata": {
    "collapsed": false
   },
   "outputs": [
    {
     "data": {
      "text/plain": [
       "(0, 0)"
      ]
     },
     "execution_count": 5,
     "metadata": {},
     "output_type": "execute_result"
    }
   ],
   "source": [
    "len(true_text),len(fake_text)"
   ]
  },
  {
   "cell_type": "code",
   "execution_count": null,
   "metadata": {
    "collapsed": false
   },
   "outputs": [],
   "source": [
    "def stop_word(filepath):\r\n",
    "    f = open(filepath,'r').readlines()\r\n",
    "    stopwords = {line.strip() for line in f}\r\n",
    "    return stopwords\r\n",
    "\r\n",
    "def clean_text(news):\r\n",
    "    removeChars = '[\\t’ !\"#$%&\\'()*+,-./:;<=>?@，。?★、…【】《》？“”‘’！[\\\\]^_`{|}~]+'\r\n",
    "    return re.sub(removeChars, \"\", news)\r\n",
    "\r\n",
    "def compare_news(newsA, newsB):\r\n",
    "    if len(newsA)<10 or len(newsB)<10:\r\n",
    "        return False\r\n",
    "    \r\n",
    "    minSameWordNum = 15\r\n",
    "    newsAWords = set(jieba.cut(newsA))\r\n",
    "    newsBWords = set(jieba.cut(newsB))\r\n",
    "    minSameWordNum = min([minSameWordNum, len(newsAWords), len(newsBWords)])\r\n",
    "    sameWords = newsAWords & newsBWords\r\n",
    "        \r\n",
    "    if len(sameWords) < minSameWordNum:\r\n",
    "        return False\r\n",
    "    else:\r\n",
    "        return True\r\n",
    "\r\n",
    "    return False\r\n",
    "\r\n",
    "\r\n",
    "def remove_same_news():\r\n",
    "    sameNewsTrainIdx = []\r\n",
    "    NewsIdx = []\r\n",
    "\r\n",
    "    for i in range(train.shape[0]-1):\r\n",
    "        newsA = sortedTrain.iloc[i][\"text\"]\r\n",
    "        newsB = sortedTrain.iloc[i+1][\"text\"]\r\n",
    "        NewsIdx.append(sortedTrain.iloc[i:i+1].index[0])\r\n",
    "        if compare_news(newsA, newsB):\r\n",
    "            sameNewsTrainIdx.append(sortedTrain.iloc[i:i+1].index[0])\r\n",
    "    useTrainIdx = list(set(NewsIdx) - set(sameNewsTrainIdx))\r\n",
    "    return useTrainIdx"
   ]
  },
  {
   "cell_type": "code",
   "execution_count": null,
   "metadata": {
    "collapsed": false
   },
   "outputs": [],
   "source": [
    "train[\"clean_text\"] = train.text.apply(clean_text)\r\n",
    "sortedTrain = train.sort_values(by='clean_text')\r\n",
    "# train[\"text\"] = train.text.apply(emoji.demojize)\r\n"
   ]
  },
  {
   "cell_type": "code",
   "execution_count": null,
   "metadata": {
    "collapsed": false
   },
   "outputs": [
    {
     "data": {
      "text/html": [
       "<div>\n",
       "<style scoped>\n",
       "    .dataframe tbody tr th:only-of-type {\n",
       "        vertical-align: middle;\n",
       "    }\n",
       "\n",
       "    .dataframe tbody tr th {\n",
       "        vertical-align: top;\n",
       "    }\n",
       "\n",
       "    .dataframe thead th {\n",
       "        text-align: right;\n",
       "    }\n",
       "</style>\n",
       "<table border=\"1\" class=\"dataframe\">\n",
       "  <thead>\n",
       "    <tr style=\"text-align: right;\">\n",
       "      <th></th>\n",
       "      <th>id</th>\n",
       "      <th>text</th>\n",
       "      <th>piclist</th>\n",
       "      <th>userGender</th>\n",
       "      <th>userFollowCount</th>\n",
       "      <th>userFansCount</th>\n",
       "      <th>userWeiboCount</th>\n",
       "      <th>userLocation</th>\n",
       "      <th>userDescription</th>\n",
       "      <th>category</th>\n",
       "      <th>label</th>\n",
       "      <th>clean_text</th>\n",
       "    </tr>\n",
       "  </thead>\n",
       "  <tbody>\n",
       "    <tr>\n",
       "      <th>13996</th>\n",
       "      <td>770315c962df81fd9b94d11420775514</td>\n",
       "      <td>【00后大一新生网上散布辱国等极其错误言论？取消大学入学资格！爱国底线不容许践踏！】王栋，2...</td>\n",
       "      <td>NaN</td>\n",
       "      <td>男</td>\n",
       "      <td>415.0</td>\n",
       "      <td>12263.0</td>\n",
       "      <td>3955.0</td>\n",
       "      <td>湖南益阳</td>\n",
       "      <td>共青团益阳市委官方微博</td>\n",
       "      <td>教育考试</td>\n",
       "      <td>0</td>\n",
       "      <td>00后大一新生网上散布辱国等极其错误言论取消大学入学资格爱国底线不容许践踏王栋2000年8月...</td>\n",
       "    </tr>\n",
       "    <tr>\n",
       "      <th>11953</th>\n",
       "      <td>934c567481f378bf67780dd6c6df9d78</td>\n",
       "      <td>[0-3岁宝宝禁吃5类食物]3、含过氧化脂质的食物：过氧化脂质会导致大脑早衰或痴呆，直接有损...</td>\n",
       "      <td>a032e68919b9920e20d1ec16c4acc774.jpg</td>\n",
       "      <td>女</td>\n",
       "      <td>194.0</td>\n",
       "      <td>167.0</td>\n",
       "      <td>535.0</td>\n",
       "      <td>广东广州</td>\n",
       "      <td>爱宝宝，从宝宝牙齿健康开始</td>\n",
       "      <td>医药健康</td>\n",
       "      <td>0</td>\n",
       "      <td>03岁宝宝禁吃5类食物3含过氧化脂质的食物：过氧化脂质会导致大脑早衰或痴呆直接有损于大脑的发...</td>\n",
       "    </tr>\n",
       "    <tr>\n",
       "      <th>32848</th>\n",
       "      <td>18900525b77a111e52848e6ab8bbb37d</td>\n",
       "      <td>03月30日09时47分在贵州省黔东南苗族侗族自治州剑河县(北纬26.6度，东经108.8度...</td>\n",
       "      <td>518abf2b5f659839a4d59abdd5aedd0d.jpg\\tf0915887...</td>\n",
       "      <td>男</td>\n",
       "      <td>321.0</td>\n",
       "      <td>1473.0</td>\n",
       "      <td>347.0</td>\n",
       "      <td>贵州 黔东南</td>\n",
       "      <td>学生、新青年____会当凌绝顶，一览众山小。</td>\n",
       "      <td>社会生活</td>\n",
       "      <td>1</td>\n",
       "      <td>03月30日09时47分在贵州省黔东南苗族侗族自治州剑河县北纬266度东经1088度发生55...</td>\n",
       "    </tr>\n",
       "    <tr>\n",
       "      <th>33123</th>\n",
       "      <td>5ed294f4d930db69717f21dac8470beb</td>\n",
       "      <td>04-2012:57帮忙转发一下，一位叫徐敬的女孩，21岁，请速回雅安雨城人民医院，妈妈伤的...</td>\n",
       "      <td>NaN</td>\n",
       "      <td>男</td>\n",
       "      <td>889.0</td>\n",
       "      <td>247.0</td>\n",
       "      <td>408.0</td>\n",
       "      <td>湖北 武汉</td>\n",
       "      <td>高度近视，高度负责，高度喜欢。</td>\n",
       "      <td>社会生活</td>\n",
       "      <td>1</td>\n",
       "      <td>04201257帮忙转发一下一位叫徐敬的女孩21岁请速回雅安雨城人民医院妈妈伤的很严重想见她...</td>\n",
       "    </tr>\n",
       "    <tr>\n",
       "      <th>33569</th>\n",
       "      <td>06f0e6c27d8357209f375e7ed55d1eea</td>\n",
       "      <td>04-2022:48:37谁的群最多，帮忙转发一下，一位叫徐敬的女孩，21岁，请速回雅安水城...</td>\n",
       "      <td>NaN</td>\n",
       "      <td>男</td>\n",
       "      <td>179.0</td>\n",
       "      <td>52.0</td>\n",
       "      <td>57.0</td>\n",
       "      <td>河南 郑州</td>\n",
       "      <td>NaN</td>\n",
       "      <td>社会生活</td>\n",
       "      <td>1</td>\n",
       "      <td>0420224837谁的群最多帮忙转发一下一位叫徐敬的女孩21岁请速回雅安水城县人民医院妈妈...</td>\n",
       "    </tr>\n",
       "    <tr>\n",
       "      <th>...</th>\n",
       "      <td>...</td>\n",
       "      <td>...</td>\n",
       "      <td>...</td>\n",
       "      <td>...</td>\n",
       "      <td>...</td>\n",
       "      <td>...</td>\n",
       "      <td>...</td>\n",
       "      <td>...</td>\n",
       "      <td>...</td>\n",
       "      <td>...</td>\n",
       "      <td>...</td>\n",
       "      <td>...</td>\n",
       "    </tr>\n",
       "    <tr>\n",
       "      <th>13430</th>\n",
       "      <td>6f41d437665178a36f418019d09e5e4d</td>\n",
       "      <td>🚦#小五播报#温馨提示，五里铺十字路口晚高峰道路畅通，过往车辆请注意避让行人，广大驾驶员朋友...</td>\n",
       "      <td>af970ae4b2af822b929f1adf30124f2d.jpg\\t096d2add...</td>\n",
       "      <td>男</td>\n",
       "      <td>1052.0</td>\n",
       "      <td>42639.0</td>\n",
       "      <td>34740.0</td>\n",
       "      <td>甘肃兰州</td>\n",
       "      <td>兰州市公安局交通警察支队东岗大队五中队官方微博</td>\n",
       "      <td>社会生活</td>\n",
       "      <td>0</td>\n",
       "      <td>🚦小五播报温馨提示五里铺十字路口晚高峰道路畅通过往车辆请注意避让行人广大驾驶员朋友请稳驾慢行...</td>\n",
       "    </tr>\n",
       "    <tr>\n",
       "      <th>4942</th>\n",
       "      <td>34f423a7c8d3f0e881da2400971c8f63</td>\n",
       "      <td>🚦#小五播报#温馨提示，兰州东高速路口早高峰道路畅通，过往车辆请注意避让行人，广大驾驶员朋友...</td>\n",
       "      <td>4e672e37f8cd2256ebf187252b0dc35c.jpg\\tc8f16b3f...</td>\n",
       "      <td>男</td>\n",
       "      <td>963.0</td>\n",
       "      <td>43056.0</td>\n",
       "      <td>37386.0</td>\n",
       "      <td>甘肃兰州</td>\n",
       "      <td>兰州市公安局交通警察支队东岗大队五中队官方微博</td>\n",
       "      <td>社会生活</td>\n",
       "      <td>0</td>\n",
       "      <td>🚦小五播报温馨提示兰州东高速路口早高峰道路畅通过往车辆请注意避让行人广大驾驶员朋友请稳驾慢行...</td>\n",
       "    </tr>\n",
       "    <tr>\n",
       "      <th>27174</th>\n",
       "      <td>59e2c2fe7961f52f40674a61845180c8</td>\n",
       "      <td>🚫🚫🚫家裡有小孩的～以后给我插头拔掉！！！！！这个小女孩不幸死于电话充电器，就是因为大人平时...</td>\n",
       "      <td>9d9ab3d54bb64f585aa1fae1dbc991d7.jpg</td>\n",
       "      <td>女</td>\n",
       "      <td>198.0</td>\n",
       "      <td>229.0</td>\n",
       "      <td>1251.0</td>\n",
       "      <td>浙江 杭州</td>\n",
       "      <td>这里有大量的麻辣段子，学学这种行走江湖的“毒”门武器吧。。</td>\n",
       "      <td>社会生活</td>\n",
       "      <td>1</td>\n",
       "      <td>🚫🚫🚫家裡有小孩的～以后给我插头拔掉这个小女孩不幸死于电话充电器就是因为大人平时充完电后没有...</td>\n",
       "    </tr>\n",
       "    <tr>\n",
       "      <th>33329</th>\n",
       "      <td>dbfb184dcfa8f2a95335bcb00048ccfe</td>\n",
       "      <td>🤔🤔目测真实情况，要多注意才是。妈个鸡！重庆西南医院今天凌晨8点43分，五名男女生感染H7N...</td>\n",
       "      <td>NaN</td>\n",
       "      <td>男</td>\n",
       "      <td>108.0</td>\n",
       "      <td>52.0</td>\n",
       "      <td>95.0</td>\n",
       "      <td>四川</td>\n",
       "      <td>污到最后便是圣人，，</td>\n",
       "      <td>医药健康</td>\n",
       "      <td>1</td>\n",
       "      <td>🤔🤔目测真实情况要多注意才是妈个鸡重庆西南医院今天凌晨8点43分五名男女生感染H7N9病毒死...</td>\n",
       "    </tr>\n",
       "    <tr>\n",
       "      <th>34034</th>\n",
       "      <td>d79817b6d02b54662ac124b3422c3c0e</td>\n",
       "      <td>𠆢紧急通告：温州已有七人感染新型禽流感死亡，上百人住院治疗，现市卫生局、个大医院已开始部署各...</td>\n",
       "      <td>NaN</td>\n",
       "      <td>女</td>\n",
       "      <td>231.0</td>\n",
       "      <td>101.0</td>\n",
       "      <td>132.0</td>\n",
       "      <td>其他</td>\n",
       "      <td>NaN</td>\n",
       "      <td>医药健康</td>\n",
       "      <td>1</td>\n",
       "      <td>𠆢紧急通告：温州已有七人感染新型禽流感死亡上百人住院治疗现市卫生局个大医院已开始部署各项工作...</td>\n",
       "    </tr>\n",
       "  </tbody>\n",
       "</table>\n",
       "<p>38469 rows × 12 columns</p>\n",
       "</div>"
      ],
      "text/plain": [
       "                                     id  \\\n",
       "13996  770315c962df81fd9b94d11420775514   \n",
       "11953  934c567481f378bf67780dd6c6df9d78   \n",
       "32848  18900525b77a111e52848e6ab8bbb37d   \n",
       "33123  5ed294f4d930db69717f21dac8470beb   \n",
       "33569  06f0e6c27d8357209f375e7ed55d1eea   \n",
       "...                                 ...   \n",
       "13430  6f41d437665178a36f418019d09e5e4d   \n",
       "4942   34f423a7c8d3f0e881da2400971c8f63   \n",
       "27174  59e2c2fe7961f52f40674a61845180c8   \n",
       "33329  dbfb184dcfa8f2a95335bcb00048ccfe   \n",
       "34034  d79817b6d02b54662ac124b3422c3c0e   \n",
       "\n",
       "                                                    text  \\\n",
       "13996  【00后大一新生网上散布辱国等极其错误言论？取消大学入学资格！爱国底线不容许践踏！】王栋，2...   \n",
       "11953  [0-3岁宝宝禁吃5类食物]3、含过氧化脂质的食物：过氧化脂质会导致大脑早衰或痴呆，直接有损...   \n",
       "32848  03月30日09时47分在贵州省黔东南苗族侗族自治州剑河县(北纬26.6度，东经108.8度...   \n",
       "33123  04-2012:57帮忙转发一下，一位叫徐敬的女孩，21岁，请速回雅安雨城人民医院，妈妈伤的...   \n",
       "33569  04-2022:48:37谁的群最多，帮忙转发一下，一位叫徐敬的女孩，21岁，请速回雅安水城...   \n",
       "...                                                  ...   \n",
       "13430  🚦#小五播报#温馨提示，五里铺十字路口晚高峰道路畅通，过往车辆请注意避让行人，广大驾驶员朋友...   \n",
       "4942   🚦#小五播报#温馨提示，兰州东高速路口早高峰道路畅通，过往车辆请注意避让行人，广大驾驶员朋友...   \n",
       "27174  🚫🚫🚫家裡有小孩的～以后给我插头拔掉！！！！！这个小女孩不幸死于电话充电器，就是因为大人平时...   \n",
       "33329  🤔🤔目测真实情况，要多注意才是。妈个鸡！重庆西南医院今天凌晨8点43分，五名男女生感染H7N...   \n",
       "34034  𠆢紧急通告：温州已有七人感染新型禽流感死亡，上百人住院治疗，现市卫生局、个大医院已开始部署各...   \n",
       "\n",
       "                                                 piclist userGender  \\\n",
       "13996                                                NaN          男   \n",
       "11953               a032e68919b9920e20d1ec16c4acc774.jpg          女   \n",
       "32848  518abf2b5f659839a4d59abdd5aedd0d.jpg\\tf0915887...          男   \n",
       "33123                                                NaN          男   \n",
       "33569                                                NaN          男   \n",
       "...                                                  ...        ...   \n",
       "13430  af970ae4b2af822b929f1adf30124f2d.jpg\\t096d2add...          男   \n",
       "4942   4e672e37f8cd2256ebf187252b0dc35c.jpg\\tc8f16b3f...          男   \n",
       "27174               9d9ab3d54bb64f585aa1fae1dbc991d7.jpg          女   \n",
       "33329                                                NaN          男   \n",
       "34034                                                NaN          女   \n",
       "\n",
       "       userFollowCount  userFansCount  userWeiboCount userLocation  \\\n",
       "13996            415.0        12263.0          3955.0         湖南益阳   \n",
       "11953            194.0          167.0           535.0         广东广州   \n",
       "32848            321.0         1473.0           347.0       贵州 黔东南   \n",
       "33123            889.0          247.0           408.0        湖北 武汉   \n",
       "33569            179.0           52.0            57.0        河南 郑州   \n",
       "...                ...            ...             ...          ...   \n",
       "13430           1052.0        42639.0         34740.0         甘肃兰州   \n",
       "4942             963.0        43056.0         37386.0         甘肃兰州   \n",
       "27174            198.0          229.0          1251.0        浙江 杭州   \n",
       "33329            108.0           52.0            95.0           四川   \n",
       "34034            231.0          101.0           132.0           其他   \n",
       "\n",
       "                     userDescription category  label  \\\n",
       "13996                    共青团益阳市委官方微博     教育考试      0   \n",
       "11953                  爱宝宝，从宝宝牙齿健康开始     医药健康      0   \n",
       "32848         学生、新青年____会当凌绝顶，一览众山小。     社会生活      1   \n",
       "33123                高度近视，高度负责，高度喜欢。     社会生活      1   \n",
       "33569                            NaN     社会生活      1   \n",
       "...                              ...      ...    ...   \n",
       "13430        兰州市公安局交通警察支队东岗大队五中队官方微博     社会生活      0   \n",
       "4942         兰州市公安局交通警察支队东岗大队五中队官方微博     社会生活      0   \n",
       "27174  这里有大量的麻辣段子，学学这种行走江湖的“毒”门武器吧。。     社会生活      1   \n",
       "33329                     污到最后便是圣人，，     医药健康      1   \n",
       "34034                            NaN     医药健康      1   \n",
       "\n",
       "                                              clean_text  \n",
       "13996  00后大一新生网上散布辱国等极其错误言论取消大学入学资格爱国底线不容许践踏王栋2000年8月...  \n",
       "11953  03岁宝宝禁吃5类食物3含过氧化脂质的食物：过氧化脂质会导致大脑早衰或痴呆直接有损于大脑的发...  \n",
       "32848  03月30日09时47分在贵州省黔东南苗族侗族自治州剑河县北纬266度东经1088度发生55...  \n",
       "33123  04201257帮忙转发一下一位叫徐敬的女孩21岁请速回雅安雨城人民医院妈妈伤的很严重想见她...  \n",
       "33569  0420224837谁的群最多帮忙转发一下一位叫徐敬的女孩21岁请速回雅安水城县人民医院妈妈...  \n",
       "...                                                  ...  \n",
       "13430  🚦小五播报温馨提示五里铺十字路口晚高峰道路畅通过往车辆请注意避让行人广大驾驶员朋友请稳驾慢行...  \n",
       "4942   🚦小五播报温馨提示兰州东高速路口早高峰道路畅通过往车辆请注意避让行人广大驾驶员朋友请稳驾慢行...  \n",
       "27174  🚫🚫🚫家裡有小孩的～以后给我插头拔掉这个小女孩不幸死于电话充电器就是因为大人平时充完电后没有...  \n",
       "33329  🤔🤔目测真实情况要多注意才是妈个鸡重庆西南医院今天凌晨8点43分五名男女生感染H7N9病毒死...  \n",
       "34034  𠆢紧急通告：温州已有七人感染新型禽流感死亡上百人住院治疗现市卫生局个大医院已开始部署各项工作...  \n",
       "\n",
       "[38469 rows x 12 columns]"
      ]
     },
     "execution_count": null,
     "metadata": {},
     "output_type": "execute_result"
    }
   ],
   "source": [
    "sortedTrain.drop(labels=[3554, 30814])"
   ]
  },
  {
   "cell_type": "code",
   "execution_count": null,
   "metadata": {
    "collapsed": false
   },
   "outputs": [],
   "source": [
    "useTrainIdx = remove_same_news()\r\n",
    "len(useTrainIdx)"
   ]
  },
  {
   "cell_type": "code",
   "execution_count": null,
   "metadata": {
    "collapsed": false
   },
   "outputs": [],
   "source": [
    "true_text = []\r\n",
    "fake_text = []\r\n",
    "sortedTrain = sortedTrain.loc[useTrainIdx]\r\n",
    "for idx in useTrainIdx:\r\n",
    "    if sortedTrain[\"label\"][idx] == 0:\r\n",
    "        true_text.append(sortedTrain[\"text\"][idx])\r\n",
    "    else:\r\n",
    "        fake_text.append(sortedTrain[\"text\"][idx])"
   ]
  },
  {
   "cell_type": "code",
   "execution_count": null,
   "metadata": {
    "collapsed": false
   },
   "outputs": [],
   "source": [
    "len(true_text), len(fake_text)"
   ]
  },
  {
   "cell_type": "code",
   "execution_count": null,
   "metadata": {
    "collapsed": false
   },
   "outputs": [],
   "source": [
    "true_data = sortedTrain[sortedTrain['label'] == 0] \r\n",
    "fake_data = sortedTrain[sortedTrain['label'] == 1] "
   ]
  },
  {
   "cell_type": "code",
   "execution_count": null,
   "metadata": {
    "collapsed": false
   },
   "outputs": [],
   "source": [
    "len(true_data), len(fake_data)"
   ]
  },
  {
   "cell_type": "markdown",
   "metadata": {
    "collapsed": false
   },
   "source": [
    "#### **新闻文本情绪识别等**"
   ]
  },
  {
   "cell_type": "code",
   "execution_count": null,
   "metadata": {
    "collapsed": false
   },
   "outputs": [],
   "source": [
    "def cut_sentence(para):\r\n",
    "    para = re.sub('([。|！？\\?])([^”’])', r\"\\1\\n\\2\", para)  # 单字符断句符\r\n",
    "    para = re.sub('(\\.{6})([^”’])', r\"\\1\\n\\2\", para)  # 英文省略号\r\n",
    "    para = re.sub('(\\…{2})([^”’])', r\"\\1\\n\\2\", para)  # 中文省略号\r\n",
    "    para = re.sub('([。！？\\?][”’])([^，。！？\\?])', r'\\1\\n\\2', para)\r\n",
    "    para = para.rstrip()  # 段尾如果有多余的\\n就去掉它\r\n",
    "    return para.split(\"\\n\")\r\n",
    "\r\n",
    "from operator import itemgetter\r\n",
    "\r\n",
    "def emotion_classify(texts):\r\n",
    "    results = []\r\n",
    "    if len(texts)>0:\r\n",
    "        results = module.predict_sentiment(texts=texts, use_gpu=True)\r\n",
    "    return results\r\n",
    "\r\n",
    "\r\n",
    "def text_emotion_classify(texts):\r\n",
    "    results = []\r\n",
    "    positive_probs = 0\r\n",
    "    negative_probs = 0\r\n",
    "    sentences = cut_sentence(texts)\r\n",
    "    results = emotion_classify(texts=sentences)\r\n",
    "    if len(results)>0:\r\n",
    "        for result in results:\r\n",
    "            positive_probs += result['positive_probs']\r\n",
    "            negative_probs += result['negative_probs']\r\n",
    "        return positive_probs/len(results), negative_probs/len(results)\r\n",
    "    else:\r\n",
    "        return 0,0\r\n",
    "\r\n"
   ]
  },
  {
   "cell_type": "code",
   "execution_count": null,
   "metadata": {
    "collapsed": false
   },
   "outputs": [],
   "source": [
    "def get_probs_map(texts):\r\n",
    "    PosProbsMap = {}\r\n",
    "    NegProbsMap = {}\r\n",
    "    for text in texts:\r\n",
    "        positive_probs = 0\r\n",
    "        negative_probs = 0\r\n",
    "        sentences = cut_sentence(text)\r\n",
    "        results = emotion_classify(texts=sentences)\r\n",
    "        for result in results:\r\n",
    "            positive_probs += result['positive_probs']\r\n",
    "            negative_probs += result['negative_probs']\r\n",
    "        PosProbsMap[text] = positive_probs/len(results)\r\n",
    "        NegProbsMap[text] = negative_probs/len(results)\r\n",
    "        \r\n",
    "    return PosProbsMap,NegProbsMap"
   ]
  },
  {
   "cell_type": "code",
   "execution_count": null,
   "metadata": {
    "collapsed": false
   },
   "outputs": [],
   "source": [
    "truePosProbsMap, trueNegProbsMap = get_probs_map(true_text)\r\n",
    "fakePosProbsMap, fakeNegProbsMap = get_probs_map(fake_text)"
   ]
  },
  {
   "cell_type": "code",
   "execution_count": null,
   "metadata": {
    "collapsed": false
   },
   "outputs": [],
   "source": [
    "len(truePosProbsMap) + len(fakePosProbsMap), len(sortedTrain)"
   ]
  },
  {
   "cell_type": "code",
   "execution_count": null,
   "metadata": {
    "collapsed": false
   },
   "outputs": [],
   "source": [
    "sortedTrain[\"prob\"] = sortedTrain[\"text\"].apply(lambda x: text_emotion_classify(x))\r\n",
    "sortedTrain[[\"pos_prob\", \"neg_prob\"]] = sortedTrain[\"prob\"].apply(pd.Series)\r\n",
    "sortedTrain[[\"pos_prob\", \"neg_prob\"]]"
   ]
  },
  {
   "cell_type": "code",
   "execution_count": null,
   "metadata": {
    "collapsed": false
   },
   "outputs": [],
   "source": [
    "def drow_cdf(sample1, sample2, x=1.0, title=\"table\"):\r\n",
    "    ecdf1 = sm.distributions.ECDF(sample1)\r\n",
    "    ecdf2 = sm.distributions.ECDF(sample2)\r\n",
    "    x = np.linspace(0, x)\r\n",
    "    y1 = ecdf1(x)\r\n",
    "    y2 = ecdf2(x)\r\n",
    "    plt.title(title)\r\n",
    "    plt.plot(x, y1,label=\"true\")\r\n",
    "    plt.plot(x, y2,label=\"fake\")\r\n",
    "    plt.legend()\r\n",
    "    plt.show()\r\n",
    "    pd.DataFrame({'x':x,'true':y1,'fake':y2}).to_csv(title +'.csv')\r\n",
    "    return x, y1, y2"
   ]
  },
  {
   "cell_type": "code",
   "execution_count": null,
   "metadata": {
    "collapsed": false
   },
   "outputs": [
    {
     "data": {
      "image/png": "[encoded data removed]",
      "text/plain": [
       "<Figure size 432x288 with 1 Axes>"
      ]
     },
     "metadata": {},
     "output_type": "display_data"
    },
    {
     "data": {
      "image/png": "[encoded data removed]",
      "text/plain": [
       "<Figure size 432x288 with 1 Axes>"
      ]
     },
     "metadata": {},
     "output_type": "display_data"
    }
   ],
   "source": [
    "%matplotlib inline\r\n",
    "sortedTrain = pd.read_csv('use_train2.csv')\r\n",
    "true_data = sortedTrain[sortedTrain['label'] == 0] \r\n",
    "fake_data = sortedTrain[sortedTrain['label'] == 1] \r\n",
    "true_data.to_csv('true.csv')\r\n",
    "fake_data.to_csv('fake.csv')\r\n",
    "\r\n",
    "truePosData = true_data.pos_prob.values\r\n",
    "fakePosData = fake_data.pos_prob.values\r\n",
    "trueNegData = true_data.neg_prob.values\r\n",
    "fakeNegData = fake_data.neg_prob.values\r\n",
    "\r\n",
    "x,y1,y2 = drow_cdf(truePosData,fakePosData, title=\"postive\")\r\n",
    "x,y3,y4 = drow_cdf(trueNegData,fakeNegData, title=\"negative\")\r\n",
    "pd.DataFrame({0:x,'true':y1,'fake':y2,'true2':y3,'fake2':y4}).to_csv('emotion.csv')\r\n",
    "\r\n",
    "# drow_cdf(trueNegData,\"trueNegData\")\r\n",
    "# drow_cdf(fakeNegData,\"fakeNegData\")\r\n",
    "# plt.show()\r\n",
    "\r\n",
    "# drow_cdf(trueNeuData,\"trueNeuData\")\r\n",
    "# drow_cdf(fakeNeuData,\"fakeNeuData\")\r\n",
    "# plt.show()"
   ]
  },
  {
   "cell_type": "code",
   "execution_count": null,
   "metadata": {
    "collapsed": false
   },
   "outputs": [
    {
     "data": {
      "text/plain": [
       "(array([0.08225932, 0.4035285 , 0.29553719, ..., 0.40809671, 0.395825  ,\n",
       "        0.63065654]),)"
      ]
     },
     "execution_count": null,
     "metadata": {},
     "output_type": "execute_result"
    }
   ],
   "source": []
  },
  {
   "cell_type": "markdown",
   "metadata": {
    "collapsed": false
   },
   "source": [
    "#### **问号、感叹号数量特征、新闻长度**"
   ]
  },
  {
   "cell_type": "code",
   "execution_count": null,
   "metadata": {
    "collapsed": false
   },
   "outputs": [],
   "source": [
    "def count_question_mark(text):\r\n",
    "    return text.count(\"?\")+text.count(\"？\")\r\n",
    "\r\n",
    "def count_exclamatory_mark(text):\r\n",
    "    return text.count(\"!\")+text.count(\"！\")\r\n",
    "\r\n",
    "def count_emoji(text):\r\n",
    "    return emoji.emoji_count(text)\r\n",
    "\r\n",
    "\r\n",
    "def count_syb_lenth(text, l = r\"[【].*?[】]\"):     \r\n",
    "    flag = 0\r\n",
    "    titles = re.findall(l, text)\r\n",
    "    for title in titles:\r\n",
    "        flag += len(title)\r\n",
    "    return flag\r\n",
    "\r\n",
    "def count_hash_tag_num(text):\r\n",
    "    hashtag = re.findall(r\"[#].*?[#]\", text)\r\n",
    "    return len(hashtag)\r\n",
    "\r\n",
    "\r\n",
    "def get_mark(texts):\r\n",
    "    quesList=[]\r\n",
    "    excList=[]\r\n",
    "    emojiList=[]\r\n",
    "    titleLen = []\r\n",
    "    hashTag = []\r\n",
    "    hashTagNum = []\r\n",
    "    for text in texts:\r\n",
    "        quesList.append(count_question_mark(text)/len(text))\r\n",
    "        excList.append(count_exclamatory_mark(text)/len(text))\r\n",
    "        emojiList.append(count_emoji(text)/len(text))\r\n",
    "        titleLen.append(count_syb_lenth(text))\r\n",
    "        hashTag.append(count_syb_lenth(text, r\"[#].*?[#]\"))\r\n",
    "        hashTagNum.append(count_hash_tag_num(text))\r\n",
    "    return quesList, excList, emojiList, titleLen, hashTag, hashTagNum\r\n"
   ]
  },
  {
   "cell_type": "code",
   "execution_count": null,
   "metadata": {
    "collapsed": false
   },
   "outputs": [],
   "source": [
    "trueQueMap, trueExcMap, trueEmoji, trueTitleLen, trueHashTagLen, trueHashTagNum = get_mark(true_data['text'])\r\n",
    "fakeQueMap, fakeExcMap, fakeEmoji, fakeTitleLen, fakeHashTagLen, fakeHashTagNum = get_mark(fake_data['text'])"
   ]
  },
  {
   "cell_type": "code",
   "execution_count": null,
   "metadata": {
    "collapsed": false
   },
   "outputs": [
    {
     "data": {
      "image/png": "[encoded data removed]",
      "text/plain": [
       "<Figure size 432x288 with 1 Axes>"
      ]
     },
     "metadata": {},
     "output_type": "display_data"
    },
    {
     "data": {
      "image/png": "[encoded data removed]",
      "text/plain": [
       "<Figure size 432x288 with 1 Axes>"
      ]
     },
     "metadata": {},
     "output_type": "display_data"
    },
    {
     "data": {
      "image/png": "[encoded data removed]",
      "text/plain": [
       "<Figure size 432x288 with 1 Axes>"
      ]
     },
     "metadata": {},
     "output_type": "display_data"
    },
    {
     "data": {
      "image/png": "[encoded data removed]",
      "text/plain": [
       "<Figure size 432x288 with 1 Axes>"
      ]
     },
     "metadata": {},
     "output_type": "display_data"
    },
    {
     "data": {
      "image/png": "[encoded data removed]",
      "text/plain": [
       "<Figure size 432x288 with 1 Axes>"
      ]
     },
     "metadata": {},
     "output_type": "display_data"
    },
    {
     "data": {
      "image/png": "[encoded data removed]",
      "text/plain": [
       "<Figure size 432x288 with 1 Axes>"
      ]
     },
     "metadata": {},
     "output_type": "display_data"
    },
    {
     "data": {
      "text/plain": [
       "(array([ 0.        ,  0.30612245,  0.6122449 ,  0.91836735,  1.2244898 ,\n",
       "         1.53061224,  1.83673469,  2.14285714,  2.44897959,  2.75510204,\n",
       "         3.06122449,  3.36734694,  3.67346939,  3.97959184,  4.28571429,\n",
       "         4.59183673,  4.89795918,  5.20408163,  5.51020408,  5.81632653,\n",
       "         6.12244898,  6.42857143,  6.73469388,  7.04081633,  7.34693878,\n",
       "         7.65306122,  7.95918367,  8.26530612,  8.57142857,  8.87755102,\n",
       "         9.18367347,  9.48979592,  9.79591837, 10.10204082, 10.40816327,\n",
       "        10.71428571, 11.02040816, 11.32653061, 11.63265306, 11.93877551,\n",
       "        12.24489796, 12.55102041, 12.85714286, 13.16326531, 13.46938776,\n",
       "        13.7755102 , 14.08163265, 14.3877551 , 14.69387755, 15.        ]),\n",
       " array([0.65101721, 0.65101721, 0.65101721, 0.65101721, 0.90571205,\n",
       "        0.90571205, 0.90571205, 0.96058294, 0.96058294, 0.96058294,\n",
       "        0.98151408, 0.98151408, 0.98151408, 0.98151408, 0.98914319,\n",
       "        0.98914319, 0.98914319, 0.99393584, 0.99393584, 0.99393584,\n",
       "        0.99579421, 0.99579421, 0.99579421, 0.9967723 , 0.9967723 ,\n",
       "        0.9967723 , 0.9967723 , 0.99755477, 0.99755477, 0.99755477,\n",
       "        0.99833725, 0.99833725, 0.99833725, 0.99872848, 0.99872848,\n",
       "        0.99872848, 0.99931534, 0.99931534, 0.99931534, 0.99931534,\n",
       "        0.99941315, 0.99941315, 0.99941315, 0.99941315, 0.99941315,\n",
       "        0.99941315, 0.99951095, 0.99951095, 0.99951095, 0.99951095]),\n",
       " array([0.82409148, 0.82409148, 0.82409148, 0.82409148, 0.97070802,\n",
       "        0.97070802, 0.97070802, 0.99232456, 0.99232456, 0.99232456,\n",
       "        0.99780702, 0.99780702, 0.99780702, 0.99780702, 0.99890351,\n",
       "        0.99890351, 0.99890351, 0.99937343, 0.99937343, 0.99937343,\n",
       "        0.99968672, 0.99968672, 0.99968672, 1.        , 1.        ,\n",
       "        1.        , 1.        , 1.        , 1.        , 1.        ,\n",
       "        1.        , 1.        , 1.        , 1.        , 1.        ,\n",
       "        1.        , 1.        , 1.        , 1.        , 1.        ,\n",
       "        1.        , 1.        , 1.        , 1.        , 1.        ,\n",
       "        1.        , 1.        , 1.        , 1.        , 1.        ]))"
      ]
     },
     "execution_count": null,
     "metadata": {},
     "output_type": "execute_result"
    }
   ],
   "source": [
    "%matplotlib inline\r\n",
    "\r\n",
    "drow_cdf(trueQueMap, fakeQueMap, 0.1, \"Proportion of question mark\")\r\n",
    "drow_cdf(trueExcMap, fakeExcMap, 0.2, \"Proportion of exclamatory mark\")\r\n",
    "drow_cdf(trueEmoji, fakeEmoji, 0.4, \"Proportion of emoji\")\r\n",
    "drow_cdf(trueTitleLen, fakeTitleLen, 50, \"Length of title\")\r\n",
    "drow_cdf(trueHashTagLen, fakeHashTagLen, 50, \"Length of HashTag\")\r\n",
    "drow_cdf(trueHashTagNum, fakeHashTagNum, 15, \"Number of HashTag\")\r\n"
   ]
  },
  {
   "cell_type": "code",
   "execution_count": null,
   "metadata": {
    "collapsed": false
   },
   "outputs": [],
   "source": []
  },
  {
   "cell_type": "code",
   "execution_count": null,
   "metadata": {
    "collapsed": false
   },
   "outputs": [],
   "source": [
    "sortedTrain[\"question_mark\"] = sortedTrain[\"text\"].apply(lambda x: count_question_mark(x)/len(x))\r\n",
    "sortedTrain[\"exclamatory_mark\"] = sortedTrain[\"text\"].apply(lambda x: count_exclamatory_mark(x)/len(x))\r\n",
    "sortedTrain[\"emoji_num\"] = sortedTrain[\"text\"].apply(lambda x: count_emoji(x)/len(x))\r\n",
    "sortedTrain[\"title_len\"] = sortedTrain[\"text\"].apply(lambda x: count_syb_lenth(x))\r\n",
    "sortedTrain[\"hash_tag_len\"] = sortedTrain[\"text\"].apply(lambda x: count_syb_lenth(x, r\"[【].*?[】]\"))\r\n",
    "sortedTrain[\"hash_tag_num\"] = sortedTrain[\"text\"].apply(lambda x: count_hash_tag_num(x))\r\n",
    "sortedTrain.fillna(-1)"
   ]
  },
  {
   "cell_type": "code",
   "execution_count": null,
   "metadata": {
    "collapsed": false
   },
   "outputs": [],
   "source": [
    "sortedTrain.columns"
   ]
  },
  {
   "cell_type": "code",
   "execution_count": null,
   "metadata": {
    "collapsed": false
   },
   "outputs": [],
   "source": [
    "sortedTrain.to_csv(\"use_train.csv\")"
   ]
  },
  {
   "cell_type": "code",
   "execution_count": null,
   "metadata": {
    "collapsed": false
   },
   "outputs": [],
   "source": [
    "len(sortedTrain), len(sortedTrain2)"
   ]
  },
  {
   "cell_type": "markdown",
   "metadata": {
    "collapsed": false
   },
   "source": [
    "#### **图片特征**\n"
   ]
  },
  {
   "cell_type": "code",
   "execution_count": null,
   "metadata": {
    "collapsed": false
   },
   "outputs": [],
   "source": [
    "use = ['category', 'clean_text', 'emoji_num', 'exclamatory_mark',\r\n",
    "       'exifinfo_count', 'h', 'hash_tag_len', 'hash_tag_num', 'l', 'l*h',\r\n",
    "       'l*h-1mean', 'l*h-1median', 'l/h', 'label', 'neg_prob', 'num_url',\r\n",
    "       'pic_num', 'piclist', 'pos_prob', 'question_mark', 'size', 'text',\r\n",
    "       'title_len', 'userDescription', 'userFansCount', 'userFollowCount',\r\n",
    "       'userGender', 'userLocation', 'userWeiboCount']\r\n",
    "sortedTrain = sortedTrain[use]\r\n",
    "sortedTrain = sortedTrain.fillna(-1)\r\n",
    "sortedTrain.head().to_csv(\"1.csv\")\r\n",
    "sortedTrain.to_csv(\"use_train.csv\")"
   ]
  },
  {
   "cell_type": "code",
   "execution_count": null,
   "metadata": {
    "collapsed": false
   },
   "outputs": [],
   "source": [
    "import pandas as pd\r\n",
    "sortedTrain = pd.read_csv(\"use_train.csv\")\r\n",
    "list(sortedTrain.head(7)[\"piclist\"])"
   ]
  },
  {
   "cell_type": "code",
   "execution_count": null,
   "metadata": {
    "collapsed": false
   },
   "outputs": [],
   "source": [
    "def pic_num(x):\r\n",
    "    if x == \"-1\":\r\n",
    "        return 0\r\n",
    "    else:\r\n",
    "        num = len(str(x).split(\"\\t\"))\r\n",
    "        return num"
   ]
  },
  {
   "cell_type": "code",
   "execution_count": null,
   "metadata": {
    "collapsed": false
   },
   "outputs": [],
   "source": [
    "sortedTrain[\"pic_num\"] = sortedTrain[\"piclist\"].apply(lambda x: pic_num(x))\r\n",
    "sortedTrain[\"pic_num\"].mean()"
   ]
  },
  {
   "cell_type": "code",
   "execution_count": null,
   "metadata": {
    "collapsed": false
   },
   "outputs": [
    {
     "data": {
      "image/png": "[encoded data removed]",
      "text/plain": [
       "<Figure size 432x288 with 1 Axes>"
      ]
     },
     "metadata": {},
     "output_type": "display_data"
    },
    {
     "data": {
      "text/plain": [
       "(397.2784157879375, 233.34449690694993)"
      ]
     },
     "execution_count": null,
     "metadata": {},
     "output_type": "execute_result"
    }
   ],
   "source": [
    "true_data = sortedTrain[sortedTrain['label'] == 0] \r\n",
    "fake_data = sortedTrain[sortedTrain['label'] == 1] \r\n",
    "\r\n",
    "truePicNum = true_data.l.values\r\n",
    "fakePicNum = fake_data.l.values\r\n",
    "\r\n",
    "\r\n",
    "drow_cdf(truePicNum,fakePicNum, 2200, title=\"length\")\r\n",
    "np.mean(truePicNum),np.mean(fakePicNum)"
   ]
  },
  {
   "cell_type": "code",
   "execution_count": null,
   "metadata": {
    "collapsed": false
   },
   "outputs": [],
   "source": [
    "sortedTrain = pd.concat([sortedTrain, pd.DataFrame(columns=['l', 'h', 'size', 'exifinfo_count', 'l*h', 'l/h', 'l*h-1mean', 'l*h-1median'])])"
   ]
  },
  {
   "cell_type": "code",
   "execution_count": null,
   "metadata": {
    "collapsed": false
   },
   "outputs": [],
   "source": [
    "import cv2\r\n",
    "from scipy import fftpack as fftp\r\n",
    "import imageio\r\n",
    " \r\n",
    "def readImg(im_fn):\r\n",
    "    im = cv2.imread(im_fn)\r\n",
    "    if im is None :\r\n",
    "        print('{} cv2.imread failed'.format(im_fn))\r\n",
    "        tmp = imageio.mimread(im_fn)\r\n",
    "        if tmp is not None:\r\n",
    "            imt = np.array(tmp)\r\n",
    "            imt = imt[0]\r\n",
    "            im = imt[:,:,0:3]\r\n",
    "    return im\r\n",
    "\r\n",
    "def double_compressed(image_path):\r\n",
    "    thres = 0.5\r\n",
    "    image = readImg(image_path)\r\n",
    "\r\n",
    "    shape = image.shape\r\n",
    "\r\n",
    "    if shape[0] % 8 != 0:\r\n",
    "        dct_rows = shape[0] + 8 - shape[0] % 8;\r\n",
    "    else:\r\n",
    "        dct_rows = shape[0];\r\n",
    "    if shape[1] % 8 != 0:\r\n",
    "        dct_cols = shape[1] + 8 - shape[1] % 8;\r\n",
    "    else:\r\n",
    "        dct_cols = shape[1];\r\n",
    "    dct_image = np.zeros((dct_rows, dct_cols, 3), np.uint8)\r\n",
    "    dct_image[0:shape[0], 0:shape[1]] = image\r\n",
    "\r\n",
    "    y = cv2.cvtColor(dct_image, cv2.COLOR_BGR2YCR_CB)[:, :, 0]\r\n",
    "\r\n",
    "    w = y.shape[1]\r\n",
    "    h = y.shape[0]\r\n",
    "\r\n",
    "    Y = y.reshape(h // 8, 8, -1, 8).swapaxes(1, 2).reshape(-1, 8, 8)\r\n",
    "\r\n",
    "    qDCT = []\r\n",
    "    for i in range(0, Y.shape[0]):\r\n",
    "        qDCT.append(cv2.dct(np.float32(Y[i])))\r\n",
    "\r\n",
    "    qDCT = np.asarray(qDCT, dtype=np.float32)\r\n",
    "\r\n",
    "    qDCT = np.rint(qDCT - np.mean(qDCT, axis=0)).astype(np.int32)\r\n",
    "    k = 0\r\n",
    "    image_peak_counts = []\r\n",
    "    for idx in range(64):\r\n",
    "        k += 1\r\n",
    "        data = qDCT[:, int(idx / 8), int(idx % 8)]\r\n",
    "        val, key = np.histogram(data, bins=np.arange(data.min(), data.max() + 1), normed=True)\r\n",
    "        z = np.absolute(fftp.fft(val))\r\n",
    "        z = np.reshape(z, (len(z), 1))\r\n",
    "        rotz = np.roll(z, int(len(z) / 2))\r\n",
    "        slope = rotz[1:] - rotz[:-1]\r\n",
    "        indices = [i + 1 for i in range(len(slope) - 1) if slope[i] > 0 and slope[i + 1] < 0]\r\n",
    "        peak_count = 0\r\n",
    "\r\n",
    "        for j in indices:\r\n",
    "            if rotz[j][0] > thres:\r\n",
    "                peak_count += 1\r\n",
    "        image_peak_counts.append(peak_count)\r\n",
    "    return image_peak_counts\r\n"
   ]
  },
  {
   "cell_type": "code",
   "execution_count": null,
   "metadata": {
    "collapsed": false
   },
   "outputs": [],
   "source": [
    "double_compressed(\"dataset/truth_pic/4986dc2a5f09a87c7af5dfc57d7775cd.jpg\")"
   ]
  },
  {
   "cell_type": "code",
   "execution_count": null,
   "metadata": {
    "collapsed": false
   },
   "outputs": [],
   "source": [
    "data = []\r\n",
    "\r\n",
    "errorIamge = [\"71448fae0e082172abbc9d618533c4ad.jpg\"]\r\n",
    "\r\n",
    "lengths, highs, ss, exifinfo_counts = [], [], [], []\r\n",
    "for i, row in sortedTrain.iterrows():\r\n",
    "    picPath = []\r\n",
    "    picName = []\r\n",
    "    length, high, s, exifinfo_count, peak_count = 0, 0, 0, 0, 0\r\n",
    "    if row[\"piclist\"] == \"-1\":\r\n",
    "        highs.append(0)\r\n",
    "        ss.append(0)\r\n",
    "        exifinfo_counts.append(0)\r\n",
    "        lengths.append(0)\r\n",
    "    else:\r\n",
    "        picName = row[\"piclist\"].split(\"\\t\")\r\n",
    "        if row[\"label\"] == 0:\r\n",
    "            for path in picName:\r\n",
    "                if path not in errorIamge:\r\n",
    "                    picPath.append(os.path.join(\"dataset/truth_pic\",path))\r\n",
    "        if row[\"label\"] == 1:\r\n",
    "            for path in picName:\r\n",
    "                if path not in errorIamge:\r\n",
    "                    picPath.append(os.path.join(\"dataset/rumor_pic\",path))\r\n",
    "\r\n",
    "\r\n",
    "        for path in picPath:\r\n",
    "            s += os.path.getsize(path)\r\n",
    "            img = Image.open(path)\r\n",
    "\r\n",
    "            if hasattr(img, '_getexif'):\r\n",
    "                try:\r\n",
    "                    exifinfo = img._getexif()\r\n",
    "                    if exifinfo != None:\r\n",
    "                        exifinfo_count += len(exifinfo)\r\n",
    "                except:\r\n",
    "                    pass\r\n",
    "\r\n",
    "            l, h = img.size\r\n",
    "            length += l\r\n",
    "            high += h\r\n",
    "        highs.append(high/len(picPath))\r\n",
    "        ss.append(s/len(picPath))\r\n",
    "        exifinfo_counts.append(exifinfo_count/len(picPath))\r\n",
    "        lengths.append(length/len(picPath))"
   ]
  },
  {
   "cell_type": "code",
   "execution_count": null,
   "metadata": {
    "collapsed": false
   },
   "outputs": [],
   "source": [
    "sortedTrain[\"l\"]=pd.Series(lengths)\r\n",
    "sortedTrain[\"h\"]=pd.Series(highs)\r\n",
    "sortedTrain[\"size\"]=pd.Series(ss)\r\n",
    "sortedTrain[\"exifinfo_count\"]=pd.Series(exifinfo_counts)\r\n",
    "sortedTrain.head().to_csv(\"1.csv\")"
   ]
  },
  {
   "cell_type": "code",
   "execution_count": null,
   "metadata": {
    "collapsed": false
   },
   "outputs": [],
   "source": [
    "len(highs), len(sortedTrain)"
   ]
  },
  {
   "cell_type": "code",
   "execution_count": null,
   "metadata": {
    "collapsed": false
   },
   "outputs": [
    {
     "data": {
      "image/png": "[encoded data removed]",
      "text/plain": [
       "<Figure size 432x288 with 1 Axes>"
      ]
     },
     "metadata": {},
     "output_type": "display_data"
    },
    {
     "data": {
      "image/png": "[encoded data removed]",
      "text/plain": [
       "<Figure size 432x288 with 1 Axes>"
      ]
     },
     "metadata": {},
     "output_type": "display_data"
    },
    {
     "data": {
      "image/png": "[encoded data removed]",
      "text/plain": [
       "<Figure size 432x288 with 1 Axes>"
      ]
     },
     "metadata": {},
     "output_type": "display_data"
    },
    {
     "data": {
      "image/png": "[encoded data removed]",
      "text/plain": [
       "<Figure size 432x288 with 1 Axes>"
      ]
     },
     "metadata": {},
     "output_type": "display_data"
    },
    {
     "data": {
      "image/png": "[encoded data removed]",
      "text/plain": [
       "<Figure size 432x288 with 1 Axes>"
      ]
     },
     "metadata": {},
     "output_type": "display_data"
    },
    {
     "data": {
      "text/plain": [
       "(array([       0.        ,   306122.44897959,   612244.89795918,\n",
       "          918367.34693878,  1224489.79591837,  1530612.24489796,\n",
       "         1836734.69387755,  2142857.14285714,  2448979.59183673,\n",
       "         2755102.04081633,  3061224.48979592,  3367346.93877551,\n",
       "         3673469.3877551 ,  3979591.83673469,  4285714.28571429,\n",
       "         4591836.73469388,  4897959.18367347,  5204081.63265306,\n",
       "         5510204.08163265,  5816326.53061225,  6122448.97959184,\n",
       "         6428571.42857143,  6734693.87755102,  7040816.32653061,\n",
       "         7346938.7755102 ,  7653061.2244898 ,  7959183.67346939,\n",
       "         8265306.12244898,  8571428.57142857,  8877551.02040816,\n",
       "         9183673.46938775,  9489795.91836735,  9795918.36734694,\n",
       "        10102040.81632653, 10408163.26530612, 10714285.71428571,\n",
       "        11020408.16326531, 11326530.6122449 , 11632653.06122449,\n",
       "        11938775.51020408, 12244897.95918367, 12551020.40816326,\n",
       "        12857142.85714286, 13163265.30612245, 13469387.75510204,\n",
       "        13775510.20408163, 14081632.65306122, 14387755.10204082,\n",
       "        14693877.55102041, 15000000.        ]),\n",
       " array([0.        , 0.48013699, 0.72191781, 0.80410959, 0.85393836,\n",
       "        0.90599315, 0.93287671, 0.94743151, 0.95325342, 0.96010274,\n",
       "        0.96712329, 0.97054795, 0.97226027, 0.975     , 0.97705479,\n",
       "        0.97808219, 0.97928082, 0.97996575, 0.98099315, 0.98304795,\n",
       "        0.98339041, 0.98476027, 0.98544521, 0.98630137, 0.98664384,\n",
       "        0.9875    , 0.98784247, 0.98955479, 0.98989726, 0.99006849,\n",
       "        0.99058219, 0.99109589, 0.99109589, 0.99143836, 0.99143836,\n",
       "        0.99212329, 0.99263699, 0.99297945, 0.99349315, 0.99486301,\n",
       "        0.99640411, 0.99743151, 0.99743151, 0.99794521, 0.99794521,\n",
       "        0.99811644, 0.99828767, 0.9984589 , 0.9984589 , 0.99863014]),\n",
       " array([0.        , 0.79586172, 0.96391623, 0.99520565, 0.99798133,\n",
       "        0.99823366, 0.99899066, 0.99899066, 0.99949533, 0.99949533,\n",
       "        0.99949533, 0.99949533, 0.99949533, 0.99949533, 0.99949533,\n",
       "        0.99974767, 0.99974767, 0.99974767, 0.99974767, 0.99974767,\n",
       "        0.99974767, 0.99974767, 0.99974767, 0.99974767, 1.        ,\n",
       "        1.        , 1.        , 1.        , 1.        , 1.        ,\n",
       "        1.        , 1.        , 1.        , 1.        , 1.        ,\n",
       "        1.        , 1.        , 1.        , 1.        , 1.        ,\n",
       "        1.        , 1.        , 1.        , 1.        , 1.        ,\n",
       "        1.        , 1.        , 1.        , 1.        , 1.        ]))"
      ]
     },
     "execution_count": null,
     "metadata": {},
     "output_type": "execute_result"
    }
   ],
   "source": [
    "true_data = sortedTrain[sortedTrain['label'] == 0] \r\n",
    "fake_data = sortedTrain[sortedTrain['label'] == 1] \r\n",
    "\r\n",
    "truePicLen = true_data.l.values\r\n",
    "fakePicLen = fake_data.l.values\r\n",
    "truePicHeigh = true_data.h.values\r\n",
    "fakePicHeigh = fake_data.h.values\r\n",
    "truePicSize = true_data[\"size\"].values\r\n",
    "fakePicSize = fake_data[\"size\"].values\r\n",
    "truePicExif = true_data[\"exifinfo_count\"].values\r\n",
    "fakePicExif = fake_data[\"exifinfo_count\"].values\r\n",
    "\r\n",
    "\r\n",
    "drow_cdf(truePicLen,fakePicLen, x=3000, title=\"pic_width\")\r\n",
    "drow_cdf(truePicHeigh,fakePicHeigh, x=5000, title=\"pic_heigh\")\r\n",
    "drow_cdf(truePicSize/1024,fakePicSize/1024, x=2000000/1024, title=\"pic_size\")\r\n",
    "drow_cdf(truePicExif,fakePicExif, x=80 , title=\"exifinfo_count\")\r\n",
    "drow_cdf(truePicLen*truePicHeigh,fakePicLen*fakePicHeigh, x=3000*5000, title=\"pic_l*h\")\r\n"
   ]
  },
  {
   "cell_type": "code",
   "execution_count": null,
   "metadata": {
    "collapsed": false
   },
   "outputs": [
    {
     "data": {
      "image/png": "[encoded data removed]",
      "text/plain": [
       "<Figure size 432x288 with 1 Axes>"
      ]
     },
     "metadata": {},
     "output_type": "display_data"
    },
    {
     "data": {
      "image/png": "[encoded data removed]",
      "text/plain": [
       "<Figure size 432x288 with 1 Axes>"
      ]
     },
     "metadata": {},
     "output_type": "display_data"
    },
    {
     "data": {
      "image/png": "[encoded data removed]",
      "text/plain": [
       "<Figure size 432x288 with 1 Axes>"
      ]
     },
     "metadata": {},
     "output_type": "display_data"
    },
    {
     "data": {
      "text/plain": [
       "(array([     0.        ,   4081.63265306,   8163.26530612,  12244.89795918,\n",
       "         16326.53061224,  20408.16326531,  24489.79591837,  28571.42857143,\n",
       "         32653.06122449,  36734.69387755,  40816.32653061,  44897.95918367,\n",
       "         48979.59183673,  53061.2244898 ,  57142.85714286,  61224.48979592,\n",
       "         65306.12244898,  69387.75510204,  73469.3877551 ,  77551.02040816,\n",
       "         81632.65306122,  85714.28571429,  89795.91836735,  93877.55102041,\n",
       "         97959.18367347, 102040.81632653, 106122.44897959, 110204.08163265,\n",
       "        114285.71428571, 118367.34693878, 122448.97959184, 126530.6122449 ,\n",
       "        130612.24489796, 134693.87755102, 138775.51020408, 142857.14285714,\n",
       "        146938.7755102 , 151020.40816327, 155102.04081633, 159183.67346939,\n",
       "        163265.30612245, 167346.93877551, 171428.57142857, 175510.20408163,\n",
       "        179591.83673469, 183673.46938776, 187755.10204082, 191836.73469388,\n",
       "        195918.36734694, 200000.        ]),\n",
       " array([0.01946401, 0.52552817, 0.63380282, 0.69874804, 0.74735915,\n",
       "        0.78521127, 0.8125    , 0.83470266, 0.85250391, 0.86668623,\n",
       "        0.8803795 , 0.89104069, 0.90316901, 0.91363459, 0.92263302,\n",
       "        0.92938185, 0.93495696, 0.94082551, 0.94659624, 0.95217136,\n",
       "        0.95715962, 0.9611698 , 0.96488654, 0.96909233, 0.97349374,\n",
       "        0.97554773, 0.97838419, 0.98102504, 0.98307903, 0.98483959,\n",
       "        0.98640454, 0.9881651 , 0.99041471, 0.99149061, 0.99256651,\n",
       "        0.99383803, 0.99481612, 0.99540297, 0.99618545, 0.99667449,\n",
       "        0.99716354, 0.99735915, 0.99755477, 0.9978482 , 0.9978482 ,\n",
       "        0.9978482 , 0.99833725, 0.99833725, 0.99833725, 0.99833725]),\n",
       " array([0.00767544, 0.75689223, 0.83897243, 0.88533835, 0.91024436,\n",
       "        0.92716165, 0.94000627, 0.95003133, 0.9570802 , 0.96318922,\n",
       "        0.96663534, 0.9691416 , 0.97556391, 0.97791353, 0.98104637,\n",
       "        0.98261278, 0.98433584, 0.98715539, 0.98825188, 0.98903509,\n",
       "        0.9898183 , 0.9906015 , 0.99169799, 0.99216792, 0.9924812 ,\n",
       "        0.99310777, 0.99326441, 0.99373434, 0.99467419, 0.99498747,\n",
       "        0.99561404, 0.99608396, 0.9962406 , 0.99655388, 0.99655388,\n",
       "        0.99655388, 0.99686717, 0.99686717, 0.99702381, 0.99718045,\n",
       "        0.99749373, 0.99765038, 0.99765038, 0.99780702, 0.99796366,\n",
       "        0.9981203 , 0.9981203 , 0.9981203 , 0.99827694, 0.99827694]))"
      ]
     },
     "execution_count": null,
     "metadata": {},
     "output_type": "execute_result"
    }
   ],
   "source": [
    "sortedTrain = pd.read_csv('use_train2.csv')\r\n",
    "\r\n",
    "true_data = sortedTrain[sortedTrain['label'] == 0] \r\n",
    "fake_data = sortedTrain[sortedTrain['label'] == 1] \r\n",
    "trueuserFansCount = true_data[\"userFansCount\"].values\r\n",
    "fakeuserFansCount = fake_data[\"userFansCount\"].values\r\n",
    "trueuserFollowCount = true_data[\"userFollowCount\"].values\r\n",
    "fakeuserFollowCount = fake_data[\"userFollowCount\"].values\r\n",
    "trueuserWeiboCount = true_data[\"userWeiboCount\"].values\r\n",
    "fakeuserWeiboCount = fake_data[\"userWeiboCount\"].values\r\n",
    "\r\n",
    "drow_cdf(trueuserFansCount/1000000,fakeuserFansCount/1000000, x=20, title=\"userFansCount\")\r\n",
    "drow_cdf(trueuserFollowCount,fakeuserFollowCount, x=5000, title=\"userFollowCount\")\r\n",
    "drow_cdf(trueuserWeiboCount,fakeuserWeiboCount, x=200000, title=\"userWeiboCount\")"
   ]
  },
  {
   "cell_type": "code",
   "execution_count": null,
   "metadata": {
    "collapsed": false
   },
   "outputs": [
    {
     "data": {
      "text/plain": [
       "0          641.0\n",
       "2         2450.0\n",
       "7           96.0\n",
       "8         1633.0\n",
       "10       37919.0\n",
       "          ...   \n",
       "16603      628.0\n",
       "16604     2159.0\n",
       "16605     1788.0\n",
       "16606      174.0\n",
       "16607     1225.0\n",
       "Name: userWeiboCount, Length: 6384, dtype: float64"
      ]
     },
     "execution_count": null,
     "metadata": {},
     "output_type": "execute_result"
    }
   ],
   "source": [
    "fake_data[\"userWeiboCount\"]"
   ]
  },
  {
   "cell_type": "code",
   "execution_count": null,
   "metadata": {
    "collapsed": false
   },
   "outputs": [],
   "source": [
    "errorIamge = [\"71448fae0e082172abbc9d618533c4ad.jpg\", \"3deb397d5eec692e7b9e08880b264927.gif\", \"99bceb0f305537eae98b35ec6dd551bb.jpg\"]\r\n",
    "\r\n",
    "NullPicDCT = [0]*64\r\n",
    "        "
   ]
  },
  {
   "cell_type": "code",
   "execution_count": null,
   "metadata": {
    "collapsed": false
   },
   "outputs": [],
   "source": [
    "import os\r\n",
    "def dct(piclist):\r\n",
    "    NullPicDCT = [0]*64\r\n",
    "    peak_counts = []\r\n",
    "    if piclist == \"-1\":\r\n",
    "        return NullPicDCT\r\n",
    "    else:\r\n",
    "        picName = piclist.split(\"\\t\")[0]\r\n",
    "        path = os.path.join(\"dataset/truth_pic\", picName)\r\n",
    "        if not os.path.exists(path):\r\n",
    "            path = os.path.join(\"dataset/rumor_pic/\", picName)\r\n",
    "        try:\r\n",
    "            peak_count = double_compressed(path)\r\n",
    "            return peak_count\r\n",
    "        except Exception as e:\r\n",
    "            print(e)\r\n",
    "            return NullPicDCT\r\n",
    "           \r\n",
    "        "
   ]
  },
  {
   "cell_type": "code",
   "execution_count": null,
   "metadata": {
    "collapsed": false
   },
   "outputs": [],
   "source": [
    "# len(image_peak_counts_total)\r\n",
    "sortedTrain[\"dct\"] = sortedTrain[\"piclist\"].apply(lambda x : dct(x))"
   ]
  },
  {
   "cell_type": "code",
   "execution_count": null,
   "metadata": {
    "collapsed": false
   },
   "outputs": [],
   "source": [
    "sortedTrain[\"dct\"]"
   ]
  },
  {
   "cell_type": "code",
   "execution_count": null,
   "metadata": {
    "collapsed": false
   },
   "outputs": [],
   "source": [
    "col = [\"dct_{}\".format(i) for i in range(64)]\r\n",
    "sortedTrain[col] = sortedTrain['dct'].apply(pd.Series)"
   ]
  },
  {
   "cell_type": "code",
   "execution_count": null,
   "metadata": {
    "collapsed": false
   },
   "outputs": [],
   "source": [
    "sortedTrain.head(7).to_csv(\"1.csv\")\r\n",
    "sortedTrain.to_csv(\"use_train2.csv\")"
   ]
  },
  {
   "cell_type": "code",
   "execution_count": null,
   "metadata": {
    "collapsed": false
   },
   "outputs": [],
   "source": [
    "sortedTrain = pd.read_csv('use_train2.csv')"
   ]
  },
  {
   "cell_type": "markdown",
   "metadata": {
    "collapsed": false
   },
   "source": [
    "# 图片分类、文字识别"
   ]
  },
  {
   "cell_type": "code",
   "execution_count": null,
   "metadata": {
    "collapsed": false
   },
   "outputs": [],
   "source": [
    "import requests \r\n",
    "\r\n",
    "# client_id 为官网获取的AK， client_secret 为官网获取的SK\r\n",
    "host = 'https://aip.baidubce.com/oauth/2.0/token?grant_type=client_credentials&client_id=pV74Dh6xTG1z34NtSZDaldrL&client_secret=lBUpfYfU0koAw0RMYwdKE98I8NsnBrLT'\r\n",
    "response = requests.get(host)\r\n",
    "if response:\r\n",
    "    print(response.json())\r\n",
    "response.json()['access_token']"
   ]
  },
  {
   "cell_type": "code",
   "execution_count": null,
   "metadata": {
    "collapsed": false
   },
   "outputs": [],
   "source": [
    "import requests\r\n",
    "import base64\r\n",
    "\r\n",
    "'''\r\n",
    "通用物体和场景识别\r\n",
    "'''\r\n",
    "\r\n",
    "request_url = \"https://aip.baidubce.com/rest/2.0/image-classify/v2/advanced_general\"\r\n",
    "# 二进制方式打开图片文件\r\n",
    "f = open('dataset/rumor_pic/100303a3d70e37e6316083eb62f243b9.jpg', 'rb')\r\n",
    "img = base64.b64encode(f.read())\r\n",
    "\r\n",
    "params = {\"image\":img}\r\n",
    "access_token = '24.82ad32b21e24cdea169d260760a1fa00.2592000.1616829914.282335-23707557'\r\n",
    "request_url = request_url + \"?access_token=\" + access_token\r\n",
    "headers = {'content-type': 'application/x-www-form-urlencoded'}\r\n",
    "response = requests.post(request_url, data=params, headers=headers)\r\n",
    "if response:\r\n",
    "    print (response.json())     \r\n",
    "\r\n",
    "def advanced_general(piclist):\r\n",
    "    result = ' '\r\n",
    "    if piclist == \"-1\":\r\n",
    "        return result\r\n",
    "    else:\r\n",
    "        picName = piclist.split(\"\\t\")[0]\r\n",
    "        try:\r\n",
    "            path = os.path.join(\"dataset/truth_pic\", picName)\r\n",
    "            if not os.path.exists(path):\r\n",
    "                path = os.path.join(\"dataset/rumor_pic/\", picName)\r\n",
    "            print(path)\r\n",
    "            f = open(path, 'rb')\r\n",
    "            img = base64.b64encode(f.read())\r\n",
    "            params = {\"image\":img}\r\n",
    "            response = requests.post(request_url, data=params, headers=headers)\r\n",
    "            print(response.json()['result_num'])\r\n",
    "            \r\n",
    "            results = response.json()['result']\r\n",
    "            for res in results:\r\n",
    "                result += res['keyword']\r\n",
    "            return result\r\n",
    "        except:\r\n",
    "            return ''\r\n",
    "        "
   ]
  },
  {
   "cell_type": "code",
   "execution_count": null,
   "metadata": {
    "collapsed": false
   },
   "outputs": [],
   "source": []
  },
  {
   "cell_type": "code",
   "execution_count": null,
   "metadata": {
    "collapsed": false
   },
   "outputs": [],
   "source": [
    "len(sortedTrain[sortedTrain['piclist'] == \"-1\"])"
   ]
  },
  {
   "cell_type": "code",
   "execution_count": null,
   "metadata": {
    "collapsed": false
   },
   "outputs": [],
   "source": [
    "sortedTrain['general'] = sortedTrain['piclist'].apply(lambda x: advanced_general(x))"
   ]
  },
  {
   "cell_type": "code",
   "execution_count": null,
   "metadata": {
    "collapsed": false
   },
   "outputs": [],
   "source": [
    "sortedTrain[['text','general']]"
   ]
  },
  {
   "cell_type": "code",
   "execution_count": null,
   "metadata": {
    "collapsed": false
   },
   "outputs": [
    {
     "name": "stderr",
     "output_type": "stream",
     "text": [
      "[2021-04-19 14:05:56,628] [ WARNING] - The _initialize method in HubModule will soon be deprecated, you can use the __init__() to handle the initialization of the object\n"
     ]
    }
   ],
   "source": [
    "import paddlehub as hub\r\n",
    "import cv2\r\n",
    "import os\r\n",
    "ocr = hub.Module(name=\"chinese_ocr_db_crnn_server\")\r\n",
    "# result = ocr.recognize_text(images=[cv2.imread('dataset/rumor_pic/100303a3d70e37e6316083eb62f243b9.jpg')])\r\n",
    "def recognize_text(piclist):\r\n",
    "    result = ' '\r\n",
    "    if piclist == \"-1\":\r\n",
    "        return result\r\n",
    "    else:\r\n",
    "        picNames = piclist.split(\"\\t\")\r\n",
    "        paths = []\r\n",
    "        try:\r\n",
    "            for picName in picNames:\r\n",
    "                path = os.path.join(\"dataset/truth_pic\", picName)\r\n",
    "                if not os.path.exists(path):\r\n",
    "                    path = os.path.join(\"dataset/rumor_pic/\", picName)\r\n",
    "                paths.append(readImg(path))\r\n",
    "            results = ocr.recognize_text(images=paths, use_gpu=False)\r\n",
    "            \r\n",
    "            for res in results:\r\n",
    "                for data in res['data']:\r\n",
    "                    result += data['text']\r\n",
    "            return result\r\n",
    "        except Exception as e:\r\n",
    "            print(e)\r\n",
    "            return ''\r\n",
    "        "
   ]
  },
  {
   "cell_type": "code",
   "execution_count": null,
   "metadata": {
    "collapsed": false
   },
   "outputs": [
    {
     "data": {
      "text/plain": [
       "'中国联通微信大街上上干的残肢竟然说没有死人光泰达就一千多整个的尸体都没地放了事故死亡人数超过人市委书记这个级别的要被撤职第一批去的武警全部阵亡就多少人三十公里外的都伤那就是这次不是死了人也不是人肯定是人了你长成了详的样子'"
      ]
     },
     "execution_count": null,
     "metadata": {},
     "output_type": "execute_result"
    }
   ],
   "source": [
    "import re\r\n",
    "''.join(re.findall(r'[\\u4e00-\\u9fa5]', recognize_text(\"0a06a4dd9fb35263d2ff64813b44902f.jpg\")))"
   ]
  },
  {
   "cell_type": "code",
   "execution_count": null,
   "metadata": {
    "collapsed": false
   },
   "outputs": [],
   "source": [
    "sortedTrain[\"recognieze_text\"] = sortedTrain[\"piclist\"].apply(lambda x : recognize_text(x))"
   ]
  },
  {
   "cell_type": "code",
   "execution_count": null,
   "metadata": {
    "collapsed": false
   },
   "outputs": [],
   "source": [
    "sortedTrain[\"recognieze_text\"] = sortedTrain['recognieze_text'].apply(lambda a:re.findall(r'[\\u4e00-\\u9fa5]',a))"
   ]
  },
  {
   "cell_type": "code",
   "execution_count": null,
   "metadata": {
    "collapsed": false
   },
   "outputs": [],
   "source": [
    "sortedTrain[\"recognieze_text\"] = sortedTrain[\"recognieze_text\"].apply(lambda a: ''.join(a))"
   ]
  },
  {
   "cell_type": "code",
   "execution_count": null,
   "metadata": {
    "collapsed": false
   },
   "outputs": [],
   "source": [
    "sortedTrain[\"recognieze_text\"]"
   ]
  },
  {
   "cell_type": "markdown",
   "metadata": {
    "collapsed": false
   },
   "source": [
    "###   定义model"
   ]
  },
  {
   "cell_type": "code",
   "execution_count": 2,
   "metadata": {
    "collapsed": false
   },
   "outputs": [],
   "source": [
    "import paddle.fluid as F\r\n",
    "import paddle.nn as nn\r\n",
    "from src.model import *\r\n",
    "import numpy as np\r\n",
    "import paddle\r\n",
    "import paddle.fluid as P\r\n",
    "import paddle.fluid.dygraph as D\r\n",
    "from ernie.tokenizing_ernie import ErnieTokenizer\r\n",
    "from ernie.modeling_ernie import *\r\n",
    "import ernie\r\n",
    "\r\n",
    "\r\n",
    "class AttentionLayer(nn.Layer):\r\n",
    "    def __init__(self, d_model,  name=None):\r\n",
    "        super(AttentionLayer, self).__init__()\r\n",
    "        init = nn.initializer.TruncatedNormal(0.02)\r\n",
    "        self.d_model = d_model\r\n",
    "        d_model_q = d_model\r\n",
    "        d_model_v = d_model\r\n",
    "\r\n",
    "        self.d_key = d_model_q\r\n",
    "        self.q = nn.Linear(d_model, d_model_q,weight_attr=paddle.ParamAttr(initializer=init))\r\n",
    "        self.k = nn.Linear(d_model, d_model_q,weight_attr=paddle.ParamAttr(initializer=init))\r\n",
    "        self.v = nn.Linear(d_model, d_model_q,weight_attr=paddle.ParamAttr(initializer=init))\r\n",
    "        self.o = nn.Linear(d_model_v, d_model,weight_attr=paddle.ParamAttr(initializer=init))\r\n",
    "\r\n",
    "        self.dropout = nn.Dropout(0.5)\r\n",
    "\r\n",
    "    def forward(self, queries, keys, values):\r\n",
    "        assert len(queries.shape) == len(keys.shape) == len(values.shape)\r\n",
    "        #bsz, q_len, q_dim = queries.shape\r\n",
    "        #bsz, k_len, k_dim = keys.shape\r\n",
    "        #bsz, v_len, v_dim = values.shape\r\n",
    "        #assert k_len == v_len\r\n",
    "        \r\n",
    "        q = self.q(queries)\r\n",
    "        k = self.k(keys)\r\n",
    "        v = self.v(values)\r\n",
    "\r\n",
    "        \r\n",
    "        q = q.scale(self.d_key**-0.5)\r\n",
    "        score = q.matmul(k, transpose_y=True)\r\n",
    "        score = nn.functional.softmax(score)\r\n",
    "        score = self.dropout(score)\r\n",
    "\r\n",
    "        out = score.matmul(v)\r\n",
    "        return out\r\n",
    "\r\n",
    "\r\n",
    "class GRU_Attention(nn.Layer):\r\n",
    "    def __init__(self, d_vocab, d_emb, init):\r\n",
    "        super(GRU_Attention, self).__init__()\r\n",
    "        self.d_emb = d_emb\r\n",
    "        self.word_emb = nn.Embedding(\r\n",
    "            d_vocab,\r\n",
    "            d_emb,\r\n",
    "            weight_attr=P.ParamAttr(initializer=init))\r\n",
    "        self.text_gru = nn.GRU(d_emb, d_emb, num_layers=2, direction='bidirectional')\r\n",
    "        self.attention_linear = AttentionLayer(d_emb, 12)\r\n",
    "        self.pool = nn.Linear(\r\n",
    "            d_emb,\r\n",
    "            d_emb,\r\n",
    "            weight_attr=P.ParamAttr(initializer=init))\r\n",
    "    \r\n",
    "    def forward(self, text):\r\n",
    "        embedded = self.word_emb(text)\r\n",
    "        embedded = nn.LayerNorm(normalized_shape=self.d_emb, weight_attr=P.ParamAttr(initializer=nn.initializer.Constant(1.)),bias_attr=P.ParamAttr(initializer=nn.initializer.Constant(0.)))(embedded)\r\n",
    "        embedded = nn.Dropout(0.2)(embedded)\r\n",
    "        gru, _ = self.text_gru(embedded)\r\n",
    "        att = attention_linear(gru, gru, gru)\r\n",
    "        pooled = F.tanh(self.pooler(att[:, 0, :]))\r\n",
    "\r\n",
    "        return pooled\r\n",
    "\r\n",
    "\r\n",
    "class BPNet(D.Layer):\r\n",
    "    def __init__(self, in_dim, n_hidden_1, n_hidden_2,\\\r\n",
    "                 n_hidden_3, out_dim):\r\n",
    "        super(BPNet, self).__init__()\r\n",
    "        self.layer1 = nn.Sequential(D.Linear(in_dim, n_hidden_1))\r\n",
    "        self.layer2 = nn.Sequential(D.Linear(n_hidden_1, n_hidden_2), nn.BatchNorm(n_hidden_2), nn.LeakyReLU(), nn.Dropout(0.5))\r\n",
    "        self.layer3 = nn.Sequential(D.Linear(n_hidden_2, n_hidden_3), nn.BatchNorm(n_hidden_3), nn.LeakyReLU(), nn.Dropout(0.5))\r\n",
    "        self.layer6 = nn.Sequential(D.Linear(n_hidden_3, out_dim))\r\n",
    "\r\n",
    "    def forward(self, x):\r\n",
    "        x = self.layer1(x)\r\n",
    "        x = self.layer2(x)\r\n",
    "        x = self.layer3(x)\r\n",
    "        x = self.layer6(x)\r\n",
    "        return x\r\n",
    "\r\n",
    "class FakeNewsNet(D.Layer):\r\n",
    "    def __init__(self, cin = 768+768+768+768+128):\r\n",
    "        super(FakeNewsNet, self).__init__()\r\n",
    "        self.cin = cin\r\n",
    "        self.ernie_model = ErnieModel.from_pretrained('ernie-1.0',  num_labels=2)\r\n",
    "        # self.ernie_model_cls = ErnieModelForSequenceClassification.from_pretrained('ernie-1.0', num_labels=2)\r\n",
    "        # self.img_gru = nn.GRU(768, 300, num_layers=2, direction='bidirectional')\r\n",
    "        self.vgg = VGGNet(layers=19)\r\n",
    "        self.bp_net1 = BPNet(80, 100,100,100, 128)\r\n",
    "        self.init =  nn.initializer.TruncatedNormal(0.02)\r\n",
    "        self.classify = D.Linear(cin, 2, dtype='float32', param_attr=paddle.ParamAttr(initializer=self.init))\r\n",
    "        # self.hidden = D.Linear(cin, cin, dtype='float32', param_attr=paddle.ParamAttr(initializer=self.init),)\r\n",
    "\r\n",
    "        self.attention_linear1 = AttentionLayer(cin)\r\n",
    "        # self.ln1 = nn.LayerNorm(normalized_shape=cin, weight_attr=P.ParamAttr(initializer=nn.initializer.Constant(1.)),bias_attr=P.ParamAttr(initializer=nn.initializer.Constant(0.)))\r\n",
    "        # self.ln2 = nn.LayerNorm(normalized_shape=cin, weight_attr=P.ParamAttr(initializer=nn.initializer.Constant(1.)),bias_attr=P.ParamAttr(initializer=nn.initializer.Constant(0.)))\r\n",
    "        # self.ffn = nn.Sequential(\r\n",
    "        #     D.Linear(cin, 4*cin, dtype='float32', param_attr=paddle.ParamAttr(initializer=self.init)),\r\n",
    "        #     nn.Softmax(),\r\n",
    "        #     nn.Dropout(0.2),\r\n",
    "        #     D.Linear(4*cin, cin, dtype='float32', param_attr=paddle.ParamAttr(initializer=self.init))\r\n",
    "        # )\r\n",
    "\r\n",
    "\r\n",
    "\r\n",
    "    def forward(self, features, text_ids, pic_ids, image):\r\n",
    "        \r\n",
    "        # return self.ernie_model_cls(text_ids)\r\n",
    "        text_out, _ = self.ernie_model(text_ids)\r\n",
    "        # text_out = paddle.nn.functional.leaky_relu(text_out)\r\n",
    "        text_out = self.ernie_model.dropout(text_out)\r\n",
    "\r\n",
    "        pic_ids_out, _ = self.ernie_model(pic_ids)\r\n",
    "        # pic_ids_out = paddle.nn.functional.leaky_relu(pic_ids_out)\r\n",
    "        pic_ids_out = self.ernie_model.dropout(pic_ids_out)\r\n",
    "\r\n",
    "\r\n",
    "        stat_out = self.bp_net1(features)\r\n",
    "        # stat_out = paddle.nn.functional.leaky_relu(stat_out)\r\n",
    "        stat_out = nn.Dropout(0.2)(stat_out)\r\n",
    "        \r\n",
    "        img_out = self.vgg(image)\r\n",
    "        # img_out = paddle.nn.functional.softmax(img_out)\r\n",
    "        img_out = nn.Dropout(0.5)(img_out)\r\n",
    "        \r\n",
    "        sim = paddle.abs(text_out - pic_ids_out)\r\n",
    "        sim = nn.Dropout(0.5)(sim)\r\n",
    "        out = paddle.concat(x=[sim, text_out, pic_ids_out, img_out, stat_out], axis=-1)\r\n",
    "        # out = self.ln1(out)\r\n",
    "        # att_out =  self.attention_linear1(out, out, out)\r\n",
    "        # att_out = nn.Dropout(0.2)(att_out)\r\n",
    "        # out = att_out + out\r\n",
    "        # out = self.ln1(out)\r\n",
    "        # ffn_out = self.ffn(out)\r\n",
    "        # ffn_out = nn.Dropout(0.2)(ffn_out) \r\n",
    "        # out = ffn_out + out\r\n",
    "        # out = self.ln2(out)\r\n",
    "        # out = self.text_gru(text_ids)\r\n",
    "        out = nn.BatchNorm(768+768+768+768+128)(out)\r\n",
    "        # out =  self.attention_linear1(out, out, out)\r\n",
    "        # out = nn.leaky_relu(out)\r\n",
    "        out = nn.Dropout(0.2)(out)\r\n",
    "        out = self.classify(out)\r\n",
    "        return out"
   ]
  },
  {
   "cell_type": "code",
   "execution_count": 3,
   "metadata": {
    "collapsed": false
   },
   "outputs": [],
   "source": [
    "import pandas as pd\r\n",
    "sortedTrain = pd.read_csv('use_train2.csv')\r\n",
    "sortedTrain = sortedTrain[sortedTrain['piclist'] != '-1']\r\n",
    "train_data =sortedTrain[['emoji_num', 'exclamatory_mark', 'exifinfo_count', 'h', 'l', 'hash_tag_len', 'hash_tag_num',\r\n",
    "       'dct_0', 'dct_1', 'dct_2', 'dct_3', 'dct_4', \r\n",
    "       'dct_5', 'dct_6', 'dct_7', 'dct_8', 'dct_9', 'dct_10', 'dct_11',\r\n",
    "       'dct_12', 'dct_13', 'dct_14', 'dct_15', 'dct_16', 'dct_17', 'dct_18',\r\n",
    "       'dct_19', 'dct_20', 'dct_21', 'dct_22', 'dct_23', 'dct_24', 'dct_25',\r\n",
    "       'dct_26', 'dct_27', 'dct_28', 'dct_29', 'dct_30', 'dct_31', 'dct_32',\r\n",
    "       'dct_33', 'dct_34', 'dct_35', 'dct_36', 'dct_37', 'dct_38', 'dct_39',\r\n",
    "       'dct_40', 'dct_41', 'dct_42', 'dct_43', 'dct_44', 'dct_45', 'dct_46',\r\n",
    "       'dct_47', 'dct_48', 'dct_49', 'dct_50', 'dct_51', 'dct_52', 'dct_53',\r\n",
    "       'dct_54', 'dct_55', 'dct_56', 'dct_57', 'dct_58', 'dct_59', 'dct_60',\r\n",
    "       'dct_61', 'dct_62', 'dct_63', 'neg_prob', 'num_url', 'pic_num', 'pos_prob',\r\n",
    "       'question_mark', 'size', 'title_len','userFansCount','userWeiboCount']]\r\n",
    "train_use_data = train_data.fillna(-1)\r\n",
    "train_label = sortedTrain['label']"
   ]
  },
  {
   "cell_type": "code",
   "execution_count": null,
   "metadata": {
    "collapsed": false
   },
   "outputs": [
    {
     "data": {
      "text/plain": [
       "(5840, 3963)"
      ]
     },
     "execution_count": null,
     "metadata": {},
     "output_type": "execute_result"
    }
   ],
   "source": [
    "len(sortedTrain[sortedTrain['label']==0]), len(sortedTrain[sortedTrain['label']==1]), "
   ]
  },
  {
   "cell_type": "code",
   "execution_count": 4,
   "metadata": {
    "collapsed": false
   },
   "outputs": [
    {
     "data": {
      "text/plain": [
       "0                                      合照哈利波特与密室扳手腕云水谣狂暴飞车\n",
       "1                                        人物特写会展屏幕截图沿街店面便利店\n",
       "5                                           军舰海洋轮船潜艇卡通动漫人物\n",
       "6         美女女孩抓捕卡通动漫人物合照京乐活北京乐活北京中国移动返回北青社区报顺义版事发地点位于水木...\n",
       "7                                      人物特写野餐跳蚤市场垃圾堆斗鸡法史论世\n",
       "                               ...                        \n",
       "16597     萝卜植物花卉屏幕截图工艺品萍随手拍开工提示大家吃密桃的先用盐水泡以下是家切记吃前热水泡分钟...\n",
       "16599     屏幕截图书籍文字图病人文字图片微博正文人民日报人民日款来自人民日报微博你好明天天津的大火还...\n",
       "16601                                     白切羊肉冻货四川腊肉盐水鸭手抓肉\n",
       "16603        美女丝袜渔网袜腿草帽九二年九月你的英语水平怎样和我的德语水平差不品那你德语水平怎样完全不会\n",
       "16606                                   屏幕截图人物特写报纸杂志合照人物特写\n",
       "Name: pic_text, Length: 9803, dtype: object"
      ]
     },
     "execution_count": 4,
     "metadata": {},
     "output_type": "execute_result"
    }
   ],
   "source": [
    "sortedTrain = sortedTrain.fillna('')\r\n",
    "\r\n",
    "sortedTrain['pic_text']  = sortedTrain['general'] + sortedTrain['recognieze_text']\r\n",
    "sortedTrain['pic_text']"
   ]
  },
  {
   "cell_type": "code",
   "execution_count": null,
   "metadata": {
    "collapsed": false
   },
   "outputs": [],
   "source": [
    "sortedTrain = sortedTrain.drop(columns=['l*h','l*h-1mean', 'l*h-1median', 'l/h','Unnamed: 0', 'Unnamed: 0.1', 'Unnamed: 0.1.1', 'Unnamed: 0.1.1.1',\r\n",
    "       'Unnamed: 0.1.1.1.1', ])"
   ]
  },
  {
   "cell_type": "code",
   "execution_count": null,
   "metadata": {
    "collapsed": true
   },
   "outputs": [],
   "source": [
    "import os\r\n",
    "import math\r\n",
    "import codecs\r\n",
    "import numpy as np\r\n",
    "from PIL import Image, ImageEnhance\r\n",
    "from src.config import train_parameters\r\n",
    "\r\n",
    "\r\n",
    "def resize_img(img, target_size):\r\n",
    "    \"\"\"\r\n",
    "    强制缩放图片\r\n",
    "    :param img:\r\n",
    "    :param target_size:\r\n",
    "    :return:\r\n",
    "    \"\"\"\r\n",
    "    img = img.resize((target_size[1], target_size[2]), Image.BILINEAR)\r\n",
    "    return img\r\n",
    "\r\n",
    "\r\n",
    "def random_crop(img, scale=[0.08, 1.0], ratio=[3. / 4., 4. / 3.]):\r\n",
    "    aspect_ratio = math.sqrt(np.random.uniform(*ratio))\r\n",
    "    w = 1. * aspect_ratio\r\n",
    "    h = 1. / aspect_ratio\r\n",
    "\r\n",
    "    bound = min((float(img.size[0]) / img.size[1]) / (w**2),\r\n",
    "                (float(img.size[1]) / img.size[0]) / (h**2))\r\n",
    "    scale_max = min(scale[1], bound)\r\n",
    "    scale_min = min(scale[0], bound)\r\n",
    "\r\n",
    "    target_area = img.size[0] * img.size[1] * np.random.uniform(scale_min,\r\n",
    "                                                                scale_max)\r\n",
    "    target_size = math.sqrt(target_area)\r\n",
    "    w = int(target_size * w)\r\n",
    "    h = int(target_size * h)\r\n",
    "\r\n",
    "    i = np.random.randint(0, img.size[0] - w + 1)\r\n",
    "    j = np.random.randint(0, img.size[1] - h + 1)\r\n",
    "\r\n",
    "    img = img.crop((i, j, i + w, j + h))\r\n",
    "    img = img.resize((train_parameters['input_size'][1], train_parameters['input_size'][2]), Image.BILINEAR)\r\n",
    "    return img\r\n",
    "\r\n",
    "\r\n",
    "def rotate_image(img):\r\n",
    "    \"\"\"\r\n",
    "    图像增强，增加随机旋转角度\r\n",
    "    \"\"\"\r\n",
    "    angle = np.random.randint(-14, 15)\r\n",
    "    img = img.rotate(angle)\r\n",
    "    return img\r\n",
    "\r\n",
    "\r\n",
    "def random_brightness(img):\r\n",
    "    \"\"\"\r\n",
    "    图像增强，亮度调整\r\n",
    "    :param img:\r\n",
    "    :return:\r\n",
    "    \"\"\"\r\n",
    "    prob = np.random.uniform(0, 1)\r\n",
    "    if prob < train_parameters['image_enhance_strategy']['brightness_prob']:\r\n",
    "        brightness_delta = train_parameters['image_enhance_strategy']['brightness_delta']\r\n",
    "        delta = np.random.uniform(-brightness_delta, brightness_delta) + 1\r\n",
    "        img = ImageEnhance.Brightness(img).enhance(delta)\r\n",
    "    return img\r\n",
    "\r\n",
    "\r\n",
    "def random_contrast(img):\r\n",
    "    \"\"\"\r\n",
    "    图像增强，对比度调整\r\n",
    "    :param img:\r\n",
    "    :return:\r\n",
    "    \"\"\"\r\n",
    "    prob = np.random.uniform(0, 1)\r\n",
    "    if prob < train_parameters['image_enhance_strategy']['contrast_prob']:\r\n",
    "        contrast_delta = train_parameters['image_enhance_strategy']['contrast_delta']\r\n",
    "        delta = np.random.uniform(-contrast_delta, contrast_delta) + 1\r\n",
    "        img = ImageEnhance.Contrast(img).enhance(delta)\r\n",
    "    return img\r\n",
    "\r\n",
    "\r\n",
    "def random_saturation(img):\r\n",
    "    \"\"\"\r\n",
    "    图像增强，饱和度调整\r\n",
    "    :param img:\r\n",
    "    :return:\r\n",
    "    \"\"\"\r\n",
    "    prob = np.random.uniform(0, 1)\r\n",
    "    if prob < train_parameters['image_enhance_strategy']['saturation_prob']:\r\n",
    "        saturation_delta = train_parameters['image_enhance_strategy']['saturation_delta']\r\n",
    "        delta = np.random.uniform(-saturation_delta, saturation_delta) + 1\r\n",
    "        img = ImageEnhance.Color(img).enhance(delta)\r\n",
    "    return img\r\n",
    "\r\n",
    "\r\n",
    "def random_hue(img):\r\n",
    "    \"\"\"\r\n",
    "    图像增强，色度调整\r\n",
    "    :param img:\r\n",
    "    :return:\r\n",
    "    \"\"\"\r\n",
    "    prob = np.random.uniform(0, 1)\r\n",
    "    if prob < train_parameters['image_enhance_strategy']['hue_prob']:\r\n",
    "        hue_delta = train_parameters['image_enhance_strategy']['hue_delta']\r\n",
    "        delta = np.random.uniform(-hue_delta, hue_delta)\r\n",
    "        img_hsv = np.array(img.convert('HSV'))\r\n",
    "        img_hsv[:, :, 0] = img_hsv[:, :, 0] + delta\r\n",
    "        img = Image.fromarray(img_hsv, mode='HSV').convert('RGB')\r\n",
    "    return img\r\n",
    "\r\n",
    "\r\n",
    "def distort_color(img):\r\n",
    "    \"\"\"\r\n",
    "    概率的图像增强\r\n",
    "    :param img:\r\n",
    "    :return:\r\n",
    "    \"\"\"\r\n",
    "    prob = np.random.uniform(0, 1)\r\n",
    "    # Apply different distort order\r\n",
    "    if prob < 0.35:\r\n",
    "        img = random_brightness(img)\r\n",
    "        img = random_contrast(img)\r\n",
    "        img = random_saturation(img)\r\n",
    "        img = random_hue(img)\r\n",
    "    elif prob < 0.7:\r\n",
    "        img = random_brightness(img)\r\n",
    "        img = random_saturation(img)\r\n",
    "        img = random_hue(img)\r\n",
    "        img = random_contrast(img)\r\n",
    "    return img\r\n",
    "\r\n",
    "\r\n",
    "def custom_image_reader(piclists):\r\n",
    "    \"\"\"\r\n",
    "    自定义用户图片读取器，先初始化图片种类，数量\r\n",
    "    :param file_list:\r\n",
    "    :param data_dir:\r\n",
    "    :param mode:\r\n",
    "    :return:\r\n",
    "    \"\"\"\r\n",
    "    data = []\r\n",
    "    temp = np.zeros(train_parameters['input_size']).astype('float32')\r\n",
    "    for piclist in piclists:\r\n",
    "        if piclist == '-1':\r\n",
    "            data.append(temp)\r\n",
    "        else:\r\n",
    "            picName = piclist.split('\\t')[0]\r\n",
    "            path = os.path.join(\"dataset/truth_pic\", picName)\r\n",
    "            if not os.path.exists(path):\r\n",
    "                path = os.path.join(\"dataset/rumor_pic/\", picName)\r\n",
    "        \r\n",
    "            img = Image.open(path)\r\n",
    "\r\n",
    "            try:\r\n",
    "                if img.mode != 'RGB':\r\n",
    "                    img = img.convert('RGB')\r\n",
    "                if train_parameters['image_enhance_strategy']['need_distort']:\r\n",
    "                    img = distort_color(img)\r\n",
    "                if train_parameters['image_enhance_strategy']['need_rotate']:\r\n",
    "                    img = rotate_image(img)\r\n",
    "                if train_parameters['image_enhance_strategy']['need_crop']:\r\n",
    "                    img = random_crop(img, train_parameters['input_size'])\r\n",
    "                if train_parameters['image_enhance_strategy']['need_flip']:\r\n",
    "                    mirror = int(np.random.uniform(0, 2))\r\n",
    "                    if mirror == 1:\r\n",
    "                        img = img.transpose(Image.FLIP_LEFT_RIGHT)\r\n",
    "                # HWC--->CHW && normalized\r\n",
    "                img = np.array(img).astype('float32')\r\n",
    "                img -= train_parameters['mean_rgb']\r\n",
    "                img = img.transpose((2, 0, 1))  # HWC to CHW\r\n",
    "                img /= 255.0                 # 像素值归一化\r\n",
    "                data.append(img)\r\n",
    "            except Exception as e:\r\n",
    "                data.append(temp)\r\n",
    "    return data\r\n"
   ]
  },
  {
   "cell_type": "code",
   "execution_count": 5,
   "metadata": {
    "collapsed": false
   },
   "outputs": [
    {
     "name": "stderr",
     "output_type": "stream",
     "text": [
      "2021-05-11 18:18:40,043 - INFO - get pretrain dir from https://ernie-github.cdn.bcebos.com/model-ernie1.0.1.tar.gz\n",
      "[INFO 2021-05-11 18:18:40,043 tokenizing_ernie.py:100] get pretrain dir from https://ernie-github.cdn.bcebos.com/model-ernie1.0.1.tar.gz\n",
      "downloading https://ernie-github.cdn.bcebos.com/model-ernie1.0.1.tar.gz: 788478KB [00:13, 60008.82KB/s]                            \n"
     ]
    }
   ],
   "source": [
    "from src.data import *\r\n",
    "\r\n",
    "tokenizer = ErnieTokenizer.from_pretrained('ernie-1.0')\r\n",
    "\r\n",
    "def encode(text):\r\n",
    "    text_id, _ = tokenizer.encode(text) # ErnieTokenizer 会自动添加ERNIE所需要的特殊token，如[CLS], [SEP]\r\n",
    "    text_id = text_id[:200]\r\n",
    "    text_id = np.pad(text_id, [0, 200-len(text_id)], mode='constant') # 对所有句子都补长至200，这样会比较费显存；\r\n",
    "    return text_id\r\n",
    "\r\n",
    "def make_data():\r\n",
    "    data = []\r\n",
    "    text_ids = []\r\n",
    "    pic_text_ids = []\r\n",
    "    for text in sortedTrain['clean_text']:\r\n",
    "        text_id = encode(text)\r\n",
    "        text_id = np.array(text_id)\r\n",
    "        text_ids.append(text_id)\r\n",
    "    for text in sortedTrain['pic_text']:\r\n",
    "        text_id = encode(text)\r\n",
    "        text_id = np.array(text_id)\r\n",
    "        pic_text_ids.append(text_id)\r\n",
    "\r\n",
    "\r\n",
    "    text_ids = np.array(text_ids).astype('int64')\r\n",
    "    feas = np.array(train_use_data).astype('float32')\r\n",
    "    imgs = custom_image_reader(sortedTrain['piclist'])\r\n",
    "    # imgs = [0] * len(sortedTrain['clean_text'])\r\n",
    "    labels = np.array(train_label).astype('float32')\r\n",
    "    for fea, text_id,pic_ids, img, label in zip(feas, text_ids, pic_text_ids,imgs,labels):\r\n",
    "        fea_id = np.array(fea)\r\n",
    "        img = np.array(img)\r\n",
    "        text_id = np.array(text_id)\r\n",
    "        pic_ids = np.array(pic_ids)\r\n",
    "        label_id = np.array(label)\r\n",
    "        data.append((fea_id, text_id, pic_ids, img, label_id))\r\n",
    "    return np.array(data)\r\n",
    "\r\n",
    "\r\n",
    "def get_batch_data(data, i):\r\n",
    "    d = data[i*BATCH: (i + 1) * BATCH]\r\n",
    "    feature, text_id,pic_ids, img, label = zip(*d)\r\n",
    "    feature = np.stack(feature)  # 将BATCH行样本整合在一个numpy.array中\r\n",
    "    text_id = np.stack(text_id)\r\n",
    "    \r\n",
    "    pic_ids = np.stack(pic_ids)\r\n",
    "    img = np.stack(img)\r\n",
    "    label = np.stack(list(label))\r\n",
    "    feature = D.to_variable(feature).astype('float32') # 使用to_variable将numpy.array转换为paddle tensor\r\n",
    "    text_id = D.to_variable(text_id).astype('int64') # 使用to_variable将numpy.array转换为paddle tensor\r\n",
    "    pic_ids = D.to_variable(pic_ids).astype('int64')\r\n",
    "    img = D.to_variable(img).astype('float32')\r\n",
    "    label = D.to_variable(label).astype('int64')\r\n",
    "    return feature,text_id, pic_ids, img, label\r\n"
   ]
  },
  {
   "cell_type": "code",
   "execution_count": null,
   "metadata": {
    "collapsed": true
   },
   "outputs": [],
   "source": [
    "\r\n",
    "\r\n",
    "\r\n"
   ]
  },
  {
   "cell_type": "code",
   "execution_count": 6,
   "metadata": {
    "collapsed": false
   },
   "outputs": [
    {
     "name": "stderr",
     "output_type": "stream",
     "text": [
      "/opt/conda/envs/python35-paddle120-env/lib/python3.7/site-packages/ipykernel_launcher.py:37: VisibleDeprecationWarning: Creating an ndarray from ragged nested sequences (which is a list-or-tuple of lists-or-tuples-or ndarrays with different lengths or shapes) is deprecated. If you meant to do this, you must specify 'dtype=object' when creating the ndarray.\n"
     ]
    }
   ],
   "source": [
    "all_data = make_data()\r\n",
    "np.random.shuffle(all_data)"
   ]
  },
  {
   "cell_type": "code",
   "execution_count": null,
   "metadata": {
    "collapsed": true
   },
   "outputs": [
    {
     "name": "stderr",
     "output_type": "stream",
     "text": [
      "2021-05-07 21:30:43,880 - INFO - get pretrain dir from https://ernie-github.cdn.bcebos.com/model-ernie1.0.1.tar.gz\n",
      "[INFO 2021-05-07 21:30:43,880 modeling_ernie.py:236] get pretrain dir from https://ernie-github.cdn.bcebos.com/model-ernie1.0.1.tar.gz\n",
      "2021-05-07 21:30:43,983 - INFO - loading pretrained model from /home/aistudio/.paddle-ernie-cache/466eabcffd6d6a83ae9cb97dd1a167bd\n",
      "[INFO 2021-05-07 21:30:43,983 modeling_ernie.py:254] loading pretrained model from /home/aistudio/.paddle-ernie-cache/466eabcffd6d6a83ae9cb97dd1a167bd\n"
     ]
    },
    {
     "ename": "SystemError",
     "evalue": "(Fatal) Operator uniform_random raises an paddle::memory::allocation::BadAlloc exception.\nThe exception content is\n:ResourceExhaustedError: \n\nOut of memory error on GPU 0. Cannot allocate 392.000244MB memory on GPU 0, available memory is only 272.500000MB.\n\nPlease check whether there is any other process using GPU 0.\n1. If yes, please stop them, or start PaddlePaddle on another GPU.\n2. If no, please decrease the batch size of your model. \n\n (at /paddle/paddle/fluid/memory/allocation/cuda_allocator.cc:69)\n. (at /paddle/paddle/fluid/imperative/tracer.cc:172)\n",
     "output_type": "error",
     "traceback": [
      "\u001b[0;31m---------------------------------------------------------------------------\u001b[0m",
      "\u001b[0;31mSystemError\u001b[0m                               Traceback (most recent call last)",
      "\u001b[0;32m<ipython-input-14-6aac980dd8fe>\u001b[0m in \u001b[0;36m<module>\u001b[0;34m\u001b[0m\n\u001b[1;32m      5\u001b[0m \u001b[0mD\u001b[0m\u001b[0;34m.\u001b[0m\u001b[0mguard\u001b[0m\u001b[0;34m(\u001b[0m\u001b[0mplace\u001b[0m\u001b[0;34m=\u001b[0m\u001b[0mplace\u001b[0m\u001b[0;34m)\u001b[0m\u001b[0;34m.\u001b[0m\u001b[0m__enter__\u001b[0m\u001b[0;34m(\u001b[0m\u001b[0;34m)\u001b[0m\u001b[0;34m\u001b[0m\u001b[0;34m\u001b[0m\u001b[0m\n\u001b[1;32m      6\u001b[0m \u001b[0mnp\u001b[0m\u001b[0;34m.\u001b[0m\u001b[0mrandom\u001b[0m\u001b[0;34m.\u001b[0m\u001b[0mshuffle\u001b[0m\u001b[0;34m(\u001b[0m\u001b[0mall_data\u001b[0m\u001b[0;34m)\u001b[0m\u001b[0;34m\u001b[0m\u001b[0;34m\u001b[0m\u001b[0m\n\u001b[0;32m----> 7\u001b[0;31m \u001b[0mmodel\u001b[0m \u001b[0;34m=\u001b[0m \u001b[0mFakeNewsNet\u001b[0m\u001b[0;34m(\u001b[0m\u001b[0;34m)\u001b[0m\u001b[0;34m\u001b[0m\u001b[0;34m\u001b[0m\u001b[0m\n\u001b[0m\u001b[1;32m      8\u001b[0m \u001b[0mtest_data\u001b[0m \u001b[0;34m=\u001b[0m \u001b[0mall_data\u001b[0m\u001b[0;34m[\u001b[0m\u001b[0;34m:\u001b[0m\u001b[0;34m(\u001b[0m\u001b[0mlen\u001b[0m\u001b[0;34m(\u001b[0m\u001b[0mall_data\u001b[0m\u001b[0;34m)\u001b[0m\u001b[0;34m)\u001b[0m \u001b[0;34m//\u001b[0m \u001b[0;36m5\u001b[0m\u001b[0;34m]\u001b[0m\u001b[0;34m\u001b[0m\u001b[0;34m\u001b[0m\u001b[0m\n\u001b[1;32m      9\u001b[0m \u001b[0meval_data\u001b[0m \u001b[0;34m=\u001b[0m \u001b[0mall_data\u001b[0m\u001b[0;34m[\u001b[0m\u001b[0;34m-\u001b[0m\u001b[0;34m(\u001b[0m\u001b[0mlen\u001b[0m\u001b[0;34m(\u001b[0m\u001b[0mall_data\u001b[0m\u001b[0;34m)\u001b[0m\u001b[0;34m)\u001b[0m \u001b[0;34m//\u001b[0m \u001b[0;36m5\u001b[0m\u001b[0;34m:\u001b[0m\u001b[0;34m]\u001b[0m\u001b[0;34m\u001b[0m\u001b[0;34m\u001b[0m\u001b[0m\n",
      "\u001b[0;32m<ipython-input-2-5ee0b4d4a920>\u001b[0m in \u001b[0;36m__init__\u001b[0;34m(self, cin)\u001b[0m\n\u001b[1;32m     97\u001b[0m         \u001b[0;31m# self.ernie_model_cls = ErnieModelForSequenceClassification.from_pretrained('ernie-1.0', num_labels=2)\u001b[0m\u001b[0;34m\u001b[0m\u001b[0;34m\u001b[0m\u001b[0;34m\u001b[0m\u001b[0m\n\u001b[1;32m     98\u001b[0m         \u001b[0;31m# self.img_gru = nn.GRU(768, 300, num_layers=2, direction='bidirectional')\u001b[0m\u001b[0;34m\u001b[0m\u001b[0;34m\u001b[0m\u001b[0;34m\u001b[0m\u001b[0m\n\u001b[0;32m---> 99\u001b[0;31m         \u001b[0mself\u001b[0m\u001b[0;34m.\u001b[0m\u001b[0mvgg\u001b[0m \u001b[0;34m=\u001b[0m \u001b[0mVGGNet\u001b[0m\u001b[0;34m(\u001b[0m\u001b[0mlayers\u001b[0m\u001b[0;34m=\u001b[0m\u001b[0;36m19\u001b[0m\u001b[0;34m)\u001b[0m\u001b[0;34m\u001b[0m\u001b[0;34m\u001b[0m\u001b[0m\n\u001b[0m\u001b[1;32m    100\u001b[0m         \u001b[0mself\u001b[0m\u001b[0;34m.\u001b[0m\u001b[0mbp_net1\u001b[0m \u001b[0;34m=\u001b[0m \u001b[0mBPNet\u001b[0m\u001b[0;34m(\u001b[0m\u001b[0;36m80\u001b[0m\u001b[0;34m,\u001b[0m \u001b[0;36m100\u001b[0m\u001b[0;34m,\u001b[0m\u001b[0;36m100\u001b[0m\u001b[0;34m,\u001b[0m\u001b[0;36m100\u001b[0m\u001b[0;34m,\u001b[0m \u001b[0;36m128\u001b[0m\u001b[0;34m)\u001b[0m\u001b[0;34m\u001b[0m\u001b[0;34m\u001b[0m\u001b[0m\n\u001b[1;32m    101\u001b[0m         \u001b[0mself\u001b[0m\u001b[0;34m.\u001b[0m\u001b[0minit\u001b[0m \u001b[0;34m=\u001b[0m  \u001b[0mnn\u001b[0m\u001b[0;34m.\u001b[0m\u001b[0minitializer\u001b[0m\u001b[0;34m.\u001b[0m\u001b[0mTruncatedNormal\u001b[0m\u001b[0;34m(\u001b[0m\u001b[0;36m0.02\u001b[0m\u001b[0;34m)\u001b[0m\u001b[0;34m\u001b[0m\u001b[0;34m\u001b[0m\u001b[0m\n",
      "\u001b[0;32m~/src/model.py\u001b[0m in \u001b[0;36m__init__\u001b[0;34m(self, layers)\u001b[0m\n\u001b[1;32m     72\u001b[0m \u001b[0;34m\u001b[0m\u001b[0m\n\u001b[1;32m     73\u001b[0m         \u001b[0mfc_dim\u001b[0m \u001b[0;34m=\u001b[0m \u001b[0;36m4096\u001b[0m\u001b[0;34m\u001b[0m\u001b[0;34m\u001b[0m\u001b[0m\n\u001b[0;32m---> 74\u001b[0;31m         \u001b[0mself\u001b[0m\u001b[0;34m.\u001b[0m\u001b[0mfc1\u001b[0m \u001b[0;34m=\u001b[0m \u001b[0mfluid\u001b[0m\u001b[0;34m.\u001b[0m\u001b[0mdygraph\u001b[0m\u001b[0;34m.\u001b[0m\u001b[0mLinear\u001b[0m\u001b[0;34m(\u001b[0m\u001b[0minput_dim\u001b[0m\u001b[0;34m=\u001b[0m\u001b[0;36m25088\u001b[0m\u001b[0;34m,\u001b[0m \u001b[0moutput_dim\u001b[0m\u001b[0;34m=\u001b[0m\u001b[0mfc_dim\u001b[0m\u001b[0;34m,\u001b[0m \u001b[0mact\u001b[0m\u001b[0;34m=\u001b[0m\u001b[0;34m'relu'\u001b[0m\u001b[0;34m)\u001b[0m\u001b[0;34m\u001b[0m\u001b[0;34m\u001b[0m\u001b[0m\n\u001b[0m\u001b[1;32m     75\u001b[0m         \u001b[0mself\u001b[0m\u001b[0;34m.\u001b[0m\u001b[0mfc2\u001b[0m \u001b[0;34m=\u001b[0m \u001b[0mfluid\u001b[0m\u001b[0;34m.\u001b[0m\u001b[0mdygraph\u001b[0m\u001b[0;34m.\u001b[0m\u001b[0mLinear\u001b[0m\u001b[0;34m(\u001b[0m\u001b[0minput_dim\u001b[0m\u001b[0;34m=\u001b[0m\u001b[0mfc_dim\u001b[0m\u001b[0;34m,\u001b[0m \u001b[0moutput_dim\u001b[0m\u001b[0;34m=\u001b[0m\u001b[0;36m768\u001b[0m\u001b[0;34m,\u001b[0m \u001b[0mact\u001b[0m\u001b[0;34m=\u001b[0m\u001b[0;34m'relu'\u001b[0m\u001b[0;34m)\u001b[0m\u001b[0;34m\u001b[0m\u001b[0;34m\u001b[0m\u001b[0m\n\u001b[1;32m     76\u001b[0m \u001b[0;34m\u001b[0m\u001b[0m\n",
      "\u001b[0;32m/opt/conda/envs/python35-paddle120-env/lib/python3.7/site-packages/paddle/fluid/dygraph/nn.py\u001b[0m in \u001b[0;36m__init__\u001b[0;34m(self, input_dim, output_dim, param_attr, bias_attr, act, dtype)\u001b[0m\n\u001b[1;32m    958\u001b[0m             \u001b[0mattr\u001b[0m\u001b[0;34m=\u001b[0m\u001b[0mparam_attr\u001b[0m\u001b[0;34m,\u001b[0m\u001b[0;34m\u001b[0m\u001b[0;34m\u001b[0m\u001b[0m\n\u001b[1;32m    959\u001b[0m             \u001b[0mdtype\u001b[0m\u001b[0;34m=\u001b[0m\u001b[0mdtype\u001b[0m\u001b[0;34m,\u001b[0m\u001b[0;34m\u001b[0m\u001b[0;34m\u001b[0m\u001b[0m\n\u001b[0;32m--> 960\u001b[0;31m             is_bias=False)\n\u001b[0m\u001b[1;32m    961\u001b[0m         self.bias = self.create_parameter(\n\u001b[1;32m    962\u001b[0m             shape=[output_dim], attr=bias_attr, dtype=dtype, is_bias=True)\n",
      "\u001b[0;32m/opt/conda/envs/python35-paddle120-env/lib/python3.7/site-packages/paddle/fluid/dygraph/layers.py\u001b[0m in \u001b[0;36mcreate_parameter\u001b[0;34m(self, shape, attr, dtype, is_bias, default_initializer)\u001b[0m\n\u001b[1;32m    406\u001b[0m             \u001b[0mtemp_attr\u001b[0m \u001b[0;34m=\u001b[0m \u001b[0;32mNone\u001b[0m\u001b[0;34m\u001b[0m\u001b[0;34m\u001b[0m\u001b[0m\n\u001b[1;32m    407\u001b[0m         return self._helper.create_parameter(temp_attr, shape, dtype, is_bias,\n\u001b[0;32m--> 408\u001b[0;31m                                              default_initializer)\n\u001b[0m\u001b[1;32m    409\u001b[0m \u001b[0;34m\u001b[0m\u001b[0m\n\u001b[1;32m    410\u001b[0m     @deprecated(\n",
      "\u001b[0;32m/opt/conda/envs/python35-paddle120-env/lib/python3.7/site-packages/paddle/fluid/layer_helper_base.py\u001b[0m in \u001b[0;36mcreate_parameter\u001b[0;34m(self, attr, shape, dtype, is_bias, default_initializer, stop_gradient, type)\u001b[0m\n\u001b[1;32m    370\u001b[0m                 \u001b[0mtype\u001b[0m\u001b[0;34m=\u001b[0m\u001b[0mtype\u001b[0m\u001b[0;34m,\u001b[0m\u001b[0;34m\u001b[0m\u001b[0;34m\u001b[0m\u001b[0m\n\u001b[1;32m    371\u001b[0m                 \u001b[0mstop_gradient\u001b[0m\u001b[0;34m=\u001b[0m\u001b[0mstop_gradient\u001b[0m\u001b[0;34m,\u001b[0m\u001b[0;34m\u001b[0m\u001b[0;34m\u001b[0m\u001b[0m\n\u001b[0;32m--> 372\u001b[0;31m                 **attr._to_kwargs(with_initializer=True))\n\u001b[0m\u001b[1;32m    373\u001b[0m         \u001b[0;32melse\u001b[0m\u001b[0;34m:\u001b[0m\u001b[0;34m\u001b[0m\u001b[0;34m\u001b[0m\u001b[0m\n\u001b[1;32m    374\u001b[0m             self.startup_program.global_block().create_parameter(\n",
      "\u001b[0;32m/opt/conda/envs/python35-paddle120-env/lib/python3.7/site-packages/paddle/fluid/framework.py\u001b[0m in \u001b[0;36mcreate_parameter\u001b[0;34m(self, *args, **kwargs)\u001b[0m\n\u001b[1;32m   2986\u001b[0m                 \u001b[0;32mpass\u001b[0m\u001b[0;34m\u001b[0m\u001b[0;34m\u001b[0m\u001b[0m\n\u001b[1;32m   2987\u001b[0m             \u001b[0;32melse\u001b[0m\u001b[0;34m:\u001b[0m\u001b[0;34m\u001b[0m\u001b[0;34m\u001b[0m\u001b[0m\n\u001b[0;32m-> 2988\u001b[0;31m                 \u001b[0minitializer\u001b[0m\u001b[0;34m(\u001b[0m\u001b[0mparam\u001b[0m\u001b[0;34m,\u001b[0m \u001b[0mself\u001b[0m\u001b[0;34m)\u001b[0m\u001b[0;34m\u001b[0m\u001b[0;34m\u001b[0m\u001b[0m\n\u001b[0m\u001b[1;32m   2989\u001b[0m         \u001b[0;32mreturn\u001b[0m \u001b[0mparam\u001b[0m\u001b[0;34m\u001b[0m\u001b[0;34m\u001b[0m\u001b[0m\n\u001b[1;32m   2990\u001b[0m \u001b[0;34m\u001b[0m\u001b[0m\n",
      "\u001b[0;32m/opt/conda/envs/python35-paddle120-env/lib/python3.7/site-packages/paddle/fluid/initializer.py\u001b[0m in \u001b[0;36m__call__\u001b[0;34m(self, var, block)\u001b[0m\n\u001b[1;32m    566\u001b[0m                     \u001b[0;34m\"seed\"\u001b[0m\u001b[0;34m:\u001b[0m \u001b[0mself\u001b[0m\u001b[0;34m.\u001b[0m\u001b[0m_seed\u001b[0m\u001b[0;34m\u001b[0m\u001b[0;34m\u001b[0m\u001b[0m\n\u001b[1;32m    567\u001b[0m                 },\n\u001b[0;32m--> 568\u001b[0;31m                 stop_gradient=True)\n\u001b[0m\u001b[1;32m    569\u001b[0m \u001b[0;34m\u001b[0m\u001b[0m\n\u001b[1;32m    570\u001b[0m         \u001b[0;32melse\u001b[0m\u001b[0;34m:\u001b[0m\u001b[0;34m\u001b[0m\u001b[0;34m\u001b[0m\u001b[0m\n",
      "\u001b[0;32m/opt/conda/envs/python35-paddle120-env/lib/python3.7/site-packages/paddle/fluid/framework.py\u001b[0m in \u001b[0;36m_prepend_op\u001b[0;34m(self, *args, **kwargs)\u001b[0m\n\u001b[1;32m   3102\u001b[0m                                        \u001b[0mkwargs\u001b[0m\u001b[0;34m.\u001b[0m\u001b[0mget\u001b[0m\u001b[0;34m(\u001b[0m\u001b[0;34m\"outputs\"\u001b[0m\u001b[0;34m,\u001b[0m \u001b[0;34m{\u001b[0m\u001b[0;34m}\u001b[0m\u001b[0;34m)\u001b[0m\u001b[0;34m,\u001b[0m \u001b[0mattrs\u001b[0m\u001b[0;34m\u001b[0m\u001b[0;34m\u001b[0m\u001b[0m\n\u001b[1;32m   3103\u001b[0m                                        \u001b[0;32mif\u001b[0m \u001b[0mattrs\u001b[0m \u001b[0;32melse\u001b[0m \u001b[0;34m{\u001b[0m\u001b[0;34m}\u001b[0m\u001b[0;34m,\u001b[0m\u001b[0;34m\u001b[0m\u001b[0;34m\u001b[0m\u001b[0m\n\u001b[0;32m-> 3104\u001b[0;31m                                        kwargs.get(\"stop_gradient\", False))\n\u001b[0m\u001b[1;32m   3105\u001b[0m         \u001b[0;32melse\u001b[0m\u001b[0;34m:\u001b[0m\u001b[0;34m\u001b[0m\u001b[0;34m\u001b[0m\u001b[0m\n\u001b[1;32m   3106\u001b[0m             \u001b[0mop_desc\u001b[0m \u001b[0;34m=\u001b[0m \u001b[0mself\u001b[0m\u001b[0;34m.\u001b[0m\u001b[0mdesc\u001b[0m\u001b[0;34m.\u001b[0m\u001b[0m_prepend_op\u001b[0m\u001b[0;34m(\u001b[0m\u001b[0;34m)\u001b[0m\u001b[0;34m\u001b[0m\u001b[0;34m\u001b[0m\u001b[0m\n",
      "\u001b[0;32m/opt/conda/envs/python35-paddle120-env/lib/python3.7/site-packages/paddle/fluid/dygraph/tracer.py\u001b[0m in \u001b[0;36mtrace_op\u001b[0;34m(self, type, inputs, outputs, attrs, stop_gradient)\u001b[0m\n\u001b[1;32m     43\u001b[0m         self.trace(type, inputs, outputs, attrs,\n\u001b[1;32m     44\u001b[0m                    \u001b[0mframework\u001b[0m\u001b[0;34m.\u001b[0m\u001b[0m_current_expected_place\u001b[0m\u001b[0;34m(\u001b[0m\u001b[0;34m)\u001b[0m\u001b[0;34m,\u001b[0m \u001b[0mself\u001b[0m\u001b[0;34m.\u001b[0m\u001b[0m_has_grad\u001b[0m \u001b[0;32mand\u001b[0m\u001b[0;34m\u001b[0m\u001b[0;34m\u001b[0m\u001b[0m\n\u001b[0;32m---> 45\u001b[0;31m                    not stop_gradient)\n\u001b[0m\u001b[1;32m     46\u001b[0m \u001b[0;34m\u001b[0m\u001b[0m\n\u001b[1;32m     47\u001b[0m     \u001b[0;32mdef\u001b[0m \u001b[0mtrain_mode\u001b[0m\u001b[0;34m(\u001b[0m\u001b[0mself\u001b[0m\u001b[0;34m)\u001b[0m\u001b[0;34m:\u001b[0m\u001b[0;34m\u001b[0m\u001b[0;34m\u001b[0m\u001b[0m\n",
      "\u001b[0;31mSystemError\u001b[0m: (Fatal) Operator uniform_random raises an paddle::memory::allocation::BadAlloc exception.\nThe exception content is\n:ResourceExhaustedError: \n\nOut of memory error on GPU 0. Cannot allocate 392.000244MB memory on GPU 0, available memory is only 272.500000MB.\n\nPlease check whether there is any other process using GPU 0.\n1. If yes, please stop them, or start PaddlePaddle on another GPU.\n2. If no, please decrease the batch size of your model. \n\n (at /paddle/paddle/fluid/memory/allocation/cuda_allocator.cc:69)\n. (at /paddle/paddle/fluid/imperative/tracer.cc:172)\n"
     ]
    }
   ],
   "source": [
    "\r\n",
    "\r\n",
    "BATCH=30\r\n",
    "place=fluid.CUDAPlace(0)\r\n",
    "D.guard(place=place).__enter__()\r\n",
    "np.random.shuffle(all_data)\r\n",
    "model = FakeNewsNet()\r\n",
    "test_data = all_data[:(len(all_data)) // 5]\r\n",
    "eval_data = all_data[-(len(all_data)) // 5:]\r\n",
    "train_data = all_data[(len(all_data)) // 5:-(len(all_data)) // 5]\r\n",
    "criterion = nn.CrossEntropyLoss()\r\n",
    "optimizer = paddle.fluid.optimizer.Adam(5e-5,parameter_list=model.parameters())\r\n",
    "best_validate_acc = 0.000\r\n",
    "best_test_acc = 0.000\r\n",
    "best_loss = 100\r\n",
    "best_validate_dir = ''\r\n",
    "best_list = [0, 0]\r\n",
    "with fluid.dygraph.guard():\r\n",
    "    with LogWriter(logdir=\"logs/log-fnn\") as writer:\r\n",
    "        print('training model')\r\n",
    "        adversarial = True\r\n",
    "        cnt = 0\r\n",
    "        cnt2 = 0\r\n",
    "        for epoch in range(100):\r\n",
    "            np.random.shuffle(train_data)\r\n",
    "            p = float(epoch) / 100\r\n",
    "            # lambd = 2. / (1. + np.exp(-10. * p)) - 1\r\n",
    "            # lr = 0.001 / (1. + 10 * p) ** 0.75\r\n",
    "\r\n",
    "            # optimizer.lr = lr\r\n",
    "            # rgs.lambd = lambd\r\n",
    "            start_time = time.time()\r\n",
    "            cost_vector = []\r\n",
    "            class_cost_vector = []\r\n",
    "            domain_cost_vector = []\r\n",
    "            acc_vector = []\r\n",
    "            valid_acc_vector = []\r\n",
    "            test_acc_vector = []\r\n",
    "            vali_cost_vector = []\r\n",
    "            test_cost_vector = []\r\n",
    "            for j in range(len(train_data) // BATCH):\r\n",
    "                model.train()\r\n",
    "                feature, text_id, pic_ids, img, train_labels = get_batch_data(train_data, j)\r\n",
    "                if len(train_labels.shape) == 1:\r\n",
    "                        train_labels = paddle.fluid.layers.reshape(train_labels, [-1, 1])\r\n",
    "\r\n",
    "                # Forward + Backward + Optimize\r\n",
    "                class_outputs = model(feature, text_id, pic_ids, img)\r\n",
    "\r\n",
    "                \r\n",
    "                loss = L.softmax_with_cross_entropy(class_outputs, train_labels)\r\n",
    "                loss = L.reduce_mean(loss)\r\n",
    "                loss.backward()\r\n",
    "                optimizer.minimize(loss)\r\n",
    "                model.clear_gradients()\r\n",
    "                argmax = paddle.fluid.layers.argmax(class_outputs, -1)\r\n",
    "\r\n",
    "\r\n",
    "                accuracy = metrics.accuracy_score(train_labels.numpy().astype('int64'), argmax.numpy().astype('int64'))\r\n",
    "\r\n",
    "\r\n",
    "                class_cost_vector.append(loss.numpy())\r\n",
    "                \r\n",
    "                cost_vector.append(loss.numpy())\r\n",
    "                acc_vector.append(accuracy)\r\n",
    "                writer.add_scalar(tag=\"train-acc\", step=cnt, value=accuracy)\r\n",
    "                writer.add_scalar(tag=\"train-loss\", step=cnt, value=loss.numpy())\r\n",
    "                cnt+=1\r\n",
    "                if j%50==0:\r\n",
    "                    print('Epoch [%d/%d],batch: %d  Loss: %.4f, Train_Acc: %.4f,'\r\n",
    "                % (\r\n",
    "                    epoch + 1, 100, j ,loss.numpy(), accuracy))\r\n",
    "\r\n",
    "                \r\n",
    "            with D.base._switch_tracer_mode_guard_(is_train=False):\r\n",
    "                model.eval()\r\n",
    "\r\n",
    "                validate_acc_vector_temp = []\r\n",
    "                for j in range(len(eval_data) // BATCH):\r\n",
    "                    feature, text_id, pic_ids, img, validate_labels = get_batch_data(eval_data, j)\r\n",
    "                    if len(validate_labels.shape) == 1:\r\n",
    "                            validate_labels = paddle.fluid.layers.reshape(validate_labels, [-1, 1])\r\n",
    "                    validate_outputs = model(feature, text_id, pic_ids, img)\r\n",
    "                    validate_argmax = paddle.fluid.layers.argmax(validate_outputs, -1)\r\n",
    "                    vali_loss = L.softmax_with_cross_entropy(validate_outputs, validate_labels)\r\n",
    "                    vali_loss = L.reduce_mean(vali_loss)\r\n",
    "                    \r\n",
    "                    validate_accuracy = metrics.accuracy_score(validate_labels.numpy().astype('int64'), validate_argmax.numpy().astype('int64'))\r\n",
    "\r\n",
    "                    vali_cost_vector.append(vali_loss.numpy())\r\n",
    "                    validate_acc_vector_temp.append(validate_accuracy)\r\n",
    "                    writer.add_scalar(tag=\"eval-acc\", step=cnt2, value=validate_accuracy)\r\n",
    "                    writer.add_scalar(tag=\"eval-loss\", step=cnt2, value=vali_loss.numpy())\r\n",
    "                    cnt2+=1\r\n",
    "\r\n",
    "                validate_acc = np.mean(validate_acc_vector_temp)\r\n",
    "                valid_acc_vector.append(validate_acc)\r\n",
    "                model.train()\r\n",
    "                print('Epoch [%d/%d],  Loss: %.4f, Train_Acc: %.4f,  Validate_Acc: %.4f.'\r\n",
    "                    % (\r\n",
    "                        epoch + 1, 100, np.mean(cost_vector),\r\n",
    "                        np.mean(acc_vector), validate_acc))\r\n",
    "\r\n",
    "                if validate_acc > best_validate_acc:\r\n",
    "                    best_validate_acc = validate_acc\r\n",
    "                    if not os.path.exists('model/'):\r\n",
    "                        os.mkdir('model/')\r\n",
    "\r\n",
    "                    best_validate_dir = 'model/fnn/' + str(epoch + 1)\r\n",
    "                    D.save_dygraph(model.state_dict(), best_validate_dir)\r\n",
    "\r\n",
    "                duration = time.time() - start_time\r\n",
    "                print ('Epoch: %d, Mean_Cost: %.4f, Duration: %.4f, Mean_Train_Acc: %.4f, Mean_vail_Acc: %.4f'\r\n",
    "                % (epoch + 1, np.mean(cost_vector), duration, np.mean(acc_vector), np.mean(valid_acc_vector)))\r\n",
    "        with D.base._switch_tracer_mode_guard_(is_train=False):\r\n",
    "            # Test the Model\r\n",
    "            print('testing model')\r\n",
    "            model = CNN_Fusion()\r\n",
    "            model_dict, _ = paddle.fluid.load_dygraph(best_validate_dir)\r\n",
    "            model.load_dict(model_dict)\r\n",
    "            #    print(torch.cuda.is_available())\r\n",
    "            model.eval()\r\n",
    "            test_score = []\r\n",
    "            test_pred = []\r\n",
    "            test_true = []\r\n",
    "            for j in range(len(test_data) // BATCH):\r\n",
    "                feature, text_id, pic_ids, img, test_labels = get_batch_data(test_data, j)\r\n",
    "                if len(test_labels.shape) == 1:\r\n",
    "                    test_labels = paddle.fluid.layers.reshape(test_labels, [-1, 1])\r\n",
    "\r\n",
    "                test_outputs = model(feature, text_id, pic_ids, img)\r\n",
    "                test_argmax = paddle.fluid.layers.argmax(test_outputs, -1)\r\n",
    "                if j == 0:\r\n",
    "                    test_score = test_outputs.squeeze().numpy()\r\n",
    "                    test_pred = test_argmax.squeeze().numpy()\r\n",
    "                    test_true = test_labels.squeeze().numpy()\r\n",
    "                else:\r\n",
    "                    test_score = np.concatenate((test_score, test_outputs.squeeze().numpy()), axis=0)\r\n",
    "                    test_pred = np.concatenate((test_pred, test_argmax.squeeze().numpy()), axis=0)\r\n",
    "                    test_true = np.concatenate((test_true, test_labels.squeeze().numpy()), axis=0)\r\n",
    "\r\n",
    "            test_accuracy = metrics.accuracy_score(test_true, test_pred)\r\n",
    "            test_f1 = metrics.f1_score(test_true, test_pred, average='macro')\r\n",
    "            test_precision = metrics.precision_score(test_true, test_pred, average='macro')\r\n",
    "            test_recall = metrics.recall_score(test_true, test_pred, average='macro')\r\n",
    "            test_score_convert = [x[1] for x in test_score]\r\n",
    "            test_aucroc = metrics.roc_auc_score(test_true, test_score_convert, average='macro')\r\n",
    "\r\n",
    "            test_confusion_matrix = metrics.confusion_matrix(test_true, test_pred)\r\n",
    "\r\n",
    "            print(\"Classification Acc: %.4f, AUC-ROC: %.4f\"\r\n",
    "                % (test_accuracy, test_aucroc))\r\n",
    "            print(\"Classification report:\\n%s\\n\"\r\n",
    "                % (metrics.classification_report(test_true, test_pred,digits=4)))\r\n",
    "            print(\"Classification confusion matrix:\\n%s\\n\"\r\n",
    "                % (test_confusion_matrix))"
   ]
  },
  {
   "cell_type": "code",
   "execution_count": null,
   "metadata": {
    "collapsed": false
   },
   "outputs": [
    {
     "data": {
      "text/plain": [
       "(4643, 3200)"
      ]
     },
     "execution_count": null,
     "metadata": {},
     "output_type": "execute_result"
    }
   ],
   "source": [
    "c0 = 0\r\n",
    "c1 = 0\r\n",
    "for feature, text_id, pic_ids, img, test_labels in train_eval:\r\n",
    "    if test_labels == 0:\r\n",
    "        c0+=1\r\n",
    "    else:\r\n",
    "        c1  +=1\r\n",
    "c0, c1"
   ]
  },
  {
   "cell_type": "code",
   "execution_count": null,
   "metadata": {
    "collapsed": false
   },
   "outputs": [],
   "source": []
  },
  {
   "cell_type": "code",
   "execution_count": null,
   "metadata": {
    "collapsed": true
   },
   "outputs": [],
   "source": [
    "\r\n"
   ]
  },
  {
   "cell_type": "code",
   "execution_count": 7,
   "metadata": {
    "collapsed": false
   },
   "outputs": [
    {
     "data": {
      "text/plain": [
       "(7843, 5)"
      ]
     },
     "execution_count": 7,
     "metadata": {},
     "output_type": "execute_result"
    }
   ],
   "source": [
    "from sklearn.model_selection import KFold\r\n",
    "kf = KFold(n_splits=5,shuffle=True)\r\n",
    "def get_train_eval(all_data, rate=1):\r\n",
    "    x = []\r\n",
    "    a,b=0,0\r\n",
    "    if rate<1.5:\r\n",
    "        true = int(fake_num*rate)\r\n",
    "        fake = fake_num\r\n",
    "    else:\r\n",
    "        true = true_num\r\n",
    "        fake = int(true_num/rate)\r\n",
    "    for feature, text_id, pic_ids, img, test_labels in all_data:\r\n",
    "        if test_labels==0:\r\n",
    "            if a<true:\r\n",
    "                x.append((feature, text_id, pic_ids, img, test_labels))\r\n",
    "                a+=1\r\n",
    "        else:\r\n",
    "            if b<fake:\r\n",
    "                x.append((feature, text_id, pic_ids, img, test_labels))\r\n",
    "                b+=1\r\n",
    "    return np.array(x)\r\n",
    "\r\n",
    "true_num = 0\r\n",
    "fake_num = 0\r\n",
    "for feature, text_id, pic_ids, img, test_labels in all_data:\r\n",
    "    if test_labels == 0:\r\n",
    "        true_num+=1\r\n",
    "    else:\r\n",
    "        fake_num  +=1\r\n",
    "\r\n",
    "# train_eval = get_train_eval(all_data[(len(all_data))//10:],5)\r\n",
    "train_eval = all_data[(len(all_data))//5:] \r\n",
    "test_data = all_data[:(len(all_data))//5]\r\n",
    "\r\n",
    "\r\n",
    "\r\n",
    "train_eval.shape"
   ]
  },
  {
   "cell_type": "code",
   "execution_count": 8,
   "metadata": {
    "collapsed": false
   },
   "outputs": [],
   "source": [
    "def draw_train_loss(Batchs, eval_acc,eval_loss):\r\n",
    "    title=\"training-eval loss\"\r\n",
    "    plt.title(title, fontsize=24)\r\n",
    "    plt.xlabel(\"batch\", fontsize=14)\r\n",
    "    plt.ylabel(\"loss\", fontsize=14)\r\n",
    "    plt.plot(Batchs, eval_acc, color='red', label='eval acc')\r\n",
    "    plt.plot(Batchs, eval_loss, color='g', label='eval loss')\r\n",
    "    plt.legend()\r\n",
    "    plt.grid()\r\n",
    "    plt.show()\r\n",
    "\r\n",
    "def test(model, data, i, path):\r\n",
    "    model.eval()\r\n",
    "    all_pred, all_label, all_score = [], [], []\r\n",
    "    if os.path.exists(path+str(i) + '_bestmodel.pdparams'):\r\n",
    "        model_dict, _= fluid.load_dygraph(path+str(i) + '_bestmodel.pdparams')\r\n",
    "        model.load_dict(model_dict)\r\n",
    "    for k in range(len(data) // BATCH):\r\n",
    "        feature, text_id, pic_ids, img, label = get_batch_data(data, k)\r\n",
    "        predict = model(feature, text_id, pic_ids, img) \r\n",
    "        all_score.extend(predict.numpy())\r\n",
    "        predict = L.argmax(predict, -1)\r\n",
    "        all_pred.extend(predict.numpy())\r\n",
    "        all_label.extend(label.numpy())\r\n",
    "        \r\n",
    "    model.train()\r\n",
    "    test_accuracy = metrics.accuracy_score(all_label, all_pred)\r\n",
    "    test_f1 = metrics.f1_score(all_label, all_pred, average='macro')\r\n",
    "    test_precision = metrics.precision_score(all_label, all_pred, average='macro')\r\n",
    "    test_recall = metrics.recall_score(all_label, all_pred, average='macro')\r\n",
    "    test_score_convert = [x[1] for x in all_score]\r\n",
    "    test_aucroc = metrics.roc_auc_score(all_label, test_score_convert, average='macro')\r\n",
    "\r\n",
    "    test_confusion_matrix = metrics.confusion_matrix(all_label, all_pred)\r\n",
    "\r\n",
    "    print(\"Classification Acc: %.4f, AUC-ROC: %.4f\"\r\n",
    "        % (test_accuracy, test_aucroc))\r\n",
    "    print(\"Classification report:\\n%s\\n\"\r\n",
    "        % (metrics.classification_report(all_label, all_pred, digits=4)))\r\n",
    "    print(\"Classification confusion matrix:\\n%s\\n\"\r\n",
    "        % (test_confusion_matrix))\r\n",
    "    return accuracy_score(all_label, all_pred), f1_score(all_label, all_pred), precision_score(all_label, all_pred), recall_score(all_label, all_pred)"
   ]
  },
  {
   "cell_type": "code",
   "execution_count": null,
   "metadata": {
    "collapsed": false
   },
   "outputs": [
    {
     "data": {
      "text/plain": [
       "(980, 5)"
      ]
     },
     "execution_count": null,
     "metadata": {},
     "output_type": "execute_result"
    }
   ],
   "source": [
    "test_data.shape"
   ]
  },
  {
   "cell_type": "code",
   "execution_count": 9,
   "metadata": {
    "collapsed": false
   },
   "outputs": [
    {
     "name": "stderr",
     "output_type": "stream",
     "text": [
      "2021-05-11 18:24:55,467 - INFO - get pretrain dir from https://ernie-github.cdn.bcebos.com/model-ernie1.0.1.tar.gz\n",
      "[INFO 2021-05-11 18:24:55,467 modeling_ernie.py:236] get pretrain dir from https://ernie-github.cdn.bcebos.com/model-ernie1.0.1.tar.gz\n",
      "2021-05-11 18:24:59,393 - INFO - loading pretrained model from /home/aistudio/.paddle-ernie-cache/466eabcffd6d6a83ae9cb97dd1a167bd\n",
      "[INFO 2021-05-11 18:24:59,393 modeling_ernie.py:254] loading pretrained model from /home/aistudio/.paddle-ernie-cache/466eabcffd6d6a83ae9cb97dd1a167bd\n"
     ]
    },
    {
     "name": "stdout",
     "output_type": "stream",
     "text": [
      "load model\n",
      "0 train 0: acc:1.00000 , loss: 0.00000\n",
      "0 eval 0：acc: 0.96173\n",
      "save model to all/0_bestmodel\n"
     ]
    },
    {
     "name": "stderr",
     "output_type": "stream",
     "text": [
      "/opt/conda/envs/python35-paddle120-env/lib/python3.7/site-packages/numpy/core/_asarray.py:171: VisibleDeprecationWarning: Creating an ndarray from ragged nested sequences (which is a list-or-tuple of lists-or-tuples-or ndarrays with different lengths or shapes) is deprecated. If you meant to do this, you must specify 'dtype=object' when creating the ndarray.\n",
      "  return array(a, dtype, copy=False, order=order, subok=True)\n"
     ]
    },
    {
     "name": "stdout",
     "output_type": "stream",
     "text": [
      "0 train 10: acc:0.86364 , loss: 6.71076\n",
      "0 train 20: acc:0.82500 , loss: 11.55216\n",
      "0 train 30: acc:0.74375 , loss: 13.89836\n",
      "0 train 40: acc:0.80625 , loss: 9.79063\n",
      "0 train 50: acc:0.89375 , loss: 8.66759\n",
      "0 train 60: acc:0.82500 , loss: 10.18035\n",
      "0 train 70: acc:0.94375 , loss: 3.06535\n",
      "0 train 80: acc:0.92500 , loss: 3.64020\n",
      "0 train 90: acc:0.88125 , loss: 6.92944\n",
      "0 train 100: acc:0.90000 , loss: 5.35962\n",
      "0 eval 100：acc: 0.91837\n"
     ]
    },
    {
     "name": "stderr",
     "output_type": "stream",
     "text": [
      "/opt/conda/envs/python35-paddle120-env/lib/python3.7/site-packages/numpy/core/_asarray.py:171: VisibleDeprecationWarning: Creating an ndarray from ragged nested sequences (which is a list-or-tuple of lists-or-tuples-or ndarrays with different lengths or shapes) is deprecated. If you meant to do this, you must specify 'dtype=object' when creating the ndarray.\n",
      "  return array(a, dtype, copy=False, order=order, subok=True)\n"
     ]
    },
    {
     "name": "stdout",
     "output_type": "stream",
     "text": [
      "0 train 110: acc:0.87500 , loss: 7.04333\n",
      "0 train 120: acc:0.86250 , loss: 8.95643\n",
      "0 train 130: acc:0.86875 , loss: 6.66552\n",
      "0 train 140: acc:0.85000 , loss: 6.14995\n",
      "0 train 150: acc:0.88750 , loss: 8.38313\n",
      "0 train 160: acc:0.88750 , loss: 6.93903\n",
      "0 train 170: acc:0.91250 , loss: 5.24500\n",
      "0 train 180: acc:0.90000 , loss: 9.39562\n",
      "0 train 190: acc:0.88125 , loss: 8.52633\n",
      "0 train 200: acc:0.80000 , loss: 11.68905\n",
      "0 eval 200：acc: 0.90115\n"
     ]
    },
    {
     "name": "stderr",
     "output_type": "stream",
     "text": [
      "/opt/conda/envs/python35-paddle120-env/lib/python3.7/site-packages/numpy/core/_asarray.py:171: VisibleDeprecationWarning: Creating an ndarray from ragged nested sequences (which is a list-or-tuple of lists-or-tuples-or ndarrays with different lengths or shapes) is deprecated. If you meant to do this, you must specify 'dtype=object' when creating the ndarray.\n",
      "  return array(a, dtype, copy=False, order=order, subok=True)\n"
     ]
    },
    {
     "name": "stdout",
     "output_type": "stream",
     "text": [
      "0 train 210: acc:0.84659 , loss: 6.93120\n",
      "0 train 220: acc:0.86875 , loss: 10.44398\n",
      "0 train 230: acc:0.85625 , loss: 7.82213\n",
      "0 train 240: acc:0.86250 , loss: 6.11715\n",
      "0 train 250: acc:0.75625 , loss: 11.92994\n",
      "0 train 260: acc:0.78750 , loss: 13.91781\n",
      "0 train 270: acc:0.89375 , loss: 2.71723\n",
      "0 train 280: acc:0.85625 , loss: 10.41266\n",
      "0 train 290: acc:0.85000 , loss: 7.15961\n",
      "0 train 300: acc:0.91875 , loss: 8.05273\n",
      "0 eval 300：acc: 0.90625\n"
     ]
    },
    {
     "name": "stderr",
     "output_type": "stream",
     "text": [
      "/opt/conda/envs/python35-paddle120-env/lib/python3.7/site-packages/numpy/core/_asarray.py:171: VisibleDeprecationWarning: Creating an ndarray from ragged nested sequences (which is a list-or-tuple of lists-or-tuples-or ndarrays with different lengths or shapes) is deprecated. If you meant to do this, you must specify 'dtype=object' when creating the ndarray.\n",
      "  return array(a, dtype, copy=False, order=order, subok=True)\n"
     ]
    },
    {
     "name": "stdout",
     "output_type": "stream",
     "text": [
      "0 train 310: acc:0.81818 , loss: 12.17740\n",
      "0 train 320: acc:0.85625 , loss: 8.94855\n",
      "0 train 330: acc:0.83125 , loss: 11.52878\n",
      "0 train 340: acc:0.83750 , loss: 9.98694\n",
      "0 train 350: acc:0.91875 , loss: 4.15227\n",
      "0 train 360: acc:0.91875 , loss: 4.88848\n",
      "0 train 370: acc:0.82500 , loss: 13.35200\n",
      "0 train 380: acc:0.84375 , loss: 8.15442\n",
      "0 train 390: acc:0.82500 , loss: 9.50677\n",
      "0 train 0: acc:0.90625 , loss: 2.86895\n",
      "0 eval 0：acc: 0.92921\n"
     ]
    },
    {
     "name": "stderr",
     "output_type": "stream",
     "text": [
      "/opt/conda/envs/python35-paddle120-env/lib/python3.7/site-packages/numpy/core/_asarray.py:171: VisibleDeprecationWarning: Creating an ndarray from ragged nested sequences (which is a list-or-tuple of lists-or-tuples-or ndarrays with different lengths or shapes) is deprecated. If you meant to do this, you must specify 'dtype=object' when creating the ndarray.\n",
      "  return array(a, dtype, copy=False, order=order, subok=True)\n"
     ]
    },
    {
     "name": "stdout",
     "output_type": "stream",
     "text": [
      "0 train 10: acc:0.91477 , loss: 2.75210\n",
      "0 train 20: acc:0.92500 , loss: 2.85265\n",
      "0 train 30: acc:0.90000 , loss: 6.59720\n",
      "0 train 40: acc:0.86250 , loss: 8.14195\n",
      "0 train 50: acc:0.86250 , loss: 5.42494\n",
      "0 train 60: acc:0.88750 , loss: 7.61934\n",
      "0 train 70: acc:0.88750 , loss: 7.29026\n",
      "0 train 80: acc:0.95625 , loss: 2.28333\n",
      "0 train 90: acc:0.90000 , loss: 4.10322\n",
      "0 train 100: acc:0.90000 , loss: 8.05089\n",
      "0 eval 100：acc: 0.94707\n"
     ]
    },
    {
     "name": "stderr",
     "output_type": "stream",
     "text": [
      "/opt/conda/envs/python35-paddle120-env/lib/python3.7/site-packages/numpy/core/_asarray.py:171: VisibleDeprecationWarning: Creating an ndarray from ragged nested sequences (which is a list-or-tuple of lists-or-tuples-or ndarrays with different lengths or shapes) is deprecated. If you meant to do this, you must specify 'dtype=object' when creating the ndarray.\n",
      "  return array(a, dtype, copy=False, order=order, subok=True)\n"
     ]
    },
    {
     "name": "stdout",
     "output_type": "stream",
     "text": [
      "0 train 110: acc:0.94318 , loss: 3.23712\n",
      "0 train 120: acc:0.92500 , loss: 3.89166\n",
      "0 train 130: acc:0.91250 , loss: 7.74224\n",
      "0 train 140: acc:0.85625 , loss: 7.32213\n",
      "0 train 150: acc:0.83750 , loss: 5.85614\n",
      "0 train 160: acc:0.91875 , loss: 3.80258\n",
      "0 train 170: acc:0.90625 , loss: 3.95627\n",
      "0 train 180: acc:0.92500 , loss: 7.39109\n",
      "0 train 190: acc:0.93750 , loss: 5.41770\n",
      "0 train 200: acc:0.91875 , loss: 4.98788\n",
      "0 eval 200：acc: 0.94962\n"
     ]
    },
    {
     "name": "stderr",
     "output_type": "stream",
     "text": [
      "/opt/conda/envs/python35-paddle120-env/lib/python3.7/site-packages/numpy/core/_asarray.py:171: VisibleDeprecationWarning: Creating an ndarray from ragged nested sequences (which is a list-or-tuple of lists-or-tuples-or ndarrays with different lengths or shapes) is deprecated. If you meant to do this, you must specify 'dtype=object' when creating the ndarray.\n",
      "  return array(a, dtype, copy=False, order=order, subok=True)\n"
     ]
    },
    {
     "name": "stdout",
     "output_type": "stream",
     "text": [
      "0 train 210: acc:0.89205 , loss: 9.25913\n",
      "0 train 220: acc:0.85625 , loss: 7.48478\n",
      "0 train 230: acc:0.88125 , loss: 6.87426\n",
      "0 train 240: acc:0.92500 , loss: 8.44191\n",
      "0 train 250: acc:0.93750 , loss: 3.22229\n",
      "0 train 260: acc:0.89375 , loss: 6.58334\n",
      "0 train 270: acc:0.94375 , loss: 2.77908\n",
      "0 train 280: acc:0.85000 , loss: 10.54834\n",
      "0 train 290: acc:0.95000 , loss: 3.22112\n",
      "0 train 300: acc:0.94375 , loss: 3.79042\n",
      "0 eval 300：acc: 0.94515\n"
     ]
    },
    {
     "name": "stderr",
     "output_type": "stream",
     "text": [
      "/opt/conda/envs/python35-paddle120-env/lib/python3.7/site-packages/numpy/core/_asarray.py:171: VisibleDeprecationWarning: Creating an ndarray from ragged nested sequences (which is a list-or-tuple of lists-or-tuples-or ndarrays with different lengths or shapes) is deprecated. If you meant to do this, you must specify 'dtype=object' when creating the ndarray.\n",
      "  return array(a, dtype, copy=False, order=order, subok=True)\n"
     ]
    },
    {
     "name": "stdout",
     "output_type": "stream",
     "text": [
      "0 train 310: acc:0.93750 , loss: 5.71551\n",
      "0 train 320: acc:0.90000 , loss: 7.17982\n",
      "0 train 330: acc:0.94375 , loss: 4.52270\n",
      "0 train 340: acc:0.88125 , loss: 8.20059\n",
      "0 train 350: acc:0.87500 , loss: 7.05381\n",
      "0 train 360: acc:0.88750 , loss: 5.96409\n",
      "0 train 370: acc:0.93125 , loss: 5.92732\n",
      "0 train 380: acc:0.90000 , loss: 4.03284\n",
      "0 train 390: acc:0.92500 , loss: 4.17077\n",
      "0 train 0: acc:0.96875 , loss: 3.93308\n",
      "0 eval 0：acc: 0.95472\n"
     ]
    },
    {
     "name": "stderr",
     "output_type": "stream",
     "text": [
      "/opt/conda/envs/python35-paddle120-env/lib/python3.7/site-packages/numpy/core/_asarray.py:171: VisibleDeprecationWarning: Creating an ndarray from ragged nested sequences (which is a list-or-tuple of lists-or-tuples-or ndarrays with different lengths or shapes) is deprecated. If you meant to do this, you must specify 'dtype=object' when creating the ndarray.\n",
      "  return array(a, dtype, copy=False, order=order, subok=True)\n"
     ]
    },
    {
     "name": "stdout",
     "output_type": "stream",
     "text": [
      "0 train 10: acc:0.95455 , loss: 3.66903\n",
      "0 train 20: acc:0.90000 , loss: 4.98685\n",
      "0 train 30: acc:0.95000 , loss: 2.36682\n",
      "0 train 40: acc:0.91875 , loss: 4.17063\n",
      "0 train 50: acc:0.93125 , loss: 2.28085\n",
      "0 train 60: acc:0.89375 , loss: 4.41151\n",
      "0 train 70: acc:0.88750 , loss: 3.55651\n",
      "0 train 80: acc:0.92500 , loss: 3.94031\n",
      "0 train 90: acc:0.96875 , loss: 3.23707\n",
      "0 train 100: acc:0.96875 , loss: 1.80067\n",
      "0 eval 100：acc: 0.95344\n"
     ]
    },
    {
     "name": "stderr",
     "output_type": "stream",
     "text": [
      "/opt/conda/envs/python35-paddle120-env/lib/python3.7/site-packages/numpy/core/_asarray.py:171: VisibleDeprecationWarning: Creating an ndarray from ragged nested sequences (which is a list-or-tuple of lists-or-tuples-or ndarrays with different lengths or shapes) is deprecated. If you meant to do this, you must specify 'dtype=object' when creating the ndarray.\n",
      "  return array(a, dtype, copy=False, order=order, subok=True)\n"
     ]
    },
    {
     "name": "stdout",
     "output_type": "stream",
     "text": [
      "0 train 110: acc:0.93182 , loss: 4.80222\n",
      "0 train 120: acc:0.93750 , loss: 4.03948\n",
      "0 train 130: acc:0.91875 , loss: 5.89167\n",
      "0 train 140: acc:0.88125 , loss: 8.00724\n",
      "0 train 150: acc:0.95000 , loss: 4.13920\n",
      "0 train 160: acc:0.90000 , loss: 3.89605\n",
      "0 train 170: acc:0.93125 , loss: 8.67157\n",
      "0 train 180: acc:0.91250 , loss: 8.78354\n",
      "0 train 190: acc:0.88125 , loss: 7.74019\n",
      "0 train 200: acc:0.88125 , loss: 7.25162\n",
      "0 eval 200：acc: 0.89222\n",
      "early_stop\n",
      "Classification Acc: 0.9175, AUC-ROC: 0.9604\n",
      "Classification report:\n",
      "              precision    recall  f1-score   support\n",
      "\n",
      "           0     0.9549    0.9076    0.9307      1191\n",
      "           1     0.8659    0.9330    0.8982       761\n",
      "\n",
      "    accuracy                         0.9175      1952\n",
      "   macro avg     0.9104    0.9203    0.9144      1952\n",
      "weighted avg     0.9202    0.9175    0.9180      1952\n",
      "\n",
      "\n",
      "Classification confusion matrix:\n",
      "[[1081  110]\n",
      " [  51  710]]\n",
      "\n",
      "test metrics (0.9175204918032787, 0.8981657179000632, 0.8658536585365854, 0.9329829172141918)\n"
     ]
    },
    {
     "name": "stderr",
     "output_type": "stream",
     "text": [
      "2021-05-11 18:36:31,156 - INFO - get pretrain dir from https://ernie-github.cdn.bcebos.com/model-ernie1.0.1.tar.gz\n",
      "[INFO 2021-05-11 18:36:31,156 modeling_ernie.py:236] get pretrain dir from https://ernie-github.cdn.bcebos.com/model-ernie1.0.1.tar.gz\n",
      "2021-05-11 18:36:31,243 - INFO - loading pretrained model from /home/aistudio/.paddle-ernie-cache/466eabcffd6d6a83ae9cb97dd1a167bd\n",
      "[INFO 2021-05-11 18:36:31,243 modeling_ernie.py:254] loading pretrained model from /home/aistudio/.paddle-ernie-cache/466eabcffd6d6a83ae9cb97dd1a167bd\n"
     ]
    },
    {
     "name": "stdout",
     "output_type": "stream",
     "text": [
      "1 train 0: acc:0.62500 , loss: 16.44760\n",
      "1 eval 0：acc: 0.47194\n",
      "save model to all/1_bestmodel\n",
      "1 train 20: acc:0.55625 , loss: 25.07730\n",
      "1 train 30: acc:0.53125 , loss: 31.97833\n",
      "1 train 40: acc:0.65625 , loss: 20.30391\n",
      "1 train 50: acc:0.61250 , loss: 20.07262\n",
      "1 train 60: acc:0.66250 , loss: 15.32587\n",
      "1 train 70: acc:0.76875 , loss: 14.78998\n",
      "1 train 80: acc:0.65000 , loss: 18.60612\n",
      "1 train 90: acc:0.68125 , loss: 17.13288\n",
      "1 train 100: acc:0.70000 , loss: 19.23687\n",
      "1 eval 100：acc: 0.71875\n",
      "save model to all/1_bestmodel\n"
     ]
    },
    {
     "name": "stderr",
     "output_type": "stream",
     "text": [
      "/opt/conda/envs/python35-paddle120-env/lib/python3.7/site-packages/numpy/core/_asarray.py:171: VisibleDeprecationWarning: Creating an ndarray from ragged nested sequences (which is a list-or-tuple of lists-or-tuples-or ndarrays with different lengths or shapes) is deprecated. If you meant to do this, you must specify 'dtype=object' when creating the ndarray.\n",
      "  return array(a, dtype, copy=False, order=order, subok=True)\n"
     ]
    },
    {
     "name": "stdout",
     "output_type": "stream",
     "text": [
      "1 train 110: acc:0.69318 , loss: 17.14738\n",
      "1 train 130: acc:0.65000 , loss: 16.75557\n",
      "1 train 140: acc:0.71875 , loss: 17.58219\n",
      "1 train 150: acc:0.66875 , loss: 17.51887\n",
      "1 train 160: acc:0.71250 , loss: 14.45850\n",
      "1 train 170: acc:0.73750 , loss: 14.55799\n",
      "1 train 180: acc:0.69375 , loss: 17.83335\n",
      "1 train 190: acc:0.78750 , loss: 12.36296\n",
      "1 train 200: acc:0.72500 , loss: 16.10606\n",
      "1 eval 200：acc: 0.79719\n",
      "save model to all/1_bestmodel\n"
     ]
    },
    {
     "name": "stderr",
     "output_type": "stream",
     "text": [
      "/opt/conda/envs/python35-paddle120-env/lib/python3.7/site-packages/numpy/core/_asarray.py:171: VisibleDeprecationWarning: Creating an ndarray from ragged nested sequences (which is a list-or-tuple of lists-or-tuples-or ndarrays with different lengths or shapes) is deprecated. If you meant to do this, you must specify 'dtype=object' when creating the ndarray.\n",
      "  return array(a, dtype, copy=False, order=order, subok=True)\n"
     ]
    },
    {
     "name": "stdout",
     "output_type": "stream",
     "text": [
      "1 train 210: acc:0.74432 , loss: 12.56576\n",
      "1 train 220: acc:0.68750 , loss: 17.91104\n",
      "1 train 230: acc:0.78750 , loss: 16.86932\n",
      "1 train 240: acc:0.73750 , loss: 14.93769\n",
      "1 train 250: acc:0.73750 , loss: 13.38478\n",
      "1 train 260: acc:0.68750 , loss: 15.87316\n",
      "1 train 270: acc:0.79375 , loss: 13.41654\n",
      "1 train 280: acc:0.76250 , loss: 14.52199\n",
      "1 train 290: acc:0.70000 , loss: 15.14830\n",
      "1 train 300: acc:0.78750 , loss: 13.28316\n",
      "1 eval 300：acc: 0.82844\n",
      "save model to all/1_bestmodel\n"
     ]
    },
    {
     "name": "stderr",
     "output_type": "stream",
     "text": [
      "/opt/conda/envs/python35-paddle120-env/lib/python3.7/site-packages/numpy/core/_asarray.py:171: VisibleDeprecationWarning: Creating an ndarray from ragged nested sequences (which is a list-or-tuple of lists-or-tuples-or ndarrays with different lengths or shapes) is deprecated. If you meant to do this, you must specify 'dtype=object' when creating the ndarray.\n",
      "  return array(a, dtype, copy=False, order=order, subok=True)\n"
     ]
    },
    {
     "name": "stdout",
     "output_type": "stream",
     "text": [
      "1 train 310: acc:0.81818 , loss: 9.74290\n",
      "1 train 320: acc:0.81250 , loss: 9.45479\n",
      "1 train 330: acc:0.75625 , loss: 14.12298\n",
      "1 train 340: acc:0.80625 , loss: 14.25597\n",
      "1 train 350: acc:0.78125 , loss: 13.16438\n",
      "1 train 360: acc:0.78750 , loss: 10.39875\n",
      "1 train 370: acc:0.88125 , loss: 7.02627\n",
      "1 train 380: acc:0.85000 , loss: 8.97072\n",
      "1 train 390: acc:0.74375 , loss: 16.52076\n",
      "1 train 0: acc:0.68750 , loss: 26.55566\n",
      "1 eval 0：acc: 0.80867\n"
     ]
    },
    {
     "name": "stderr",
     "output_type": "stream",
     "text": [
      "/opt/conda/envs/python35-paddle120-env/lib/python3.7/site-packages/numpy/core/_asarray.py:171: VisibleDeprecationWarning: Creating an ndarray from ragged nested sequences (which is a list-or-tuple of lists-or-tuples-or ndarrays with different lengths or shapes) is deprecated. If you meant to do this, you must specify 'dtype=object' when creating the ndarray.\n",
      "  return array(a, dtype, copy=False, order=order, subok=True)\n"
     ]
    },
    {
     "name": "stdout",
     "output_type": "stream",
     "text": [
      "1 train 10: acc:0.81818 , loss: 11.14347\n",
      "1 train 20: acc:0.83750 , loss: 6.04004\n",
      "1 train 30: acc:0.83125 , loss: 9.11888\n",
      "1 train 40: acc:0.86250 , loss: 5.15481\n",
      "1 train 50: acc:0.80000 , loss: 9.07373\n",
      "1 train 60: acc:0.84375 , loss: 10.33774\n",
      "1 train 70: acc:0.86250 , loss: 7.05563\n",
      "1 train 80: acc:0.85625 , loss: 7.49407\n",
      "1 train 90: acc:0.84375 , loss: 6.32461\n",
      "1 train 100: acc:0.83125 , loss: 10.31706\n",
      "1 eval 100：acc: 0.84120\n",
      "save model to all/1_bestmodel\n"
     ]
    },
    {
     "name": "stderr",
     "output_type": "stream",
     "text": [
      "/opt/conda/envs/python35-paddle120-env/lib/python3.7/site-packages/numpy/core/_asarray.py:171: VisibleDeprecationWarning: Creating an ndarray from ragged nested sequences (which is a list-or-tuple of lists-or-tuples-or ndarrays with different lengths or shapes) is deprecated. If you meant to do this, you must specify 'dtype=object' when creating the ndarray.\n",
      "  return array(a, dtype, copy=False, order=order, subok=True)\n"
     ]
    },
    {
     "name": "stdout",
     "output_type": "stream",
     "text": [
      "1 train 110: acc:0.78977 , loss: 14.59437\n",
      "1 train 120: acc:0.85625 , loss: 9.85738\n",
      "1 train 130: acc:0.85625 , loss: 8.49872\n",
      "1 train 140: acc:0.79375 , loss: 14.29800\n",
      "1 train 150: acc:0.80625 , loss: 10.45893\n",
      "1 train 160: acc:0.83750 , loss: 9.91212\n",
      "1 train 170: acc:0.80625 , loss: 11.60733\n",
      "1 train 180: acc:0.74375 , loss: 14.73357\n",
      "1 train 190: acc:0.77500 , loss: 14.73215\n",
      "1 train 200: acc:0.81250 , loss: 13.60186\n",
      "1 eval 200：acc: 0.87436\n",
      "save model to all/1_bestmodel\n"
     ]
    },
    {
     "name": "stderr",
     "output_type": "stream",
     "text": [
      "/opt/conda/envs/python35-paddle120-env/lib/python3.7/site-packages/numpy/core/_asarray.py:171: VisibleDeprecationWarning: Creating an ndarray from ragged nested sequences (which is a list-or-tuple of lists-or-tuples-or ndarrays with different lengths or shapes) is deprecated. If you meant to do this, you must specify 'dtype=object' when creating the ndarray.\n",
      "  return array(a, dtype, copy=False, order=order, subok=True)\n"
     ]
    },
    {
     "name": "stdout",
     "output_type": "stream",
     "text": [
      "1 train 210: acc:0.90341 , loss: 7.91940\n",
      "1 train 220: acc:0.83750 , loss: 8.15078\n",
      "1 train 230: acc:0.85000 , loss: 7.94703\n",
      "1 train 240: acc:0.91250 , loss: 3.95681\n",
      "1 train 250: acc:0.86875 , loss: 8.09672\n",
      "1 train 260: acc:0.82500 , loss: 8.84463\n",
      "1 train 270: acc:0.86875 , loss: 9.54396\n",
      "1 train 280: acc:0.83750 , loss: 9.43321\n",
      "1 train 290: acc:0.82500 , loss: 12.27599\n",
      "1 train 300: acc:0.86250 , loss: 8.38546\n",
      "1 eval 300：acc: 0.87309\n"
     ]
    },
    {
     "name": "stderr",
     "output_type": "stream",
     "text": [
      "/opt/conda/envs/python35-paddle120-env/lib/python3.7/site-packages/numpy/core/_asarray.py:171: VisibleDeprecationWarning: Creating an ndarray from ragged nested sequences (which is a list-or-tuple of lists-or-tuples-or ndarrays with different lengths or shapes) is deprecated. If you meant to do this, you must specify 'dtype=object' when creating the ndarray.\n",
      "  return array(a, dtype, copy=False, order=order, subok=True)\n"
     ]
    },
    {
     "name": "stdout",
     "output_type": "stream",
     "text": [
      "1 train 310: acc:0.80682 , loss: 11.98153\n",
      "1 train 320: acc:0.91875 , loss: 5.73850\n",
      "1 train 330: acc:0.86250 , loss: 8.19178\n",
      "1 train 340: acc:0.89375 , loss: 6.51884\n",
      "1 train 350: acc:0.88125 , loss: 8.27336\n",
      "1 train 360: acc:0.82500 , loss: 10.19384\n",
      "1 train 370: acc:0.90000 , loss: 4.65527\n",
      "1 train 380: acc:0.88125 , loss: 4.66995\n",
      "1 train 390: acc:0.83125 , loss: 8.09952\n",
      "1 train 0: acc:0.87500 , loss: 11.89710\n",
      "1 eval 0：acc: 0.86161\n"
     ]
    },
    {
     "name": "stderr",
     "output_type": "stream",
     "text": [
      "/opt/conda/envs/python35-paddle120-env/lib/python3.7/site-packages/numpy/core/_asarray.py:171: VisibleDeprecationWarning: Creating an ndarray from ragged nested sequences (which is a list-or-tuple of lists-or-tuples-or ndarrays with different lengths or shapes) is deprecated. If you meant to do this, you must specify 'dtype=object' when creating the ndarray.\n",
      "  return array(a, dtype, copy=False, order=order, subok=True)\n"
     ]
    },
    {
     "name": "stdout",
     "output_type": "stream",
     "text": [
      "1 train 10: acc:0.88636 , loss: 6.46365\n",
      "1 train 20: acc:0.90000 , loss: 7.66774\n",
      "1 train 30: acc:0.90000 , loss: 7.63194\n",
      "1 train 40: acc:0.90625 , loss: 6.01487\n",
      "1 train 50: acc:0.89375 , loss: 6.13979\n",
      "1 train 60: acc:0.86250 , loss: 6.78554\n",
      "1 train 70: acc:0.90000 , loss: 5.65264\n",
      "1 train 80: acc:0.88750 , loss: 5.38196\n",
      "1 train 90: acc:0.86875 , loss: 8.88195\n",
      "1 train 100: acc:0.86875 , loss: 5.48082\n",
      "1 eval 100：acc: 0.89541\n",
      "save model to all/1_bestmodel\n"
     ]
    },
    {
     "name": "stderr",
     "output_type": "stream",
     "text": [
      "/opt/conda/envs/python35-paddle120-env/lib/python3.7/site-packages/numpy/core/_asarray.py:171: VisibleDeprecationWarning: Creating an ndarray from ragged nested sequences (which is a list-or-tuple of lists-or-tuples-or ndarrays with different lengths or shapes) is deprecated. If you meant to do this, you must specify 'dtype=object' when creating the ndarray.\n",
      "  return array(a, dtype, copy=False, order=order, subok=True)\n"
     ]
    },
    {
     "name": "stdout",
     "output_type": "stream",
     "text": [
      "1 train 110: acc:0.90341 , loss: 4.03747\n",
      "1 train 120: acc:0.86875 , loss: 7.16650\n",
      "1 train 130: acc:0.86875 , loss: 7.90291\n",
      "1 train 140: acc:0.84375 , loss: 9.84633\n",
      "1 train 150: acc:0.85625 , loss: 6.58433\n",
      "1 train 160: acc:0.88750 , loss: 5.42739\n",
      "1 train 170: acc:0.90000 , loss: 7.41858\n",
      "1 train 180: acc:0.88750 , loss: 6.30570\n",
      "1 train 190: acc:0.83125 , loss: 7.77921\n",
      "1 train 200: acc:0.88750 , loss: 7.87475\n",
      "1 eval 200：acc: 0.84566\n"
     ]
    },
    {
     "name": "stderr",
     "output_type": "stream",
     "text": [
      "/opt/conda/envs/python35-paddle120-env/lib/python3.7/site-packages/numpy/core/_asarray.py:171: VisibleDeprecationWarning: Creating an ndarray from ragged nested sequences (which is a list-or-tuple of lists-or-tuples-or ndarrays with different lengths or shapes) is deprecated. If you meant to do this, you must specify 'dtype=object' when creating the ndarray.\n",
      "  return array(a, dtype, copy=False, order=order, subok=True)\n"
     ]
    },
    {
     "name": "stdout",
     "output_type": "stream",
     "text": [
      "1 train 210: acc:0.85227 , loss: 7.42016\n",
      "1 train 220: acc:0.93750 , loss: 4.24238\n",
      "1 train 230: acc:0.88750 , loss: 7.34658\n",
      "1 train 240: acc:0.91250 , loss: 3.99895\n",
      "1 train 250: acc:0.95000 , loss: 3.65699\n",
      "1 train 260: acc:0.90625 , loss: 4.38698\n",
      "1 train 270: acc:0.87500 , loss: 6.03954\n",
      "1 train 280: acc:0.92500 , loss: 2.49724\n",
      "1 train 290: acc:0.88750 , loss: 5.41736\n",
      "1 train 300: acc:0.88125 , loss: 7.15273\n",
      "1 eval 300：acc: 0.88520\n"
     ]
    },
    {
     "name": "stderr",
     "output_type": "stream",
     "text": [
      "/opt/conda/envs/python35-paddle120-env/lib/python3.7/site-packages/numpy/core/_asarray.py:171: VisibleDeprecationWarning: Creating an ndarray from ragged nested sequences (which is a list-or-tuple of lists-or-tuples-or ndarrays with different lengths or shapes) is deprecated. If you meant to do this, you must specify 'dtype=object' when creating the ndarray.\n",
      "  return array(a, dtype, copy=False, order=order, subok=True)\n"
     ]
    },
    {
     "name": "stdout",
     "output_type": "stream",
     "text": [
      "1 train 310: acc:0.88636 , loss: 6.60126\n",
      "1 train 320: acc:0.85625 , loss: 9.92680\n",
      "1 train 330: acc:0.87500 , loss: 8.35941\n",
      "1 train 340: acc:0.86875 , loss: 4.56145\n",
      "1 train 350: acc:0.87500 , loss: 6.94659\n",
      "1 train 360: acc:0.86250 , loss: 6.52360\n",
      "1 train 370: acc:0.91875 , loss: 5.63368\n",
      "1 train 380: acc:0.89375 , loss: 9.94891\n",
      "1 train 390: acc:0.85625 , loss: 7.91731\n",
      "1 train 0: acc:0.84375 , loss: 6.11214\n",
      "1 eval 0：acc: 0.86862\n"
     ]
    },
    {
     "name": "stderr",
     "output_type": "stream",
     "text": [
      "/opt/conda/envs/python35-paddle120-env/lib/python3.7/site-packages/numpy/core/_asarray.py:171: VisibleDeprecationWarning: Creating an ndarray from ragged nested sequences (which is a list-or-tuple of lists-or-tuples-or ndarrays with different lengths or shapes) is deprecated. If you meant to do this, you must specify 'dtype=object' when creating the ndarray.\n",
      "  return array(a, dtype, copy=False, order=order, subok=True)\n"
     ]
    },
    {
     "name": "stdout",
     "output_type": "stream",
     "text": [
      "1 train 10: acc:0.88636 , loss: 6.91573\n",
      "1 train 20: acc:0.88125 , loss: 4.67778\n",
      "1 train 30: acc:0.96875 , loss: 2.44177\n",
      "1 train 40: acc:0.92500 , loss: 3.83386\n",
      "1 train 50: acc:0.90000 , loss: 7.84337\n",
      "1 train 60: acc:0.89375 , loss: 5.51830\n",
      "1 train 70: acc:0.93750 , loss: 2.76267\n",
      "1 train 80: acc:0.93125 , loss: 3.01307\n",
      "1 train 90: acc:0.92500 , loss: 5.66958\n",
      "1 train 100: acc:0.85000 , loss: 7.96805\n",
      "1 eval 100：acc: 0.89094\n"
     ]
    },
    {
     "name": "stderr",
     "output_type": "stream",
     "text": [
      "/opt/conda/envs/python35-paddle120-env/lib/python3.7/site-packages/numpy/core/_asarray.py:171: VisibleDeprecationWarning: Creating an ndarray from ragged nested sequences (which is a list-or-tuple of lists-or-tuples-or ndarrays with different lengths or shapes) is deprecated. If you meant to do this, you must specify 'dtype=object' when creating the ndarray.\n",
      "  return array(a, dtype, copy=False, order=order, subok=True)\n"
     ]
    },
    {
     "name": "stdout",
     "output_type": "stream",
     "text": [
      "1 train 110: acc:0.89205 , loss: 5.03044\n",
      "1 train 120: acc:0.89375 , loss: 4.71417\n",
      "1 train 130: acc:0.86875 , loss: 4.40638\n",
      "1 train 140: acc:0.86875 , loss: 9.16103\n",
      "1 train 150: acc:0.93125 , loss: 5.21137\n",
      "1 train 160: acc:0.87500 , loss: 6.27442\n",
      "1 train 170: acc:0.86875 , loss: 5.60164\n",
      "1 train 180: acc:0.93750 , loss: 2.98926\n",
      "1 train 190: acc:0.92500 , loss: 4.47199\n",
      "1 train 200: acc:0.88125 , loss: 5.79329\n",
      "1 eval 200：acc: 0.90051\n",
      "save model to all/1_bestmodel\n"
     ]
    },
    {
     "name": "stderr",
     "output_type": "stream",
     "text": [
      "/opt/conda/envs/python35-paddle120-env/lib/python3.7/site-packages/numpy/core/_asarray.py:171: VisibleDeprecationWarning: Creating an ndarray from ragged nested sequences (which is a list-or-tuple of lists-or-tuples-or ndarrays with different lengths or shapes) is deprecated. If you meant to do this, you must specify 'dtype=object' when creating the ndarray.\n",
      "  return array(a, dtype, copy=False, order=order, subok=True)\n"
     ]
    },
    {
     "name": "stdout",
     "output_type": "stream",
     "text": [
      "1 train 210: acc:0.93182 , loss: 2.80509\n",
      "1 train 220: acc:0.94375 , loss: 5.68079\n",
      "1 train 230: acc:0.87500 , loss: 7.51203\n",
      "1 train 240: acc:0.91250 , loss: 5.26908\n",
      "1 train 250: acc:0.91250 , loss: 6.04343\n",
      "1 train 260: acc:0.87500 , loss: 7.71492\n",
      "1 train 270: acc:0.88750 , loss: 6.52766\n",
      "1 train 280: acc:0.89375 , loss: 4.20777\n",
      "1 train 290: acc:0.89375 , loss: 4.58161\n",
      "1 train 300: acc:0.91875 , loss: 4.24010\n",
      "1 eval 300：acc: 0.92602\n",
      "save model to all/1_bestmodel\n"
     ]
    },
    {
     "name": "stderr",
     "output_type": "stream",
     "text": [
      "/opt/conda/envs/python35-paddle120-env/lib/python3.7/site-packages/numpy/core/_asarray.py:171: VisibleDeprecationWarning: Creating an ndarray from ragged nested sequences (which is a list-or-tuple of lists-or-tuples-or ndarrays with different lengths or shapes) is deprecated. If you meant to do this, you must specify 'dtype=object' when creating the ndarray.\n",
      "  return array(a, dtype, copy=False, order=order, subok=True)\n"
     ]
    },
    {
     "name": "stdout",
     "output_type": "stream",
     "text": [
      "1 train 310: acc:0.94318 , loss: 3.07862\n",
      "1 train 320: acc:0.90000 , loss: 9.15269\n",
      "1 train 330: acc:0.93125 , loss: 4.45721\n",
      "1 train 340: acc:0.90000 , loss: 9.68367\n",
      "1 train 350: acc:0.86875 , loss: 9.97267\n",
      "1 train 360: acc:0.93750 , loss: 2.41746\n",
      "1 train 370: acc:0.93750 , loss: 1.97822\n",
      "1 train 380: acc:0.90625 , loss: 7.14171\n",
      "1 train 390: acc:0.92500 , loss: 4.48159\n",
      "1 train 0: acc:0.87500 , loss: 4.75570\n",
      "1 eval 0：acc: 0.91518\n"
     ]
    },
    {
     "name": "stderr",
     "output_type": "stream",
     "text": [
      "/opt/conda/envs/python35-paddle120-env/lib/python3.7/site-packages/numpy/core/_asarray.py:171: VisibleDeprecationWarning: Creating an ndarray from ragged nested sequences (which is a list-or-tuple of lists-or-tuples-or ndarrays with different lengths or shapes) is deprecated. If you meant to do this, you must specify 'dtype=object' when creating the ndarray.\n",
      "  return array(a, dtype, copy=False, order=order, subok=True)\n"
     ]
    },
    {
     "name": "stdout",
     "output_type": "stream",
     "text": [
      "1 train 10: acc:0.94318 , loss: 3.57097\n",
      "1 train 20: acc:0.93125 , loss: 2.13798\n",
      "1 train 30: acc:0.91250 , loss: 4.32440\n",
      "1 train 40: acc:0.93750 , loss: 4.10563\n",
      "1 train 50: acc:0.93125 , loss: 2.17892\n",
      "1 train 60: acc:0.92500 , loss: 3.37535\n",
      "1 train 70: acc:0.90000 , loss: 4.64104\n",
      "1 train 80: acc:0.95625 , loss: 3.82558\n",
      "1 train 90: acc:0.96250 , loss: 1.63464\n",
      "1 train 100: acc:0.87500 , loss: 9.91496\n",
      "1 eval 100：acc: 0.90816\n"
     ]
    },
    {
     "name": "stderr",
     "output_type": "stream",
     "text": [
      "/opt/conda/envs/python35-paddle120-env/lib/python3.7/site-packages/numpy/core/_asarray.py:171: VisibleDeprecationWarning: Creating an ndarray from ragged nested sequences (which is a list-or-tuple of lists-or-tuples-or ndarrays with different lengths or shapes) is deprecated. If you meant to do this, you must specify 'dtype=object' when creating the ndarray.\n",
      "  return array(a, dtype, copy=False, order=order, subok=True)\n"
     ]
    },
    {
     "name": "stdout",
     "output_type": "stream",
     "text": [
      "1 train 110: acc:0.89205 , loss: 5.63265\n",
      "1 train 120: acc:0.90625 , loss: 5.65500\n",
      "1 train 130: acc:0.95625 , loss: 3.11864\n",
      "1 train 140: acc:0.86875 , loss: 7.63999\n",
      "1 train 150: acc:0.88125 , loss: 7.56085\n",
      "1 train 160: acc:0.93125 , loss: 3.09899\n",
      "1 train 170: acc:0.93125 , loss: 4.60666\n",
      "1 train 180: acc:0.92500 , loss: 4.29647\n",
      "1 train 190: acc:0.92500 , loss: 6.37068\n",
      "1 train 200: acc:0.92500 , loss: 3.66612\n",
      "1 eval 200：acc: 0.87117\n"
     ]
    },
    {
     "name": "stderr",
     "output_type": "stream",
     "text": [
      "/opt/conda/envs/python35-paddle120-env/lib/python3.7/site-packages/numpy/core/_asarray.py:171: VisibleDeprecationWarning: Creating an ndarray from ragged nested sequences (which is a list-or-tuple of lists-or-tuples-or ndarrays with different lengths or shapes) is deprecated. If you meant to do this, you must specify 'dtype=object' when creating the ndarray.\n",
      "  return array(a, dtype, copy=False, order=order, subok=True)\n"
     ]
    },
    {
     "name": "stdout",
     "output_type": "stream",
     "text": [
      "1 train 210: acc:0.89773 , loss: 6.20456\n",
      "1 train 220: acc:0.90000 , loss: 4.68884\n",
      "1 train 230: acc:0.91875 , loss: 6.44256\n",
      "1 train 240: acc:0.92500 , loss: 3.63590\n",
      "1 train 250: acc:0.90625 , loss: 2.70613\n",
      "1 train 260: acc:0.96875 , loss: 2.73853\n",
      "1 train 270: acc:0.91250 , loss: 7.04068\n",
      "1 train 280: acc:0.93125 , loss: 7.44848\n",
      "1 train 290: acc:0.91875 , loss: 4.63237\n",
      "1 train 300: acc:0.81875 , loss: 8.99948\n",
      "1 eval 300：acc: 0.84184\n"
     ]
    },
    {
     "name": "stderr",
     "output_type": "stream",
     "text": [
      "/opt/conda/envs/python35-paddle120-env/lib/python3.7/site-packages/numpy/core/_asarray.py:171: VisibleDeprecationWarning: Creating an ndarray from ragged nested sequences (which is a list-or-tuple of lists-or-tuples-or ndarrays with different lengths or shapes) is deprecated. If you meant to do this, you must specify 'dtype=object' when creating the ndarray.\n",
      "  return array(a, dtype, copy=False, order=order, subok=True)\n"
     ]
    },
    {
     "name": "stdout",
     "output_type": "stream",
     "text": [
      "1 train 310: acc:0.84091 , loss: 7.94848\n",
      "1 train 320: acc:0.91250 , loss: 4.81062\n",
      "1 train 330: acc:0.93750 , loss: 5.34079\n",
      "1 train 340: acc:0.92500 , loss: 2.45307\n",
      "1 train 350: acc:0.94375 , loss: 4.26407\n",
      "1 train 360: acc:0.95000 , loss: 3.52496\n",
      "1 train 370: acc:0.95625 , loss: 2.25064\n",
      "1 train 380: acc:0.93750 , loss: 4.58987\n",
      "1 train 390: acc:0.94375 , loss: 2.44509\n",
      "1 train 0: acc:0.93750 , loss: 2.34240\n",
      "1 eval 0：acc: 0.91263\n"
     ]
    },
    {
     "name": "stderr",
     "output_type": "stream",
     "text": [
      "/opt/conda/envs/python35-paddle120-env/lib/python3.7/site-packages/numpy/core/_asarray.py:171: VisibleDeprecationWarning: Creating an ndarray from ragged nested sequences (which is a list-or-tuple of lists-or-tuples-or ndarrays with different lengths or shapes) is deprecated. If you meant to do this, you must specify 'dtype=object' when creating the ndarray.\n",
      "  return array(a, dtype, copy=False, order=order, subok=True)\n"
     ]
    },
    {
     "name": "stdout",
     "output_type": "stream",
     "text": [
      "1 train 10: acc:0.93182 , loss: 4.33861\n",
      "1 train 20: acc:0.96250 , loss: 1.45025\n",
      "1 train 30: acc:0.93750 , loss: 4.60034\n",
      "1 train 40: acc:0.91250 , loss: 3.29023\n",
      "1 train 50: acc:0.91875 , loss: 4.37881\n",
      "1 train 60: acc:0.97500 , loss: 0.61732\n",
      "1 train 70: acc:0.92500 , loss: 3.98941\n",
      "1 train 80: acc:0.86875 , loss: 8.56596\n",
      "1 train 90: acc:0.85625 , loss: 8.37434\n",
      "1 train 100: acc:0.94375 , loss: 4.23001\n",
      "1 eval 100：acc: 0.91390\n"
     ]
    },
    {
     "name": "stderr",
     "output_type": "stream",
     "text": [
      "/opt/conda/envs/python35-paddle120-env/lib/python3.7/site-packages/numpy/core/_asarray.py:171: VisibleDeprecationWarning: Creating an ndarray from ragged nested sequences (which is a list-or-tuple of lists-or-tuples-or ndarrays with different lengths or shapes) is deprecated. If you meant to do this, you must specify 'dtype=object' when creating the ndarray.\n",
      "  return array(a, dtype, copy=False, order=order, subok=True)\n"
     ]
    },
    {
     "name": "stdout",
     "output_type": "stream",
     "text": [
      "1 train 110: acc:0.92045 , loss: 5.81505\n",
      "1 train 120: acc:0.85000 , loss: 8.38697\n",
      "1 train 130: acc:0.88750 , loss: 6.17274\n",
      "1 train 140: acc:0.87500 , loss: 6.19398\n",
      "1 train 150: acc:0.93125 , loss: 3.37653\n",
      "1 train 160: acc:0.88125 , loss: 6.34571\n",
      "1 train 170: acc:0.91875 , loss: 3.92053\n",
      "1 train 180: acc:0.88750 , loss: 6.39692\n",
      "1 train 190: acc:0.91875 , loss: 4.50686\n",
      "1 train 200: acc:0.91250 , loss: 4.46726\n",
      "1 eval 200：acc: 0.91263\n"
     ]
    },
    {
     "name": "stderr",
     "output_type": "stream",
     "text": [
      "/opt/conda/envs/python35-paddle120-env/lib/python3.7/site-packages/numpy/core/_asarray.py:171: VisibleDeprecationWarning: Creating an ndarray from ragged nested sequences (which is a list-or-tuple of lists-or-tuples-or ndarrays with different lengths or shapes) is deprecated. If you meant to do this, you must specify 'dtype=object' when creating the ndarray.\n",
      "  return array(a, dtype, copy=False, order=order, subok=True)\n"
     ]
    },
    {
     "name": "stdout",
     "output_type": "stream",
     "text": [
      "1 train 210: acc:0.95455 , loss: 2.29160\n",
      "1 train 220: acc:0.93125 , loss: 4.79019\n",
      "1 train 230: acc:0.92500 , loss: 6.43368\n",
      "1 train 240: acc:0.91875 , loss: 3.45550\n",
      "1 train 250: acc:0.90000 , loss: 10.31878\n",
      "1 train 260: acc:0.93750 , loss: 5.04019\n",
      "1 train 270: acc:0.86250 , loss: 9.53971\n",
      "1 train 280: acc:0.95000 , loss: 2.18852\n",
      "1 train 290: acc:0.91250 , loss: 3.75862\n",
      "1 train 300: acc:0.88750 , loss: 8.03361\n",
      "1 eval 300：acc: 0.90816\n"
     ]
    },
    {
     "name": "stderr",
     "output_type": "stream",
     "text": [
      "/opt/conda/envs/python35-paddle120-env/lib/python3.7/site-packages/numpy/core/_asarray.py:171: VisibleDeprecationWarning: Creating an ndarray from ragged nested sequences (which is a list-or-tuple of lists-or-tuples-or ndarrays with different lengths or shapes) is deprecated. If you meant to do this, you must specify 'dtype=object' when creating the ndarray.\n",
      "  return array(a, dtype, copy=False, order=order, subok=True)\n"
     ]
    },
    {
     "name": "stdout",
     "output_type": "stream",
     "text": [
      "1 train 310: acc:0.91477 , loss: 4.91319\n",
      "1 train 320: acc:0.93125 , loss: 4.99257\n",
      "1 train 330: acc:0.92500 , loss: 5.03231\n",
      "1 train 340: acc:0.95000 , loss: 1.25667\n",
      "1 train 350: acc:0.88125 , loss: 9.62964\n",
      "1 train 360: acc:0.90000 , loss: 8.47829\n",
      "1 train 370: acc:0.94375 , loss: 2.11673\n",
      "1 train 380: acc:0.93125 , loss: 4.52692\n",
      "1 train 390: acc:0.90625 , loss: 4.42292\n",
      "1 train 0: acc:0.81250 , loss: 5.34565\n",
      "1 eval 0：acc: 0.89222\n"
     ]
    },
    {
     "name": "stderr",
     "output_type": "stream",
     "text": [
      "/opt/conda/envs/python35-paddle120-env/lib/python3.7/site-packages/numpy/core/_asarray.py:171: VisibleDeprecationWarning: Creating an ndarray from ragged nested sequences (which is a list-or-tuple of lists-or-tuples-or ndarrays with different lengths or shapes) is deprecated. If you meant to do this, you must specify 'dtype=object' when creating the ndarray.\n",
      "  return array(a, dtype, copy=False, order=order, subok=True)\n"
     ]
    },
    {
     "name": "stdout",
     "output_type": "stream",
     "text": [
      "1 train 10: acc:0.93750 , loss: 2.89098\n",
      "1 train 20: acc:0.91250 , loss: 4.56110\n",
      "1 train 30: acc:0.95000 , loss: 1.97478\n",
      "1 train 40: acc:0.95000 , loss: 4.94525\n",
      "1 train 50: acc:0.86875 , loss: 5.50479\n",
      "1 train 60: acc:0.93750 , loss: 3.40832\n",
      "1 train 70: acc:0.84375 , loss: 8.00311\n",
      "1 train 80: acc:0.84375 , loss: 9.87476\n",
      "1 train 90: acc:0.82500 , loss: 11.96673\n",
      "1 train 100: acc:0.84375 , loss: 9.44327\n",
      "1 eval 100：acc: 0.89222\n",
      "early_stop\n",
      "Classification Acc: 0.9088, AUC-ROC: 0.9485\n",
      "Classification report:\n",
      "              precision    recall  f1-score   support\n",
      "\n",
      "           0     0.9303    0.9194    0.9248      1191\n",
      "           1     0.8761    0.8922    0.8841       761\n",
      "\n",
      "    accuracy                         0.9088      1952\n",
      "   macro avg     0.9032    0.9058    0.9045      1952\n",
      "weighted avg     0.9092    0.9088    0.9090      1952\n",
      "\n",
      "\n",
      "Classification confusion matrix:\n",
      "[[1095   96]\n",
      " [  82  679]]\n",
      "\n",
      "test metrics (0.9088114754098361, 0.8841145833333334, 0.8761290322580645, 0.8922470433639947)\n"
     ]
    },
    {
     "name": "stderr",
     "output_type": "stream",
     "text": [
      "2021-05-11 19:04:52,736 - INFO - get pretrain dir from https://ernie-github.cdn.bcebos.com/model-ernie1.0.1.tar.gz\n",
      "[INFO 2021-05-11 19:04:52,736 modeling_ernie.py:236] get pretrain dir from https://ernie-github.cdn.bcebos.com/model-ernie1.0.1.tar.gz\n",
      "2021-05-11 19:04:52,819 - INFO - loading pretrained model from /home/aistudio/.paddle-ernie-cache/466eabcffd6d6a83ae9cb97dd1a167bd\n",
      "[INFO 2021-05-11 19:04:52,819 modeling_ernie.py:254] loading pretrained model from /home/aistudio/.paddle-ernie-cache/466eabcffd6d6a83ae9cb97dd1a167bd\n"
     ]
    },
    {
     "name": "stdout",
     "output_type": "stream",
     "text": [
      "2 train 0: acc:0.37500 , loss: 56.17355\n",
      "2 eval 0：acc: 0.52487\n",
      "save model to all/2_bestmodel\n"
     ]
    },
    {
     "name": "stderr",
     "output_type": "stream",
     "text": [
      "/opt/conda/envs/python35-paddle120-env/lib/python3.7/site-packages/numpy/core/_asarray.py:171: VisibleDeprecationWarning: Creating an ndarray from ragged nested sequences (which is a list-or-tuple of lists-or-tuples-or ndarrays with different lengths or shapes) is deprecated. If you meant to do this, you must specify 'dtype=object' when creating the ndarray.\n",
      "  return array(a, dtype, copy=False, order=order, subok=True)\n"
     ]
    },
    {
     "name": "stdout",
     "output_type": "stream",
     "text": [
      "2 train 10: acc:0.44886 , loss: 33.64641\n",
      "2 train 20: acc:0.51875 , loss: 27.53168\n",
      "2 train 30: acc:0.59375 , loss: 21.20669\n",
      "2 train 40: acc:0.62500 , loss: 19.73663\n",
      "2 train 50: acc:0.70000 , loss: 13.84615\n",
      "2 train 60: acc:0.60000 , loss: 21.91065\n",
      "2 train 70: acc:0.63750 , loss: 20.03050\n",
      "2 train 80: acc:0.59375 , loss: 16.68821\n",
      "2 train 90: acc:0.59375 , loss: 20.26809\n",
      "2 train 100: acc:0.61250 , loss: 20.36973\n",
      "2 eval 100：acc: 0.70727\n",
      "save model to all/2_bestmodel\n"
     ]
    },
    {
     "name": "stderr",
     "output_type": "stream",
     "text": [
      "/opt/conda/envs/python35-paddle120-env/lib/python3.7/site-packages/numpy/core/_asarray.py:171: VisibleDeprecationWarning: Creating an ndarray from ragged nested sequences (which is a list-or-tuple of lists-or-tuples-or ndarrays with different lengths or shapes) is deprecated. If you meant to do this, you must specify 'dtype=object' when creating the ndarray.\n",
      "  return array(a, dtype, copy=False, order=order, subok=True)\n"
     ]
    },
    {
     "name": "stdout",
     "output_type": "stream",
     "text": [
      "2 train 110: acc:0.65909 , loss: 17.76679\n",
      "2 train 120: acc:0.66250 , loss: 18.88800\n",
      "2 train 130: acc:0.69375 , loss: 12.88481\n",
      "2 train 140: acc:0.73750 , loss: 11.95409\n",
      "2 train 150: acc:0.75625 , loss: 14.20652\n",
      "2 train 160: acc:0.75000 , loss: 18.13679\n",
      "2 train 170: acc:0.76875 , loss: 13.03268\n",
      "2 train 180: acc:0.76875 , loss: 11.09778\n",
      "2 train 190: acc:0.80000 , loss: 10.84759\n",
      "2 train 200: acc:0.69375 , loss: 18.96060\n",
      "2 eval 200：acc: 0.80676\n",
      "save model to all/2_bestmodel\n"
     ]
    },
    {
     "name": "stderr",
     "output_type": "stream",
     "text": [
      "/opt/conda/envs/python35-paddle120-env/lib/python3.7/site-packages/numpy/core/_asarray.py:171: VisibleDeprecationWarning: Creating an ndarray from ragged nested sequences (which is a list-or-tuple of lists-or-tuples-or ndarrays with different lengths or shapes) is deprecated. If you meant to do this, you must specify 'dtype=object' when creating the ndarray.\n",
      "  return array(a, dtype, copy=False, order=order, subok=True)\n"
     ]
    },
    {
     "name": "stdout",
     "output_type": "stream",
     "text": [
      "2 train 210: acc:0.75568 , loss: 14.21413\n",
      "2 train 220: acc:0.71250 , loss: 17.30732\n",
      "2 train 230: acc:0.70625 , loss: 15.77989\n",
      "2 train 240: acc:0.73125 , loss: 17.33640\n",
      "2 train 250: acc:0.75625 , loss: 12.57420\n",
      "2 train 260: acc:0.75000 , loss: 13.23487\n",
      "2 train 270: acc:0.85000 , loss: 7.49577\n",
      "2 train 280: acc:0.81875 , loss: 12.70450\n",
      "2 train 290: acc:0.74375 , loss: 15.73637\n",
      "2 train 300: acc:0.75000 , loss: 15.29613\n",
      "2 eval 300：acc: 0.82334\n",
      "save model to all/2_bestmodel\n"
     ]
    },
    {
     "name": "stderr",
     "output_type": "stream",
     "text": [
      "/opt/conda/envs/python35-paddle120-env/lib/python3.7/site-packages/numpy/core/_asarray.py:171: VisibleDeprecationWarning: Creating an ndarray from ragged nested sequences (which is a list-or-tuple of lists-or-tuples-or ndarrays with different lengths or shapes) is deprecated. If you meant to do this, you must specify 'dtype=object' when creating the ndarray.\n",
      "  return array(a, dtype, copy=False, order=order, subok=True)\n"
     ]
    },
    {
     "name": "stdout",
     "output_type": "stream",
     "text": [
      "2 train 310: acc:0.78409 , loss: 11.77341\n",
      "2 train 320: acc:0.76875 , loss: 9.67428\n",
      "2 train 330: acc:0.80625 , loss: 9.73893\n",
      "2 train 340: acc:0.74375 , loss: 16.27581\n",
      "2 train 350: acc:0.78125 , loss: 11.46740\n",
      "2 train 360: acc:0.85000 , loss: 7.14517\n",
      "2 train 370: acc:0.83125 , loss: 11.67481\n",
      "2 train 380: acc:0.82500 , loss: 9.69167\n",
      "2 train 390: acc:0.76875 , loss: 11.78732\n",
      "2 train 0: acc:0.87500 , loss: 5.46129\n",
      "2 eval 0：acc: 0.83227\n",
      "save model to all/2_bestmodel\n"
     ]
    },
    {
     "name": "stderr",
     "output_type": "stream",
     "text": [
      "/opt/conda/envs/python35-paddle120-env/lib/python3.7/site-packages/numpy/core/_asarray.py:171: VisibleDeprecationWarning: Creating an ndarray from ragged nested sequences (which is a list-or-tuple of lists-or-tuples-or ndarrays with different lengths or shapes) is deprecated. If you meant to do this, you must specify 'dtype=object' when creating the ndarray.\n",
      "  return array(a, dtype, copy=False, order=order, subok=True)\n"
     ]
    },
    {
     "name": "stdout",
     "output_type": "stream",
     "text": [
      "2 train 10: acc:0.83523 , loss: 8.46485\n",
      "2 train 20: acc:0.81250 , loss: 11.63858\n",
      "2 train 30: acc:0.85625 , loss: 7.46854\n",
      "2 train 40: acc:0.88125 , loss: 4.91298\n",
      "2 train 50: acc:0.82500 , loss: 12.89782\n",
      "2 train 60: acc:0.88125 , loss: 6.45477\n",
      "2 train 70: acc:0.84375 , loss: 7.97831\n",
      "2 train 80: acc:0.80000 , loss: 10.14287\n",
      "2 train 90: acc:0.81250 , loss: 11.33733\n",
      "2 train 100: acc:0.83750 , loss: 7.70945\n",
      "2 eval 100：acc: 0.86480\n",
      "save model to all/2_bestmodel\n"
     ]
    },
    {
     "name": "stderr",
     "output_type": "stream",
     "text": [
      "/opt/conda/envs/python35-paddle120-env/lib/python3.7/site-packages/numpy/core/_asarray.py:171: VisibleDeprecationWarning: Creating an ndarray from ragged nested sequences (which is a list-or-tuple of lists-or-tuples-or ndarrays with different lengths or shapes) is deprecated. If you meant to do this, you must specify 'dtype=object' when creating the ndarray.\n",
      "  return array(a, dtype, copy=False, order=order, subok=True)\n"
     ]
    },
    {
     "name": "stdout",
     "output_type": "stream",
     "text": [
      "2 train 110: acc:0.82955 , loss: 10.43242\n",
      "2 train 120: acc:0.73750 , loss: 10.06169\n",
      "2 train 130: acc:0.82500 , loss: 7.24747\n",
      "2 train 140: acc:0.89375 , loss: 9.73105\n",
      "2 train 150: acc:0.82500 , loss: 9.87430\n",
      "2 train 160: acc:0.85000 , loss: 8.77860\n",
      "2 train 170: acc:0.88750 , loss: 7.32202\n",
      "2 train 180: acc:0.88125 , loss: 7.67033\n",
      "2 train 190: acc:0.88125 , loss: 7.45956\n",
      "2 train 200: acc:0.83750 , loss: 9.47777\n",
      "2 eval 200：acc: 0.86416\n"
     ]
    },
    {
     "name": "stderr",
     "output_type": "stream",
     "text": [
      "/opt/conda/envs/python35-paddle120-env/lib/python3.7/site-packages/numpy/core/_asarray.py:171: VisibleDeprecationWarning: Creating an ndarray from ragged nested sequences (which is a list-or-tuple of lists-or-tuples-or ndarrays with different lengths or shapes) is deprecated. If you meant to do this, you must specify 'dtype=object' when creating the ndarray.\n",
      "  return array(a, dtype, copy=False, order=order, subok=True)\n"
     ]
    },
    {
     "name": "stdout",
     "output_type": "stream",
     "text": [
      "2 train 210: acc:0.85795 , loss: 10.71804\n",
      "2 train 220: acc:0.85000 , loss: 10.35747\n",
      "2 train 230: acc:0.82500 , loss: 9.19796\n",
      "2 train 240: acc:0.81250 , loss: 10.31257\n",
      "2 train 250: acc:0.85000 , loss: 8.97539\n",
      "2 train 260: acc:0.85000 , loss: 8.79758\n",
      "2 train 270: acc:0.84375 , loss: 12.29267\n",
      "2 train 280: acc:0.87500 , loss: 8.91234\n",
      "2 train 290: acc:0.85000 , loss: 9.41956\n",
      "2 train 300: acc:0.84375 , loss: 9.55749\n",
      "2 eval 300：acc: 0.87628\n",
      "save model to all/2_bestmodel\n"
     ]
    },
    {
     "name": "stderr",
     "output_type": "stream",
     "text": [
      "/opt/conda/envs/python35-paddle120-env/lib/python3.7/site-packages/numpy/core/_asarray.py:171: VisibleDeprecationWarning: Creating an ndarray from ragged nested sequences (which is a list-or-tuple of lists-or-tuples-or ndarrays with different lengths or shapes) is deprecated. If you meant to do this, you must specify 'dtype=object' when creating the ndarray.\n",
      "  return array(a, dtype, copy=False, order=order, subok=True)\n"
     ]
    },
    {
     "name": "stdout",
     "output_type": "stream",
     "text": [
      "2 train 310: acc:0.82955 , loss: 11.37850\n",
      "2 train 320: acc:0.80000 , loss: 8.58571\n",
      "2 train 330: acc:0.84375 , loss: 8.51037\n",
      "2 train 340: acc:0.86875 , loss: 10.28409\n",
      "2 train 350: acc:0.89375 , loss: 4.89479\n",
      "2 train 360: acc:0.90625 , loss: 4.44559\n",
      "2 train 370: acc:0.86875 , loss: 8.61385\n",
      "2 train 380: acc:0.82500 , loss: 10.19009\n",
      "2 train 390: acc:0.91250 , loss: 5.28683\n",
      "2 train 0: acc:0.87500 , loss: 6.40357\n",
      "2 eval 0：acc: 0.89541\n",
      "save model to all/2_bestmodel\n"
     ]
    },
    {
     "name": "stderr",
     "output_type": "stream",
     "text": [
      "/opt/conda/envs/python35-paddle120-env/lib/python3.7/site-packages/numpy/core/_asarray.py:171: VisibleDeprecationWarning: Creating an ndarray from ragged nested sequences (which is a list-or-tuple of lists-or-tuples-or ndarrays with different lengths or shapes) is deprecated. If you meant to do this, you must specify 'dtype=object' when creating the ndarray.\n",
      "  return array(a, dtype, copy=False, order=order, subok=True)\n"
     ]
    },
    {
     "name": "stdout",
     "output_type": "stream",
     "text": [
      "2 train 10: acc:0.88636 , loss: 6.62331\n",
      "2 train 20: acc:0.90625 , loss: 5.37330\n",
      "2 train 30: acc:0.92500 , loss: 6.13259\n",
      "2 train 40: acc:0.89375 , loss: 6.11588\n",
      "2 train 50: acc:0.93750 , loss: 5.54525\n",
      "2 train 60: acc:0.90625 , loss: 3.74539\n",
      "2 train 70: acc:0.93125 , loss: 2.84832\n",
      "2 train 80: acc:0.91250 , loss: 3.14903\n",
      "2 train 90: acc:0.91250 , loss: 6.23711\n",
      "2 train 100: acc:0.82500 , loss: 8.74491\n",
      "2 eval 100：acc: 0.88265\n"
     ]
    },
    {
     "name": "stderr",
     "output_type": "stream",
     "text": [
      "/opt/conda/envs/python35-paddle120-env/lib/python3.7/site-packages/numpy/core/_asarray.py:171: VisibleDeprecationWarning: Creating an ndarray from ragged nested sequences (which is a list-or-tuple of lists-or-tuples-or ndarrays with different lengths or shapes) is deprecated. If you meant to do this, you must specify 'dtype=object' when creating the ndarray.\n",
      "  return array(a, dtype, copy=False, order=order, subok=True)\n"
     ]
    },
    {
     "name": "stdout",
     "output_type": "stream",
     "text": [
      "2 train 110: acc:0.86364 , loss: 7.89613\n",
      "2 train 120: acc:0.88125 , loss: 6.40308\n",
      "2 train 130: acc:0.88750 , loss: 6.68160\n",
      "2 train 140: acc:0.88125 , loss: 3.94097\n",
      "2 train 150: acc:0.86250 , loss: 7.49786\n",
      "2 train 160: acc:0.93125 , loss: 5.09238\n",
      "2 train 170: acc:0.91250 , loss: 4.91567\n",
      "2 train 180: acc:0.87500 , loss: 6.56084\n",
      "2 train 190: acc:0.91250 , loss: 7.70056\n",
      "2 train 200: acc:0.87500 , loss: 7.68628\n",
      "2 eval 200：acc: 0.89094\n"
     ]
    },
    {
     "name": "stderr",
     "output_type": "stream",
     "text": [
      "/opt/conda/envs/python35-paddle120-env/lib/python3.7/site-packages/numpy/core/_asarray.py:171: VisibleDeprecationWarning: Creating an ndarray from ragged nested sequences (which is a list-or-tuple of lists-or-tuples-or ndarrays with different lengths or shapes) is deprecated. If you meant to do this, you must specify 'dtype=object' when creating the ndarray.\n",
      "  return array(a, dtype, copy=False, order=order, subok=True)\n"
     ]
    },
    {
     "name": "stdout",
     "output_type": "stream",
     "text": [
      "2 train 210: acc:0.86932 , loss: 7.19907\n",
      "2 train 220: acc:0.86250 , loss: 6.54012\n",
      "2 train 230: acc:0.86875 , loss: 6.63570\n",
      "2 train 240: acc:0.90000 , loss: 5.49746\n",
      "2 train 250: acc:0.91250 , loss: 4.40778\n",
      "2 train 260: acc:0.95000 , loss: 3.02813\n",
      "2 train 270: acc:0.93750 , loss: 2.81318\n",
      "2 train 280: acc:0.89375 , loss: 6.77201\n",
      "2 train 290: acc:0.87500 , loss: 5.06482\n",
      "2 train 300: acc:0.89375 , loss: 7.71195\n",
      "2 eval 300：acc: 0.86798\n"
     ]
    },
    {
     "name": "stderr",
     "output_type": "stream",
     "text": [
      "/opt/conda/envs/python35-paddle120-env/lib/python3.7/site-packages/numpy/core/_asarray.py:171: VisibleDeprecationWarning: Creating an ndarray from ragged nested sequences (which is a list-or-tuple of lists-or-tuples-or ndarrays with different lengths or shapes) is deprecated. If you meant to do this, you must specify 'dtype=object' when creating the ndarray.\n",
      "  return array(a, dtype, copy=False, order=order, subok=True)\n"
     ]
    },
    {
     "name": "stdout",
     "output_type": "stream",
     "text": [
      "2 train 310: acc:0.85227 , loss: 11.08872\n",
      "2 train 320: acc:0.86250 , loss: 4.38620\n",
      "2 train 330: acc:0.93125 , loss: 3.38311\n",
      "2 train 340: acc:0.91875 , loss: 5.55354\n",
      "2 train 350: acc:0.84375 , loss: 6.04135\n",
      "2 train 360: acc:0.85000 , loss: 8.38762\n",
      "2 train 370: acc:0.86250 , loss: 8.56704\n",
      "2 train 380: acc:0.91250 , loss: 6.20192\n",
      "2 train 390: acc:0.90000 , loss: 7.95157\n",
      "2 train 0: acc:0.90625 , loss: 1.30286\n",
      "2 eval 0：acc: 0.90434\n",
      "save model to all/2_bestmodel\n"
     ]
    },
    {
     "name": "stderr",
     "output_type": "stream",
     "text": [
      "/opt/conda/envs/python35-paddle120-env/lib/python3.7/site-packages/numpy/core/_asarray.py:171: VisibleDeprecationWarning: Creating an ndarray from ragged nested sequences (which is a list-or-tuple of lists-or-tuples-or ndarrays with different lengths or shapes) is deprecated. If you meant to do this, you must specify 'dtype=object' when creating the ndarray.\n",
      "  return array(a, dtype, copy=False, order=order, subok=True)\n"
     ]
    },
    {
     "name": "stdout",
     "output_type": "stream",
     "text": [
      "2 train 10: acc:0.92045 , loss: 5.88503\n",
      "2 train 20: acc:0.95000 , loss: 2.14563\n",
      "2 train 30: acc:0.95000 , loss: 1.76989\n",
      "2 train 40: acc:0.91250 , loss: 7.05394\n",
      "2 train 50: acc:0.95000 , loss: 2.89173\n",
      "2 train 60: acc:0.95625 , loss: 1.98865\n",
      "2 train 70: acc:0.85625 , loss: 6.19258\n",
      "2 train 80: acc:0.96875 , loss: 1.53913\n",
      "2 train 90: acc:0.91875 , loss: 6.00500\n",
      "2 train 100: acc:0.95625 , loss: 2.28490\n",
      "2 eval 100：acc: 0.92538\n",
      "save model to all/2_bestmodel\n"
     ]
    },
    {
     "name": "stderr",
     "output_type": "stream",
     "text": [
      "/opt/conda/envs/python35-paddle120-env/lib/python3.7/site-packages/numpy/core/_asarray.py:171: VisibleDeprecationWarning: Creating an ndarray from ragged nested sequences (which is a list-or-tuple of lists-or-tuples-or ndarrays with different lengths or shapes) is deprecated. If you meant to do this, you must specify 'dtype=object' when creating the ndarray.\n",
      "  return array(a, dtype, copy=False, order=order, subok=True)\n"
     ]
    },
    {
     "name": "stdout",
     "output_type": "stream",
     "text": [
      "2 train 110: acc:0.91477 , loss: 4.62025\n",
      "2 train 120: acc:0.94375 , loss: 4.06668\n",
      "2 train 130: acc:0.94375 , loss: 3.21896\n",
      "2 train 140: acc:0.90000 , loss: 8.09192\n",
      "2 train 150: acc:0.93750 , loss: 4.59430\n",
      "2 train 160: acc:0.94375 , loss: 2.14680\n",
      "2 train 170: acc:0.93750 , loss: 5.02207\n",
      "2 train 180: acc:0.93125 , loss: 4.51290\n",
      "2 train 190: acc:0.94375 , loss: 3.17725\n",
      "2 train 200: acc:0.93125 , loss: 4.70621\n",
      "2 eval 200：acc: 0.92156\n"
     ]
    },
    {
     "name": "stderr",
     "output_type": "stream",
     "text": [
      "/opt/conda/envs/python35-paddle120-env/lib/python3.7/site-packages/numpy/core/_asarray.py:171: VisibleDeprecationWarning: Creating an ndarray from ragged nested sequences (which is a list-or-tuple of lists-or-tuples-or ndarrays with different lengths or shapes) is deprecated. If you meant to do this, you must specify 'dtype=object' when creating the ndarray.\n",
      "  return array(a, dtype, copy=False, order=order, subok=True)\n"
     ]
    },
    {
     "name": "stdout",
     "output_type": "stream",
     "text": [
      "2 train 210: acc:0.93750 , loss: 4.11302\n",
      "2 train 220: acc:0.93750 , loss: 3.41631\n",
      "2 train 230: acc:0.91250 , loss: 5.46186\n",
      "2 train 240: acc:0.95000 , loss: 2.36832\n",
      "2 train 250: acc:0.93750 , loss: 3.61435\n",
      "2 train 260: acc:0.93750 , loss: 4.89276\n",
      "2 train 270: acc:0.93750 , loss: 6.61303\n",
      "2 train 280: acc:0.93750 , loss: 2.54182\n",
      "2 train 290: acc:0.94375 , loss: 2.94766\n",
      "2 train 300: acc:0.92500 , loss: 5.89820\n",
      "2 eval 300：acc: 0.90753\n"
     ]
    },
    {
     "name": "stderr",
     "output_type": "stream",
     "text": [
      "/opt/conda/envs/python35-paddle120-env/lib/python3.7/site-packages/numpy/core/_asarray.py:171: VisibleDeprecationWarning: Creating an ndarray from ragged nested sequences (which is a list-or-tuple of lists-or-tuples-or ndarrays with different lengths or shapes) is deprecated. If you meant to do this, you must specify 'dtype=object' when creating the ndarray.\n",
      "  return array(a, dtype, copy=False, order=order, subok=True)\n"
     ]
    },
    {
     "name": "stdout",
     "output_type": "stream",
     "text": [
      "2 train 310: acc:0.90341 , loss: 7.72454\n",
      "2 train 320: acc:0.92500 , loss: 2.31170\n",
      "2 train 330: acc:0.93750 , loss: 1.24812\n",
      "2 train 340: acc:0.93750 , loss: 5.72569\n",
      "2 train 350: acc:0.93125 , loss: 2.80555\n",
      "2 train 360: acc:0.93125 , loss: 4.64571\n",
      "2 train 370: acc:0.96875 , loss: 4.14102\n",
      "2 train 380: acc:0.89375 , loss: 5.52762\n",
      "2 train 390: acc:0.93125 , loss: 5.37565\n",
      "2 train 0: acc:0.96875 , loss: 3.06227\n",
      "2 eval 0：acc: 0.91709\n"
     ]
    },
    {
     "name": "stderr",
     "output_type": "stream",
     "text": [
      "/opt/conda/envs/python35-paddle120-env/lib/python3.7/site-packages/numpy/core/_asarray.py:171: VisibleDeprecationWarning: Creating an ndarray from ragged nested sequences (which is a list-or-tuple of lists-or-tuples-or ndarrays with different lengths or shapes) is deprecated. If you meant to do this, you must specify 'dtype=object' when creating the ndarray.\n",
      "  return array(a, dtype, copy=False, order=order, subok=True)\n"
     ]
    },
    {
     "name": "stdout",
     "output_type": "stream",
     "text": [
      "2 train 10: acc:0.95455 , loss: 2.49143\n",
      "2 train 20: acc:0.93750 , loss: 2.41852\n",
      "2 train 30: acc:0.96250 , loss: 1.15238\n",
      "2 train 40: acc:0.93750 , loss: 4.07362\n",
      "2 train 50: acc:0.95625 , loss: 4.07772\n",
      "2 train 60: acc:0.95000 , loss: 2.78497\n",
      "2 train 70: acc:0.93750 , loss: 2.46972\n",
      "2 train 80: acc:0.95000 , loss: 2.80342\n",
      "2 train 90: acc:0.93125 , loss: 2.83993\n",
      "2 train 100: acc:0.92500 , loss: 3.91374\n",
      "2 eval 100：acc: 0.91263\n"
     ]
    },
    {
     "name": "stderr",
     "output_type": "stream",
     "text": [
      "/opt/conda/envs/python35-paddle120-env/lib/python3.7/site-packages/numpy/core/_asarray.py:171: VisibleDeprecationWarning: Creating an ndarray from ragged nested sequences (which is a list-or-tuple of lists-or-tuples-or ndarrays with different lengths or shapes) is deprecated. If you meant to do this, you must specify 'dtype=object' when creating the ndarray.\n",
      "  return array(a, dtype, copy=False, order=order, subok=True)\n"
     ]
    },
    {
     "name": "stdout",
     "output_type": "stream",
     "text": [
      "2 train 110: acc:0.94886 , loss: 2.05684\n",
      "2 train 120: acc:0.93125 , loss: 6.83526\n",
      "2 train 130: acc:0.92500 , loss: 1.88056\n",
      "2 train 140: acc:0.89375 , loss: 8.98212\n",
      "2 train 150: acc:0.95625 , loss: 4.39091\n",
      "2 train 160: acc:0.91250 , loss: 4.18269\n",
      "2 train 170: acc:0.95000 , loss: 2.87288\n",
      "2 train 180: acc:0.92500 , loss: 4.37847\n",
      "2 train 190: acc:0.95625 , loss: 3.71224\n",
      "2 train 200: acc:0.96250 , loss: 3.07305\n",
      "2 eval 200：acc: 0.91071\n"
     ]
    },
    {
     "name": "stderr",
     "output_type": "stream",
     "text": [
      "/opt/conda/envs/python35-paddle120-env/lib/python3.7/site-packages/numpy/core/_asarray.py:171: VisibleDeprecationWarning: Creating an ndarray from ragged nested sequences (which is a list-or-tuple of lists-or-tuples-or ndarrays with different lengths or shapes) is deprecated. If you meant to do this, you must specify 'dtype=object' when creating the ndarray.\n",
      "  return array(a, dtype, copy=False, order=order, subok=True)\n"
     ]
    },
    {
     "name": "stdout",
     "output_type": "stream",
     "text": [
      "2 train 210: acc:0.93750 , loss: 5.35803\n",
      "2 train 220: acc:0.94375 , loss: 2.68150\n",
      "2 train 230: acc:0.93750 , loss: 1.94513\n",
      "2 train 240: acc:0.90000 , loss: 8.92179\n",
      "2 train 250: acc:0.91250 , loss: 4.50307\n",
      "2 train 260: acc:0.95625 , loss: 2.64637\n",
      "2 train 270: acc:0.93125 , loss: 2.41508\n",
      "2 train 280: acc:0.93125 , loss: 4.01886\n",
      "2 train 290: acc:0.98125 , loss: 3.54290\n",
      "2 train 300: acc:0.97500 , loss: 1.95899\n",
      "2 eval 300：acc: 0.92219\n"
     ]
    },
    {
     "name": "stderr",
     "output_type": "stream",
     "text": [
      "/opt/conda/envs/python35-paddle120-env/lib/python3.7/site-packages/numpy/core/_asarray.py:171: VisibleDeprecationWarning: Creating an ndarray from ragged nested sequences (which is a list-or-tuple of lists-or-tuples-or ndarrays with different lengths or shapes) is deprecated. If you meant to do this, you must specify 'dtype=object' when creating the ndarray.\n",
      "  return array(a, dtype, copy=False, order=order, subok=True)\n"
     ]
    },
    {
     "name": "stdout",
     "output_type": "stream",
     "text": [
      "2 train 310: acc:0.95455 , loss: 2.35581\n",
      "2 train 320: acc:0.93750 , loss: 3.09429\n",
      "2 train 330: acc:0.93750 , loss: 3.55850\n",
      "2 train 340: acc:0.95625 , loss: 4.81742\n",
      "2 train 350: acc:0.91250 , loss: 2.57073\n",
      "2 train 360: acc:0.95625 , loss: 2.17560\n",
      "2 train 370: acc:0.95625 , loss: 1.65369\n",
      "2 train 380: acc:0.92500 , loss: 3.38866\n",
      "2 train 390: acc:0.90000 , loss: 3.36064\n",
      "2 train 0: acc:0.96875 , loss: 0.75645\n",
      "2 eval 0：acc: 0.92474\n"
     ]
    },
    {
     "name": "stderr",
     "output_type": "stream",
     "text": [
      "/opt/conda/envs/python35-paddle120-env/lib/python3.7/site-packages/numpy/core/_asarray.py:171: VisibleDeprecationWarning: Creating an ndarray from ragged nested sequences (which is a list-or-tuple of lists-or-tuples-or ndarrays with different lengths or shapes) is deprecated. If you meant to do this, you must specify 'dtype=object' when creating the ndarray.\n",
      "  return array(a, dtype, copy=False, order=order, subok=True)\n"
     ]
    },
    {
     "name": "stdout",
     "output_type": "stream",
     "text": [
      "2 train 10: acc:0.96023 , loss: 2.00598\n",
      "2 train 20: acc:0.95000 , loss: 3.93380\n",
      "2 train 30: acc:0.91875 , loss: 4.82854\n",
      "2 train 40: acc:0.94375 , loss: 3.13561\n",
      "2 train 50: acc:0.93750 , loss: 4.08227\n",
      "2 train 60: acc:0.91250 , loss: 6.68980\n",
      "2 train 70: acc:0.96875 , loss: 2.52554\n",
      "2 train 80: acc:0.93125 , loss: 6.37098\n",
      "2 train 90: acc:0.94375 , loss: 1.61004\n",
      "2 train 100: acc:0.96250 , loss: 1.90091\n",
      "2 eval 100：acc: 0.92092\n"
     ]
    },
    {
     "name": "stderr",
     "output_type": "stream",
     "text": [
      "/opt/conda/envs/python35-paddle120-env/lib/python3.7/site-packages/numpy/core/_asarray.py:171: VisibleDeprecationWarning: Creating an ndarray from ragged nested sequences (which is a list-or-tuple of lists-or-tuples-or ndarrays with different lengths or shapes) is deprecated. If you meant to do this, you must specify 'dtype=object' when creating the ndarray.\n",
      "  return array(a, dtype, copy=False, order=order, subok=True)\n"
     ]
    },
    {
     "name": "stdout",
     "output_type": "stream",
     "text": [
      "2 train 110: acc:0.94318 , loss: 3.52115\n",
      "2 train 120: acc:0.98125 , loss: 0.56825\n",
      "2 train 130: acc:0.95000 , loss: 4.59253\n",
      "2 train 140: acc:0.97500 , loss: 1.61113\n",
      "2 train 150: acc:0.96875 , loss: 1.84876\n",
      "2 train 160: acc:0.93750 , loss: 3.21493\n",
      "2 train 170: acc:0.93125 , loss: 5.47764\n",
      "2 train 180: acc:0.93750 , loss: 2.33318\n",
      "2 train 190: acc:0.95000 , loss: 3.46153\n",
      "2 train 200: acc:0.96875 , loss: 1.88902\n",
      "2 eval 200：acc: 0.93304\n",
      "save model to all/2_bestmodel\n"
     ]
    },
    {
     "name": "stderr",
     "output_type": "stream",
     "text": [
      "/opt/conda/envs/python35-paddle120-env/lib/python3.7/site-packages/numpy/core/_asarray.py:171: VisibleDeprecationWarning: Creating an ndarray from ragged nested sequences (which is a list-or-tuple of lists-or-tuples-or ndarrays with different lengths or shapes) is deprecated. If you meant to do this, you must specify 'dtype=object' when creating the ndarray.\n",
      "  return array(a, dtype, copy=False, order=order, subok=True)\n"
     ]
    },
    {
     "name": "stdout",
     "output_type": "stream",
     "text": [
      "2 train 210: acc:0.94318 , loss: 3.93943\n",
      "2 train 220: acc:0.95000 , loss: 0.77423\n",
      "2 train 230: acc:0.91875 , loss: 4.24941\n",
      "2 train 240: acc:0.91875 , loss: 1.78634\n",
      "2 train 250: acc:0.94375 , loss: 3.41242\n",
      "2 train 260: acc:0.98125 , loss: 2.26338\n",
      "2 train 270: acc:0.95625 , loss: 2.56306\n",
      "2 train 280: acc:0.95000 , loss: 3.31642\n",
      "2 train 290: acc:0.95625 , loss: 3.98597\n",
      "2 train 300: acc:0.95625 , loss: 4.36614\n",
      "2 eval 300：acc: 0.93431\n",
      "save model to all/2_bestmodel\n"
     ]
    },
    {
     "name": "stderr",
     "output_type": "stream",
     "text": [
      "/opt/conda/envs/python35-paddle120-env/lib/python3.7/site-packages/numpy/core/_asarray.py:171: VisibleDeprecationWarning: Creating an ndarray from ragged nested sequences (which is a list-or-tuple of lists-or-tuples-or ndarrays with different lengths or shapes) is deprecated. If you meant to do this, you must specify 'dtype=object' when creating the ndarray.\n",
      "  return array(a, dtype, copy=False, order=order, subok=True)\n"
     ]
    },
    {
     "name": "stdout",
     "output_type": "stream",
     "text": [
      "2 train 310: acc:0.96023 , loss: 3.13898\n",
      "2 train 320: acc:0.94375 , loss: 5.28329\n",
      "2 train 330: acc:0.95000 , loss: 5.17593\n",
      "2 train 340: acc:0.99375 , loss: 0.42219\n",
      "2 train 350: acc:0.96875 , loss: 2.26658\n",
      "2 train 360: acc:0.94375 , loss: 3.16426\n",
      "2 train 370: acc:0.95625 , loss: 1.33847\n",
      "2 train 380: acc:0.96250 , loss: 5.10009\n",
      "2 train 390: acc:0.96250 , loss: 2.71686\n",
      "2 train 0: acc:1.00000 , loss: 0.00826\n",
      "2 eval 0：acc: 0.92092\n"
     ]
    },
    {
     "name": "stderr",
     "output_type": "stream",
     "text": [
      "/opt/conda/envs/python35-paddle120-env/lib/python3.7/site-packages/numpy/core/_asarray.py:171: VisibleDeprecationWarning: Creating an ndarray from ragged nested sequences (which is a list-or-tuple of lists-or-tuples-or ndarrays with different lengths or shapes) is deprecated. If you meant to do this, you must specify 'dtype=object' when creating the ndarray.\n",
      "  return array(a, dtype, copy=False, order=order, subok=True)\n"
     ]
    },
    {
     "name": "stdout",
     "output_type": "stream",
     "text": [
      "2 train 10: acc:0.96591 , loss: 2.68360\n",
      "2 train 20: acc:0.95625 , loss: 2.31187\n",
      "2 train 30: acc:0.97500 , loss: 1.17696\n",
      "2 train 40: acc:0.95625 , loss: 1.87999\n",
      "2 train 50: acc:0.94375 , loss: 3.35815\n",
      "2 train 60: acc:0.94375 , loss: 4.59187\n",
      "2 train 70: acc:0.93750 , loss: 3.61428\n",
      "2 train 80: acc:0.95625 , loss: 1.32987\n",
      "2 train 90: acc:0.96250 , loss: 2.37078\n",
      "2 train 100: acc:0.95625 , loss: 1.52087\n",
      "2 eval 100：acc: 0.93304\n"
     ]
    },
    {
     "name": "stderr",
     "output_type": "stream",
     "text": [
      "/opt/conda/envs/python35-paddle120-env/lib/python3.7/site-packages/numpy/core/_asarray.py:171: VisibleDeprecationWarning: Creating an ndarray from ragged nested sequences (which is a list-or-tuple of lists-or-tuples-or ndarrays with different lengths or shapes) is deprecated. If you meant to do this, you must specify 'dtype=object' when creating the ndarray.\n",
      "  return array(a, dtype, copy=False, order=order, subok=True)\n"
     ]
    },
    {
     "name": "stdout",
     "output_type": "stream",
     "text": [
      "2 train 110: acc:0.97727 , loss: 1.02542\n",
      "2 train 120: acc:0.96250 , loss: 2.31011\n",
      "2 train 130: acc:0.91250 , loss: 6.78415\n",
      "2 train 140: acc:0.95625 , loss: 5.20566\n",
      "2 train 150: acc:0.93750 , loss: 2.88161\n",
      "2 train 160: acc:0.93750 , loss: 2.92446\n",
      "2 train 170: acc:0.98125 , loss: 2.06473\n",
      "2 train 180: acc:0.95000 , loss: 4.50826\n",
      "2 train 190: acc:0.96250 , loss: 3.41937\n",
      "2 train 200: acc:0.96875 , loss: 1.17012\n",
      "2 eval 200：acc: 0.93941\n",
      "save model to all/2_bestmodel\n"
     ]
    },
    {
     "name": "stderr",
     "output_type": "stream",
     "text": [
      "/opt/conda/envs/python35-paddle120-env/lib/python3.7/site-packages/numpy/core/_asarray.py:171: VisibleDeprecationWarning: Creating an ndarray from ragged nested sequences (which is a list-or-tuple of lists-or-tuples-or ndarrays with different lengths or shapes) is deprecated. If you meant to do this, you must specify 'dtype=object' when creating the ndarray.\n",
      "  return array(a, dtype, copy=False, order=order, subok=True)\n"
     ]
    },
    {
     "name": "stdout",
     "output_type": "stream",
     "text": [
      "2 train 210: acc:0.99432 , loss: 0.27013\n",
      "2 train 220: acc:0.93750 , loss: 3.85786\n",
      "2 train 230: acc:0.96250 , loss: 3.00843\n",
      "2 train 240: acc:0.96875 , loss: 1.39753\n",
      "2 train 250: acc:0.95000 , loss: 3.04251\n",
      "2 train 260: acc:0.96875 , loss: 1.43866\n",
      "2 train 270: acc:0.96250 , loss: 2.54901\n",
      "2 train 280: acc:0.95625 , loss: 1.32356\n",
      "2 train 290: acc:0.95000 , loss: 1.26359\n",
      "2 train 300: acc:0.93750 , loss: 4.11844\n",
      "2 eval 300：acc: 0.94005\n",
      "save model to all/2_bestmodel\n"
     ]
    },
    {
     "name": "stderr",
     "output_type": "stream",
     "text": [
      "/opt/conda/envs/python35-paddle120-env/lib/python3.7/site-packages/numpy/core/_asarray.py:171: VisibleDeprecationWarning: Creating an ndarray from ragged nested sequences (which is a list-or-tuple of lists-or-tuples-or ndarrays with different lengths or shapes) is deprecated. If you meant to do this, you must specify 'dtype=object' when creating the ndarray.\n",
      "  return array(a, dtype, copy=False, order=order, subok=True)\n"
     ]
    },
    {
     "name": "stdout",
     "output_type": "stream",
     "text": [
      "2 train 310: acc:0.96023 , loss: 2.88775\n",
      "2 train 320: acc:0.95625 , loss: 2.98918\n",
      "2 train 330: acc:0.95000 , loss: 3.99182\n",
      "2 train 340: acc:0.95625 , loss: 3.20679\n",
      "2 train 350: acc:0.94375 , loss: 3.83924\n",
      "2 train 360: acc:0.97500 , loss: 1.43984\n",
      "2 train 370: acc:0.98125 , loss: 1.07749\n",
      "2 train 380: acc:0.97500 , loss: 2.21273\n",
      "2 train 390: acc:0.95625 , loss: 2.83511\n",
      "2 train 0: acc:0.96875 , loss: 3.94909\n",
      "2 eval 0：acc: 0.94643\n",
      "save model to all/2_bestmodel\n"
     ]
    },
    {
     "name": "stderr",
     "output_type": "stream",
     "text": [
      "/opt/conda/envs/python35-paddle120-env/lib/python3.7/site-packages/numpy/core/_asarray.py:171: VisibleDeprecationWarning: Creating an ndarray from ragged nested sequences (which is a list-or-tuple of lists-or-tuples-or ndarrays with different lengths or shapes) is deprecated. If you meant to do this, you must specify 'dtype=object' when creating the ndarray.\n",
      "  return array(a, dtype, copy=False, order=order, subok=True)\n"
     ]
    },
    {
     "name": "stdout",
     "output_type": "stream",
     "text": [
      "2 train 10: acc:0.94318 , loss: 4.53170\n",
      "2 train 20: acc:0.96250 , loss: 1.66269\n",
      "2 train 30: acc:0.95625 , loss: 2.59110\n",
      "2 train 40: acc:0.96250 , loss: 2.72925\n",
      "2 train 50: acc:0.96250 , loss: 1.11991\n",
      "2 train 60: acc:0.95000 , loss: 2.56738\n",
      "2 train 70: acc:0.96875 , loss: 0.45456\n",
      "2 train 80: acc:0.98125 , loss: 0.87209\n",
      "2 train 90: acc:0.97500 , loss: 0.62512\n",
      "2 train 100: acc:0.98125 , loss: 2.13270\n",
      "2 eval 100：acc: 0.94579\n"
     ]
    },
    {
     "name": "stderr",
     "output_type": "stream",
     "text": [
      "/opt/conda/envs/python35-paddle120-env/lib/python3.7/site-packages/numpy/core/_asarray.py:171: VisibleDeprecationWarning: Creating an ndarray from ragged nested sequences (which is a list-or-tuple of lists-or-tuples-or ndarrays with different lengths or shapes) is deprecated. If you meant to do this, you must specify 'dtype=object' when creating the ndarray.\n",
      "  return array(a, dtype, copy=False, order=order, subok=True)\n"
     ]
    },
    {
     "name": "stdout",
     "output_type": "stream",
     "text": [
      "2 train 110: acc:0.97727 , loss: 1.65342\n",
      "2 train 120: acc:0.98125 , loss: 1.47794\n",
      "2 train 130: acc:0.95625 , loss: 3.05754\n",
      "2 train 140: acc:0.95000 , loss: 4.57615\n",
      "2 train 150: acc:0.95625 , loss: 4.40975\n",
      "2 train 160: acc:0.98750 , loss: 0.51850\n",
      "2 train 170: acc:0.95000 , loss: 3.38985\n",
      "2 train 180: acc:0.94375 , loss: 3.19838\n",
      "2 train 190: acc:0.96875 , loss: 1.74335\n",
      "2 train 200: acc:0.92500 , loss: 4.05429\n",
      "2 eval 200：acc: 0.94579\n"
     ]
    },
    {
     "name": "stderr",
     "output_type": "stream",
     "text": [
      "/opt/conda/envs/python35-paddle120-env/lib/python3.7/site-packages/numpy/core/_asarray.py:171: VisibleDeprecationWarning: Creating an ndarray from ragged nested sequences (which is a list-or-tuple of lists-or-tuples-or ndarrays with different lengths or shapes) is deprecated. If you meant to do this, you must specify 'dtype=object' when creating the ndarray.\n",
      "  return array(a, dtype, copy=False, order=order, subok=True)\n"
     ]
    },
    {
     "name": "stdout",
     "output_type": "stream",
     "text": [
      "2 train 210: acc:0.99432 , loss: 0.29489\n",
      "2 train 220: acc:0.96875 , loss: 0.87952\n",
      "2 train 230: acc:0.98125 , loss: 1.26460\n",
      "2 train 240: acc:0.96250 , loss: 1.33768\n",
      "2 train 250: acc:0.96250 , loss: 3.09841\n",
      "2 train 260: acc:0.98125 , loss: 0.74340\n",
      "2 train 270: acc:0.96875 , loss: 2.32592\n",
      "2 train 280: acc:0.98750 , loss: 0.18668\n",
      "2 train 290: acc:0.96875 , loss: 2.15413\n",
      "2 train 300: acc:0.92500 , loss: 5.15661\n",
      "2 eval 300：acc: 0.91773\n"
     ]
    },
    {
     "name": "stderr",
     "output_type": "stream",
     "text": [
      "/opt/conda/envs/python35-paddle120-env/lib/python3.7/site-packages/numpy/core/_asarray.py:171: VisibleDeprecationWarning: Creating an ndarray from ragged nested sequences (which is a list-or-tuple of lists-or-tuples-or ndarrays with different lengths or shapes) is deprecated. If you meant to do this, you must specify 'dtype=object' when creating the ndarray.\n",
      "  return array(a, dtype, copy=False, order=order, subok=True)\n"
     ]
    },
    {
     "name": "stdout",
     "output_type": "stream",
     "text": [
      "2 train 310: acc:0.95455 , loss: 3.81756\n",
      "2 train 320: acc:0.95625 , loss: 2.19467\n",
      "2 train 330: acc:0.96875 , loss: 2.11281\n",
      "2 train 340: acc:0.98750 , loss: 0.35738\n",
      "2 train 350: acc:0.96875 , loss: 2.34047\n",
      "2 train 360: acc:0.96875 , loss: 3.05622\n",
      "2 train 370: acc:0.95625 , loss: 2.53566\n",
      "2 train 380: acc:0.96250 , loss: 3.32223\n",
      "2 train 390: acc:0.95000 , loss: 3.66023\n",
      "2 train 0: acc:0.96875 , loss: 1.26374\n",
      "2 eval 0：acc: 0.93622\n"
     ]
    },
    {
     "name": "stderr",
     "output_type": "stream",
     "text": [
      "/opt/conda/envs/python35-paddle120-env/lib/python3.7/site-packages/numpy/core/_asarray.py:171: VisibleDeprecationWarning: Creating an ndarray from ragged nested sequences (which is a list-or-tuple of lists-or-tuples-or ndarrays with different lengths or shapes) is deprecated. If you meant to do this, you must specify 'dtype=object' when creating the ndarray.\n",
      "  return array(a, dtype, copy=False, order=order, subok=True)\n"
     ]
    },
    {
     "name": "stdout",
     "output_type": "stream",
     "text": [
      "2 train 10: acc:0.94318 , loss: 2.11015\n",
      "2 train 20: acc:0.95625 , loss: 1.16695\n",
      "2 train 30: acc:0.98125 , loss: 0.96345\n",
      "2 train 40: acc:0.98125 , loss: 0.26327\n",
      "2 train 50: acc:0.98750 , loss: 0.98735\n",
      "2 train 60: acc:0.95000 , loss: 3.80450\n",
      "2 train 70: acc:0.94375 , loss: 6.40425\n",
      "2 train 80: acc:0.98750 , loss: 1.30550\n",
      "2 train 90: acc:0.97500 , loss: 1.71808\n",
      "2 train 100: acc:0.96875 , loss: 1.88052\n",
      "2 eval 100：acc: 0.93367\n"
     ]
    },
    {
     "name": "stderr",
     "output_type": "stream",
     "text": [
      "/opt/conda/envs/python35-paddle120-env/lib/python3.7/site-packages/numpy/core/_asarray.py:171: VisibleDeprecationWarning: Creating an ndarray from ragged nested sequences (which is a list-or-tuple of lists-or-tuples-or ndarrays with different lengths or shapes) is deprecated. If you meant to do this, you must specify 'dtype=object' when creating the ndarray.\n",
      "  return array(a, dtype, copy=False, order=order, subok=True)\n"
     ]
    },
    {
     "name": "stdout",
     "output_type": "stream",
     "text": [
      "2 train 110: acc:0.95455 , loss: 3.14942\n",
      "2 train 120: acc:0.98750 , loss: 1.42337\n",
      "2 train 130: acc:0.96875 , loss: 2.62574\n",
      "2 train 140: acc:0.91875 , loss: 7.00643\n",
      "2 train 150: acc:0.94375 , loss: 3.89612\n",
      "2 train 160: acc:0.93750 , loss: 2.12557\n",
      "2 train 170: acc:0.96875 , loss: 1.69672\n",
      "2 train 180: acc:0.95000 , loss: 2.77428\n",
      "2 train 190: acc:0.98750 , loss: 1.24546\n",
      "2 train 200: acc:0.96875 , loss: 1.29875\n",
      "2 eval 200：acc: 0.94388\n"
     ]
    },
    {
     "name": "stderr",
     "output_type": "stream",
     "text": [
      "/opt/conda/envs/python35-paddle120-env/lib/python3.7/site-packages/numpy/core/_asarray.py:171: VisibleDeprecationWarning: Creating an ndarray from ragged nested sequences (which is a list-or-tuple of lists-or-tuples-or ndarrays with different lengths or shapes) is deprecated. If you meant to do this, you must specify 'dtype=object' when creating the ndarray.\n",
      "  return array(a, dtype, copy=False, order=order, subok=True)\n"
     ]
    },
    {
     "name": "stdout",
     "output_type": "stream",
     "text": [
      "2 train 210: acc:0.98864 , loss: 0.39823\n",
      "2 train 220: acc:0.95625 , loss: 2.34374\n",
      "2 train 230: acc:0.96875 , loss: 1.39499\n",
      "2 train 240: acc:0.98750 , loss: 1.71087\n",
      "2 train 250: acc:0.93750 , loss: 5.72661\n",
      "2 train 260: acc:0.96250 , loss: 4.29957\n",
      "2 train 270: acc:0.92500 , loss: 3.91296\n",
      "2 train 280: acc:0.95000 , loss: 5.45131\n",
      "2 train 290: acc:0.97500 , loss: 0.96449\n",
      "2 train 300: acc:0.96875 , loss: 2.72060\n",
      "2 eval 300：acc: 0.92156\n"
     ]
    },
    {
     "name": "stderr",
     "output_type": "stream",
     "text": [
      "/opt/conda/envs/python35-paddle120-env/lib/python3.7/site-packages/numpy/core/_asarray.py:171: VisibleDeprecationWarning: Creating an ndarray from ragged nested sequences (which is a list-or-tuple of lists-or-tuples-or ndarrays with different lengths or shapes) is deprecated. If you meant to do this, you must specify 'dtype=object' when creating the ndarray.\n",
      "  return array(a, dtype, copy=False, order=order, subok=True)\n"
     ]
    },
    {
     "name": "stdout",
     "output_type": "stream",
     "text": [
      "2 train 310: acc:0.96591 , loss: 2.50717\n",
      "2 train 320: acc:0.93125 , loss: 2.82825\n",
      "2 train 330: acc:0.95625 , loss: 1.93664\n",
      "2 train 340: acc:0.98750 , loss: 1.01691\n",
      "2 train 350: acc:0.98125 , loss: 0.73659\n",
      "2 train 360: acc:0.98125 , loss: 0.88417\n",
      "2 train 370: acc:0.97500 , loss: 1.59007\n",
      "2 train 380: acc:0.95000 , loss: 2.48139\n",
      "2 train 390: acc:0.98125 , loss: 0.52067\n",
      "2 train 0: acc:0.96875 , loss: 1.02729\n",
      "2 eval 0：acc: 0.94133\n"
     ]
    },
    {
     "name": "stderr",
     "output_type": "stream",
     "text": [
      "/opt/conda/envs/python35-paddle120-env/lib/python3.7/site-packages/numpy/core/_asarray.py:171: VisibleDeprecationWarning: Creating an ndarray from ragged nested sequences (which is a list-or-tuple of lists-or-tuples-or ndarrays with different lengths or shapes) is deprecated. If you meant to do this, you must specify 'dtype=object' when creating the ndarray.\n",
      "  return array(a, dtype, copy=False, order=order, subok=True)\n"
     ]
    },
    {
     "name": "stdout",
     "output_type": "stream",
     "text": [
      "2 train 10: acc:0.98295 , loss: 0.40142\n",
      "2 train 20: acc:0.99375 , loss: 0.47082\n",
      "2 train 30: acc:0.96250 , loss: 2.36910\n",
      "2 train 40: acc:0.98125 , loss: 0.24521\n",
      "2 train 50: acc:0.98125 , loss: 0.68604\n",
      "2 train 60: acc:0.95000 , loss: 3.79169\n",
      "2 train 70: acc:0.93750 , loss: 2.71618\n",
      "2 train 80: acc:0.97500 , loss: 3.33602\n",
      "2 train 90: acc:0.95625 , loss: 1.97763\n",
      "2 train 100: acc:0.96250 , loss: 1.69337\n",
      "2 eval 100：acc: 0.93878\n"
     ]
    },
    {
     "name": "stderr",
     "output_type": "stream",
     "text": [
      "/opt/conda/envs/python35-paddle120-env/lib/python3.7/site-packages/numpy/core/_asarray.py:171: VisibleDeprecationWarning: Creating an ndarray from ragged nested sequences (which is a list-or-tuple of lists-or-tuples-or ndarrays with different lengths or shapes) is deprecated. If you meant to do this, you must specify 'dtype=object' when creating the ndarray.\n",
      "  return array(a, dtype, copy=False, order=order, subok=True)\n"
     ]
    },
    {
     "name": "stdout",
     "output_type": "stream",
     "text": [
      "2 train 110: acc:0.96591 , loss: 2.52539\n",
      "2 train 120: acc:0.92500 , loss: 3.33929\n",
      "2 train 130: acc:0.95000 , loss: 1.99879\n",
      "2 train 140: acc:0.95625 , loss: 3.84039\n",
      "2 train 150: acc:0.94375 , loss: 3.63419\n",
      "2 train 160: acc:0.96875 , loss: 2.57987\n",
      "2 train 170: acc:0.98125 , loss: 1.57547\n",
      "2 train 180: acc:0.91250 , loss: 4.48982\n",
      "2 train 190: acc:0.96875 , loss: 1.35934\n",
      "2 train 200: acc:0.98125 , loss: 0.58345\n",
      "2 eval 200：acc: 0.94643\n",
      "early_stop\n",
      "Classification Acc: 0.9370, AUC-ROC: 0.9653\n",
      "Classification report:\n",
      "              precision    recall  f1-score   support\n",
      "\n",
      "           0     0.9611    0.9345    0.9476      1191\n",
      "           1     0.9018    0.9409    0.9209       761\n",
      "\n",
      "    accuracy                         0.9370      1952\n",
      "   macro avg     0.9315    0.9377    0.9343      1952\n",
      "weighted avg     0.9380    0.9370    0.9372      1952\n",
      "\n",
      "\n",
      "Classification confusion matrix:\n",
      "[[1113   78]\n",
      " [  45  716]]\n",
      "\n",
      "test metrics (0.9369877049180327, 0.9209003215434084, 0.9017632241813602, 0.9408672798948752)\n"
     ]
    },
    {
     "name": "stderr",
     "output_type": "stream",
     "text": [
      "2021-05-11 19:47:53,311 - INFO - get pretrain dir from https://ernie-github.cdn.bcebos.com/model-ernie1.0.1.tar.gz\n",
      "[INFO 2021-05-11 19:47:53,311 modeling_ernie.py:236] get pretrain dir from https://ernie-github.cdn.bcebos.com/model-ernie1.0.1.tar.gz\n",
      "2021-05-11 19:47:53,395 - INFO - loading pretrained model from /home/aistudio/.paddle-ernie-cache/466eabcffd6d6a83ae9cb97dd1a167bd\n",
      "[INFO 2021-05-11 19:47:53,395 modeling_ernie.py:254] loading pretrained model from /home/aistudio/.paddle-ernie-cache/466eabcffd6d6a83ae9cb97dd1a167bd\n"
     ]
    },
    {
     "name": "stdout",
     "output_type": "stream",
     "text": [
      "3 train 0: acc:0.62500 , loss: 24.20120\n",
      "3 eval 0：acc: 0.51276\n",
      "save model to all/3_bestmodel\n"
     ]
    },
    {
     "name": "stderr",
     "output_type": "stream",
     "text": [
      "/opt/conda/envs/python35-paddle120-env/lib/python3.7/site-packages/numpy/core/_asarray.py:171: VisibleDeprecationWarning: Creating an ndarray from ragged nested sequences (which is a list-or-tuple of lists-or-tuples-or ndarrays with different lengths or shapes) is deprecated. If you meant to do this, you must specify 'dtype=object' when creating the ndarray.\n",
      "  return array(a, dtype, copy=False, order=order, subok=True)\n"
     ]
    },
    {
     "name": "stdout",
     "output_type": "stream",
     "text": [
      "3 train 10: acc:0.55682 , loss: 25.85420\n",
      "3 train 20: acc:0.61250 , loss: 22.87298\n",
      "3 train 30: acc:0.65625 , loss: 18.90458\n",
      "3 train 40: acc:0.65000 , loss: 20.99763\n",
      "3 train 50: acc:0.66875 , loss: 16.35205\n",
      "3 train 60: acc:0.64375 , loss: 21.67119\n",
      "3 train 70: acc:0.56875 , loss: 20.45119\n",
      "3 train 80: acc:0.64375 , loss: 20.64749\n",
      "3 train 90: acc:0.66250 , loss: 20.36177\n",
      "3 train 100: acc:0.65000 , loss: 21.02429\n",
      "3 eval 100：acc: 0.74809\n",
      "save model to all/3_bestmodel\n"
     ]
    },
    {
     "name": "stderr",
     "output_type": "stream",
     "text": [
      "/opt/conda/envs/python35-paddle120-env/lib/python3.7/site-packages/numpy/core/_asarray.py:171: VisibleDeprecationWarning: Creating an ndarray from ragged nested sequences (which is a list-or-tuple of lists-or-tuples-or ndarrays with different lengths or shapes) is deprecated. If you meant to do this, you must specify 'dtype=object' when creating the ndarray.\n",
      "  return array(a, dtype, copy=False, order=order, subok=True)\n"
     ]
    },
    {
     "name": "stdout",
     "output_type": "stream",
     "text": [
      "3 train 110: acc:0.65909 , loss: 17.83932\n",
      "3 train 120: acc:0.68125 , loss: 20.41934\n",
      "3 train 130: acc:0.70625 , loss: 16.15200\n",
      "3 train 140: acc:0.56250 , loss: 30.66283\n",
      "3 train 150: acc:0.56875 , loss: 22.55720\n",
      "3 train 160: acc:0.53125 , loss: 25.48950\n",
      "3 train 170: acc:0.49375 , loss: 27.77343\n",
      "3 train 180: acc:0.50000 , loss: 31.21924\n",
      "3 train 190: acc:0.50625 , loss: 29.63121\n",
      "3 train 200: acc:0.44375 , loss: 24.13709\n",
      "3 eval 200：acc: 0.55293\n"
     ]
    },
    {
     "name": "stderr",
     "output_type": "stream",
     "text": [
      "/opt/conda/envs/python35-paddle120-env/lib/python3.7/site-packages/numpy/core/_asarray.py:171: VisibleDeprecationWarning: Creating an ndarray from ragged nested sequences (which is a list-or-tuple of lists-or-tuples-or ndarrays with different lengths or shapes) is deprecated. If you meant to do this, you must specify 'dtype=object' when creating the ndarray.\n",
      "  return array(a, dtype, copy=False, order=order, subok=True)\n"
     ]
    },
    {
     "name": "stdout",
     "output_type": "stream",
     "text": [
      "3 train 210: acc:0.49432 , loss: 24.38101\n",
      "3 train 220: acc:0.45000 , loss: 29.43890\n",
      "3 train 230: acc:0.53750 , loss: 29.38668\n",
      "3 train 240: acc:0.53125 , loss: 22.84459\n",
      "3 train 250: acc:0.44375 , loss: 31.59187\n",
      "3 train 260: acc:0.49375 , loss: 31.53386\n",
      "3 train 270: acc:0.48750 , loss: 30.73035\n",
      "3 train 280: acc:0.46875 , loss: 31.45191\n",
      "3 train 290: acc:0.50625 , loss: 26.24734\n",
      "3 train 300: acc:0.50625 , loss: 26.70622\n",
      "3 eval 300：acc: 0.55995\n"
     ]
    },
    {
     "name": "stderr",
     "output_type": "stream",
     "text": [
      "/opt/conda/envs/python35-paddle120-env/lib/python3.7/site-packages/numpy/core/_asarray.py:171: VisibleDeprecationWarning: Creating an ndarray from ragged nested sequences (which is a list-or-tuple of lists-or-tuples-or ndarrays with different lengths or shapes) is deprecated. If you meant to do this, you must specify 'dtype=object' when creating the ndarray.\n",
      "  return array(a, dtype, copy=False, order=order, subok=True)\n"
     ]
    },
    {
     "name": "stdout",
     "output_type": "stream",
     "text": [
      "3 train 310: acc:0.51136 , loss: 27.66024\n",
      "3 train 320: acc:0.56250 , loss: 22.59821\n",
      "3 train 330: acc:0.55625 , loss: 28.62528\n",
      "3 train 340: acc:0.50625 , loss: 32.64050\n",
      "3 train 350: acc:0.51875 , loss: 27.14161\n",
      "3 train 360: acc:0.50625 , loss: 26.73344\n",
      "3 train 370: acc:0.52500 , loss: 29.93854\n",
      "3 train 380: acc:0.50625 , loss: 26.81166\n",
      "3 train 390: acc:0.55000 , loss: 25.39556\n",
      "3 train 0: acc:0.43750 , loss: 27.75378\n",
      "3 eval 0：acc: 0.59949\n"
     ]
    },
    {
     "name": "stderr",
     "output_type": "stream",
     "text": [
      "/opt/conda/envs/python35-paddle120-env/lib/python3.7/site-packages/numpy/core/_asarray.py:171: VisibleDeprecationWarning: Creating an ndarray from ragged nested sequences (which is a list-or-tuple of lists-or-tuples-or ndarrays with different lengths or shapes) is deprecated. If you meant to do this, you must specify 'dtype=object' when creating the ndarray.\n",
      "  return array(a, dtype, copy=False, order=order, subok=True)\n"
     ]
    },
    {
     "name": "stdout",
     "output_type": "stream",
     "text": [
      "3 train 10: acc:0.51136 , loss: 30.16246\n",
      "3 train 20: acc:0.51250 , loss: 27.00993\n",
      "3 train 30: acc:0.52500 , loss: 28.30600\n",
      "3 train 40: acc:0.57500 , loss: 21.43111\n",
      "3 train 50: acc:0.47500 , loss: 25.22570\n",
      "3 train 60: acc:0.43125 , loss: 28.00321\n",
      "3 train 70: acc:0.50000 , loss: 25.34941\n",
      "3 train 80: acc:0.41875 , loss: 32.74627\n",
      "3 train 90: acc:0.50625 , loss: 31.31230\n",
      "3 train 100: acc:0.49375 , loss: 28.34734\n",
      "3 eval 100：acc: 0.59885\n"
     ]
    },
    {
     "name": "stderr",
     "output_type": "stream",
     "text": [
      "/opt/conda/envs/python35-paddle120-env/lib/python3.7/site-packages/numpy/core/_asarray.py:171: VisibleDeprecationWarning: Creating an ndarray from ragged nested sequences (which is a list-or-tuple of lists-or-tuples-or ndarrays with different lengths or shapes) is deprecated. If you meant to do this, you must specify 'dtype=object' when creating the ndarray.\n",
      "  return array(a, dtype, copy=False, order=order, subok=True)\n"
     ]
    },
    {
     "name": "stdout",
     "output_type": "stream",
     "text": [
      "3 train 110: acc:0.48295 , loss: 27.64051\n",
      "3 train 120: acc:0.46875 , loss: 32.60020\n",
      "3 train 130: acc:0.55625 , loss: 23.08526\n",
      "3 train 140: acc:0.55625 , loss: 23.54739\n",
      "3 train 150: acc:0.59375 , loss: 26.89618\n",
      "3 train 160: acc:0.61250 , loss: 25.07730\n",
      "3 train 170: acc:0.56250 , loss: 23.70603\n",
      "3 train 180: acc:0.55000 , loss: 23.32573\n",
      "3 train 190: acc:0.60000 , loss: 25.29392\n",
      "3 train 200: acc:0.49375 , loss: 27.17951\n",
      "3 eval 200：acc: 0.60906\n"
     ]
    },
    {
     "name": "stderr",
     "output_type": "stream",
     "text": [
      "/opt/conda/envs/python35-paddle120-env/lib/python3.7/site-packages/numpy/core/_asarray.py:171: VisibleDeprecationWarning: Creating an ndarray from ragged nested sequences (which is a list-or-tuple of lists-or-tuples-or ndarrays with different lengths or shapes) is deprecated. If you meant to do this, you must specify 'dtype=object' when creating the ndarray.\n",
      "  return array(a, dtype, copy=False, order=order, subok=True)\n"
     ]
    },
    {
     "name": "stdout",
     "output_type": "stream",
     "text": [
      "3 train 210: acc:0.51136 , loss: 30.38419\n",
      "3 train 220: acc:0.50000 , loss: 29.02652\n",
      "3 train 230: acc:0.53750 , loss: 24.59672\n",
      "3 train 240: acc:0.52500 , loss: 26.24253\n",
      "3 train 250: acc:0.50625 , loss: 29.71651\n",
      "3 train 260: acc:0.53125 , loss: 25.30526\n",
      "3 train 270: acc:0.59375 , loss: 20.43094\n",
      "3 train 280: acc:0.47500 , loss: 30.73722\n",
      "3 train 290: acc:0.51875 , loss: 25.39296\n",
      "3 train 300: acc:0.56250 , loss: 28.20816\n",
      "3 eval 300：acc: 0.60523\n"
     ]
    },
    {
     "name": "stderr",
     "output_type": "stream",
     "text": [
      "/opt/conda/envs/python35-paddle120-env/lib/python3.7/site-packages/numpy/core/_asarray.py:171: VisibleDeprecationWarning: Creating an ndarray from ragged nested sequences (which is a list-or-tuple of lists-or-tuples-or ndarrays with different lengths or shapes) is deprecated. If you meant to do this, you must specify 'dtype=object' when creating the ndarray.\n",
      "  return array(a, dtype, copy=False, order=order, subok=True)\n"
     ]
    },
    {
     "name": "stdout",
     "output_type": "stream",
     "text": [
      "3 train 310: acc:0.50568 , loss: 28.24622\n",
      "3 train 320: acc:0.53125 , loss: 26.52779\n",
      "3 train 330: acc:0.50625 , loss: 26.85488\n",
      "3 train 340: acc:0.50625 , loss: 33.24846\n",
      "3 train 350: acc:0.55625 , loss: 20.28605\n",
      "3 train 360: acc:0.46875 , loss: 26.08022\n",
      "3 train 370: acc:0.55625 , loss: 24.08605\n",
      "3 train 380: acc:0.60625 , loss: 18.95455\n",
      "3 train 390: acc:0.52500 , loss: 25.41059\n",
      "3 train 0: acc:0.43750 , loss: 34.15583\n",
      "3 eval 0：acc: 0.61671\n"
     ]
    },
    {
     "name": "stderr",
     "output_type": "stream",
     "text": [
      "/opt/conda/envs/python35-paddle120-env/lib/python3.7/site-packages/numpy/core/_asarray.py:171: VisibleDeprecationWarning: Creating an ndarray from ragged nested sequences (which is a list-or-tuple of lists-or-tuples-or ndarrays with different lengths or shapes) is deprecated. If you meant to do this, you must specify 'dtype=object' when creating the ndarray.\n",
      "  return array(a, dtype, copy=False, order=order, subok=True)\n"
     ]
    },
    {
     "name": "stdout",
     "output_type": "stream",
     "text": [
      "3 train 10: acc:0.59091 , loss: 25.25252\n",
      "3 train 20: acc:0.58125 , loss: 23.89903\n",
      "3 train 30: acc:0.58750 , loss: 23.11617\n",
      "3 train 40: acc:0.52500 , loss: 29.64231\n",
      "3 train 50: acc:0.60625 , loss: 22.73950\n",
      "3 train 60: acc:0.54375 , loss: 27.29128\n",
      "3 train 70: acc:0.48750 , loss: 33.02442\n",
      "3 train 80: acc:0.52500 , loss: 20.36668\n",
      "3 train 90: acc:0.48125 , loss: 25.38075\n",
      "3 train 100: acc:0.53125 , loss: 27.31631\n",
      "3 eval 100：acc: 0.61735\n"
     ]
    },
    {
     "name": "stderr",
     "output_type": "stream",
     "text": [
      "/opt/conda/envs/python35-paddle120-env/lib/python3.7/site-packages/numpy/core/_asarray.py:171: VisibleDeprecationWarning: Creating an ndarray from ragged nested sequences (which is a list-or-tuple of lists-or-tuples-or ndarrays with different lengths or shapes) is deprecated. If you meant to do this, you must specify 'dtype=object' when creating the ndarray.\n",
      "  return array(a, dtype, copy=False, order=order, subok=True)\n"
     ]
    },
    {
     "name": "stdout",
     "output_type": "stream",
     "text": [
      "3 train 110: acc:0.56818 , loss: 21.03598\n",
      "3 train 120: acc:0.51250 , loss: 26.79595\n",
      "3 train 130: acc:0.58125 , loss: 18.17239\n",
      "3 train 140: acc:0.50625 , loss: 26.58729\n",
      "3 train 150: acc:0.51250 , loss: 27.15301\n",
      "3 train 160: acc:0.60625 , loss: 22.30628\n",
      "3 train 170: acc:0.53125 , loss: 27.33092\n",
      "3 train 180: acc:0.63125 , loss: 22.38973\n",
      "3 train 190: acc:0.60625 , loss: 21.04655\n",
      "3 train 200: acc:0.55625 , loss: 23.37879\n",
      "3 eval 200：acc: 0.60778\n"
     ]
    },
    {
     "name": "stderr",
     "output_type": "stream",
     "text": [
      "/opt/conda/envs/python35-paddle120-env/lib/python3.7/site-packages/numpy/core/_asarray.py:171: VisibleDeprecationWarning: Creating an ndarray from ragged nested sequences (which is a list-or-tuple of lists-or-tuples-or ndarrays with different lengths or shapes) is deprecated. If you meant to do this, you must specify 'dtype=object' when creating the ndarray.\n",
      "  return array(a, dtype, copy=False, order=order, subok=True)\n"
     ]
    },
    {
     "name": "stdout",
     "output_type": "stream",
     "text": [
      "3 train 210: acc:0.52273 , loss: 26.64734\n",
      "3 train 220: acc:0.55000 , loss: 25.93692\n",
      "3 train 230: acc:0.58750 , loss: 27.00684\n",
      "3 train 240: acc:0.59375 , loss: 22.37718\n",
      "3 train 250: acc:0.50625 , loss: 28.77029\n",
      "3 train 260: acc:0.49375 , loss: 26.07636\n",
      "3 train 270: acc:0.55625 , loss: 27.30805\n",
      "3 train 280: acc:0.53125 , loss: 27.20206\n",
      "3 train 290: acc:0.58750 , loss: 25.40340\n",
      "3 train 300: acc:0.50000 , loss: 31.87231\n",
      "3 eval 300：acc: 0.62436\n",
      "early_stop\n",
      "Classification Acc: 0.7234, AUC-ROC: 0.7267\n",
      "Classification report:\n",
      "              precision    recall  f1-score   support\n",
      "\n",
      "           0     0.8176    0.7036    0.7563      1191\n",
      "           1     0.6192    0.7543    0.6801       761\n",
      "\n",
      "    accuracy                         0.7234      1952\n",
      "   macro avg     0.7184    0.7289    0.7182      1952\n",
      "weighted avg     0.7402    0.7234    0.7266      1952\n",
      "\n",
      "\n",
      "Classification confusion matrix:\n",
      "[[838 353]\n",
      " [187 574]]\n",
      "\n",
      "test metrics (0.7233606557377049, 0.6800947867298578, 0.6192017259978425, 0.7542706964520368)\n"
     ]
    },
    {
     "name": "stderr",
     "output_type": "stream",
     "text": [
      "2021-05-11 20:00:25,825 - INFO - get pretrain dir from https://ernie-github.cdn.bcebos.com/model-ernie1.0.1.tar.gz\n",
      "[INFO 2021-05-11 20:00:25,825 modeling_ernie.py:236] get pretrain dir from https://ernie-github.cdn.bcebos.com/model-ernie1.0.1.tar.gz\n",
      "2021-05-11 20:00:25,911 - INFO - loading pretrained model from /home/aistudio/.paddle-ernie-cache/466eabcffd6d6a83ae9cb97dd1a167bd\n",
      "[INFO 2021-05-11 20:00:25,911 modeling_ernie.py:254] loading pretrained model from /home/aistudio/.paddle-ernie-cache/466eabcffd6d6a83ae9cb97dd1a167bd\n"
     ]
    },
    {
     "name": "stdout",
     "output_type": "stream",
     "text": [
      "4 train 0: acc:0.68750 , loss: 18.94393\n",
      "4 eval 0：acc: 0.49936\n",
      "save model to all/4_bestmodel\n"
     ]
    },
    {
     "name": "stderr",
     "output_type": "stream",
     "text": [
      "/opt/conda/envs/python35-paddle120-env/lib/python3.7/site-packages/numpy/core/_asarray.py:171: VisibleDeprecationWarning: Creating an ndarray from ragged nested sequences (which is a list-or-tuple of lists-or-tuples-or ndarrays with different lengths or shapes) is deprecated. If you meant to do this, you must specify 'dtype=object' when creating the ndarray.\n",
      "  return array(a, dtype, copy=False, order=order, subok=True)\n"
     ]
    },
    {
     "name": "stdout",
     "output_type": "stream",
     "text": [
      "4 train 10: acc:0.47727 , loss: 33.39979\n",
      "4 train 20: acc:0.60625 , loss: 22.48607\n",
      "4 train 30: acc:0.58750 , loss: 27.42717\n",
      "4 train 40: acc:0.61875 , loss: 20.70274\n",
      "4 train 50: acc:0.63750 , loss: 21.73422\n",
      "4 train 60: acc:0.58750 , loss: 22.68240\n",
      "4 train 70: acc:0.58750 , loss: 22.45508\n",
      "4 train 80: acc:0.63750 , loss: 21.86256\n",
      "4 train 90: acc:0.66250 , loss: 19.25050\n",
      "4 train 100: acc:0.68750 , loss: 17.94899\n",
      "4 eval 100：acc: 0.70855\n",
      "save model to all/4_bestmodel\n"
     ]
    },
    {
     "name": "stderr",
     "output_type": "stream",
     "text": [
      "/opt/conda/envs/python35-paddle120-env/lib/python3.7/site-packages/numpy/core/_asarray.py:171: VisibleDeprecationWarning: Creating an ndarray from ragged nested sequences (which is a list-or-tuple of lists-or-tuples-or ndarrays with different lengths or shapes) is deprecated. If you meant to do this, you must specify 'dtype=object' when creating the ndarray.\n",
      "  return array(a, dtype, copy=False, order=order, subok=True)\n"
     ]
    },
    {
     "name": "stdout",
     "output_type": "stream",
     "text": [
      "4 train 110: acc:0.66477 , loss: 15.53947\n",
      "4 train 120: acc:0.70625 , loss: 14.28584\n",
      "4 train 130: acc:0.63125 , loss: 23.13200\n",
      "4 train 140: acc:0.71250 , loss: 9.83395\n",
      "4 train 150: acc:0.70625 , loss: 14.27224\n",
      "4 train 160: acc:0.72500 , loss: 13.06246\n",
      "4 train 170: acc:0.66875 , loss: 19.06372\n",
      "4 train 180: acc:0.71250 , loss: 12.50925\n",
      "4 train 190: acc:0.82500 , loss: 9.66063\n",
      "4 train 200: acc:0.77500 , loss: 13.78781\n",
      "4 eval 200：acc: 0.78571\n",
      "save model to all/4_bestmodel\n"
     ]
    },
    {
     "name": "stderr",
     "output_type": "stream",
     "text": [
      "/opt/conda/envs/python35-paddle120-env/lib/python3.7/site-packages/numpy/core/_asarray.py:171: VisibleDeprecationWarning: Creating an ndarray from ragged nested sequences (which is a list-or-tuple of lists-or-tuples-or ndarrays with different lengths or shapes) is deprecated. If you meant to do this, you must specify 'dtype=object' when creating the ndarray.\n",
      "  return array(a, dtype, copy=False, order=order, subok=True)\n"
     ]
    },
    {
     "name": "stdout",
     "output_type": "stream",
     "text": [
      "4 train 210: acc:0.77841 , loss: 14.07136\n",
      "4 train 220: acc:0.69375 , loss: 17.23740\n",
      "4 train 230: acc:0.73125 , loss: 16.89153\n",
      "4 train 240: acc:0.70625 , loss: 12.60649\n",
      "4 train 250: acc:0.71875 , loss: 13.23988\n",
      "4 train 260: acc:0.81875 , loss: 8.04637\n",
      "4 train 270: acc:0.79375 , loss: 11.30172\n",
      "4 train 280: acc:0.74375 , loss: 17.97737\n",
      "4 train 290: acc:0.74375 , loss: 16.24234\n",
      "4 train 300: acc:0.80625 , loss: 17.93384\n",
      "4 eval 300：acc: 0.78316\n"
     ]
    },
    {
     "name": "stderr",
     "output_type": "stream",
     "text": [
      "/opt/conda/envs/python35-paddle120-env/lib/python3.7/site-packages/numpy/core/_asarray.py:171: VisibleDeprecationWarning: Creating an ndarray from ragged nested sequences (which is a list-or-tuple of lists-or-tuples-or ndarrays with different lengths or shapes) is deprecated. If you meant to do this, you must specify 'dtype=object' when creating the ndarray.\n",
      "  return array(a, dtype, copy=False, order=order, subok=True)\n"
     ]
    },
    {
     "name": "stdout",
     "output_type": "stream",
     "text": [
      "4 train 310: acc:0.75000 , loss: 18.78984\n",
      "4 train 320: acc:0.77500 , loss: 13.98944\n",
      "4 train 330: acc:0.75625 , loss: 13.21859\n",
      "4 train 340: acc:0.76875 , loss: 12.19954\n",
      "4 train 350: acc:0.76250 , loss: 15.10250\n",
      "4 train 360: acc:0.76875 , loss: 18.70462\n",
      "4 train 370: acc:0.75625 , loss: 10.38464\n",
      "4 train 380: acc:0.82500 , loss: 14.30422\n",
      "4 train 390: acc:0.78750 , loss: 14.38708\n",
      "4 train 0: acc:0.68750 , loss: 15.50805\n",
      "4 eval 0：acc: 0.71811\n"
     ]
    },
    {
     "name": "stderr",
     "output_type": "stream",
     "text": [
      "/opt/conda/envs/python35-paddle120-env/lib/python3.7/site-packages/numpy/core/_asarray.py:171: VisibleDeprecationWarning: Creating an ndarray from ragged nested sequences (which is a list-or-tuple of lists-or-tuples-or ndarrays with different lengths or shapes) is deprecated. If you meant to do this, you must specify 'dtype=object' when creating the ndarray.\n",
      "  return array(a, dtype, copy=False, order=order, subok=True)\n"
     ]
    },
    {
     "name": "stdout",
     "output_type": "stream",
     "text": [
      "4 train 10: acc:0.60795 , loss: 18.30426\n",
      "4 train 20: acc:0.53125 , loss: 28.32890\n",
      "4 train 30: acc:0.52500 , loss: 30.57264\n",
      "4 train 40: acc:0.51875 , loss: 30.60495\n",
      "4 train 50: acc:0.54375 , loss: 29.90106\n",
      "4 train 60: acc:0.53750 , loss: 28.04005\n",
      "4 train 70: acc:0.62500 , loss: 25.10655\n",
      "4 train 80: acc:0.55000 , loss: 31.97382\n",
      "4 train 90: acc:0.56875 , loss: 27.52947\n",
      "4 train 100: acc:0.60000 , loss: 22.07497\n",
      "4 eval 100：acc: 0.74171\n"
     ]
    },
    {
     "name": "stderr",
     "output_type": "stream",
     "text": [
      "/opt/conda/envs/python35-paddle120-env/lib/python3.7/site-packages/numpy/core/_asarray.py:171: VisibleDeprecationWarning: Creating an ndarray from ragged nested sequences (which is a list-or-tuple of lists-or-tuples-or ndarrays with different lengths or shapes) is deprecated. If you meant to do this, you must specify 'dtype=object' when creating the ndarray.\n",
      "  return array(a, dtype, copy=False, order=order, subok=True)\n"
     ]
    },
    {
     "name": "stdout",
     "output_type": "stream",
     "text": [
      "4 train 110: acc:0.67045 , loss: 17.96113\n",
      "4 train 120: acc:0.61250 , loss: 22.39118\n",
      "4 train 130: acc:0.56875 , loss: 23.38694\n",
      "4 train 140: acc:0.55000 , loss: 26.00971\n",
      "4 train 150: acc:0.64375 , loss: 23.64937\n",
      "4 train 160: acc:0.70000 , loss: 18.37711\n",
      "4 train 170: acc:0.74375 , loss: 17.15049\n",
      "4 train 180: acc:0.55625 , loss: 27.67118\n",
      "4 train 190: acc:0.60625 , loss: 21.06092\n",
      "4 train 200: acc:0.60000 , loss: 23.93070\n",
      "4 eval 200：acc: 0.56314\n"
     ]
    },
    {
     "name": "stderr",
     "output_type": "stream",
     "text": [
      "/opt/conda/envs/python35-paddle120-env/lib/python3.7/site-packages/numpy/core/_asarray.py:171: VisibleDeprecationWarning: Creating an ndarray from ragged nested sequences (which is a list-or-tuple of lists-or-tuples-or ndarrays with different lengths or shapes) is deprecated. If you meant to do this, you must specify 'dtype=object' when creating the ndarray.\n",
      "  return array(a, dtype, copy=False, order=order, subok=True)\n"
     ]
    },
    {
     "name": "stdout",
     "output_type": "stream",
     "text": [
      "4 train 210: acc:0.50568 , loss: 30.58335\n",
      "4 train 220: acc:0.50000 , loss: 27.08286\n",
      "4 train 230: acc:0.53750 , loss: 22.83407\n",
      "4 train 240: acc:0.49375 , loss: 30.83986\n",
      "4 train 250: acc:0.59375 , loss: 26.43439\n",
      "4 train 260: acc:0.55625 , loss: 29.63945\n",
      "4 train 270: acc:0.55625 , loss: 27.61413\n",
      "4 train 280: acc:0.56875 , loss: 23.70750\n",
      "4 train 290: acc:0.52500 , loss: 26.87571\n",
      "4 train 300: acc:0.50000 , loss: 25.83097\n",
      "4 eval 300：acc: 0.60714\n"
     ]
    },
    {
     "name": "stderr",
     "output_type": "stream",
     "text": [
      "/opt/conda/envs/python35-paddle120-env/lib/python3.7/site-packages/numpy/core/_asarray.py:171: VisibleDeprecationWarning: Creating an ndarray from ragged nested sequences (which is a list-or-tuple of lists-or-tuples-or ndarrays with different lengths or shapes) is deprecated. If you meant to do this, you must specify 'dtype=object' when creating the ndarray.\n",
      "  return array(a, dtype, copy=False, order=order, subok=True)\n"
     ]
    },
    {
     "name": "stdout",
     "output_type": "stream",
     "text": [
      "4 train 310: acc:0.52841 , loss: 26.28978\n",
      "4 train 320: acc:0.51250 , loss: 25.24177\n",
      "4 train 330: acc:0.51875 , loss: 28.11034\n",
      "4 train 340: acc:0.46875 , loss: 32.97077\n",
      "4 train 350: acc:0.55625 , loss: 22.17011\n",
      "4 train 360: acc:0.58125 , loss: 20.77337\n",
      "4 train 370: acc:0.51250 , loss: 21.71065\n",
      "4 train 380: acc:0.50000 , loss: 28.47651\n",
      "4 train 390: acc:0.53125 , loss: 25.84177\n",
      "4 train 0: acc:0.53125 , loss: 22.40408\n",
      "4 eval 0：acc: 0.64031\n"
     ]
    },
    {
     "name": "stderr",
     "output_type": "stream",
     "text": [
      "/opt/conda/envs/python35-paddle120-env/lib/python3.7/site-packages/numpy/core/_asarray.py:171: VisibleDeprecationWarning: Creating an ndarray from ragged nested sequences (which is a list-or-tuple of lists-or-tuples-or ndarrays with different lengths or shapes) is deprecated. If you meant to do this, you must specify 'dtype=object' when creating the ndarray.\n",
      "  return array(a, dtype, copy=False, order=order, subok=True)\n"
     ]
    },
    {
     "name": "stdout",
     "output_type": "stream",
     "text": [
      "4 train 10: acc:0.51136 , loss: 22.19741\n",
      "4 train 20: acc:0.53750 , loss: 20.64669\n",
      "4 train 30: acc:0.57500 , loss: 21.45812\n",
      "4 train 40: acc:0.54375 , loss: 22.46925\n",
      "4 train 50: acc:0.61250 , loss: 21.33279\n",
      "4 train 60: acc:0.63750 , loss: 18.97144\n",
      "4 train 70: acc:0.71875 , loss: 15.01449\n",
      "4 train 80: acc:0.71875 , loss: 12.97286\n",
      "4 train 90: acc:0.66250 , loss: 16.91455\n",
      "4 train 100: acc:0.66875 , loss: 16.41506\n",
      "4 eval 100：acc: 0.62946\n"
     ]
    },
    {
     "name": "stderr",
     "output_type": "stream",
     "text": [
      "/opt/conda/envs/python35-paddle120-env/lib/python3.7/site-packages/numpy/core/_asarray.py:171: VisibleDeprecationWarning: Creating an ndarray from ragged nested sequences (which is a list-or-tuple of lists-or-tuples-or ndarrays with different lengths or shapes) is deprecated. If you meant to do this, you must specify 'dtype=object' when creating the ndarray.\n",
      "  return array(a, dtype, copy=False, order=order, subok=True)\n"
     ]
    },
    {
     "name": "stdout",
     "output_type": "stream",
     "text": [
      "4 train 110: acc:0.60795 , loss: 22.63349\n",
      "4 train 120: acc:0.74375 , loss: 13.59467\n",
      "4 train 130: acc:0.68750 , loss: 15.00438\n",
      "4 train 140: acc:0.68750 , loss: 17.17565\n",
      "4 train 150: acc:0.72500 , loss: 15.58842\n",
      "4 train 160: acc:0.71250 , loss: 15.55921\n",
      "4 train 170: acc:0.65625 , loss: 16.46468\n",
      "4 train 180: acc:0.83750 , loss: 10.98188\n",
      "4 train 190: acc:0.78750 , loss: 14.27786\n",
      "4 train 200: acc:0.75625 , loss: 12.10816\n",
      "4 eval 200：acc: 0.68941\n"
     ]
    },
    {
     "name": "stderr",
     "output_type": "stream",
     "text": [
      "/opt/conda/envs/python35-paddle120-env/lib/python3.7/site-packages/numpy/core/_asarray.py:171: VisibleDeprecationWarning: Creating an ndarray from ragged nested sequences (which is a list-or-tuple of lists-or-tuples-or ndarrays with different lengths or shapes) is deprecated. If you meant to do this, you must specify 'dtype=object' when creating the ndarray.\n",
      "  return array(a, dtype, copy=False, order=order, subok=True)\n"
     ]
    },
    {
     "name": "stdout",
     "output_type": "stream",
     "text": [
      "4 train 210: acc:0.77273 , loss: 12.16466\n",
      "4 train 220: acc:0.84375 , loss: 10.20957\n",
      "4 train 230: acc:0.78750 , loss: 17.34513\n",
      "4 train 240: acc:0.60000 , loss: 21.61071\n",
      "4 train 250: acc:0.58750 , loss: 22.99647\n",
      "4 train 260: acc:0.70625 , loss: 16.24406\n",
      "4 train 270: acc:0.66250 , loss: 17.86353\n",
      "4 train 280: acc:0.66875 , loss: 19.09404\n",
      "4 train 290: acc:0.76250 , loss: 12.43712\n",
      "4 train 300: acc:0.71875 , loss: 16.80773\n",
      "4 eval 300：acc: 0.77360\n"
     ]
    },
    {
     "name": "stderr",
     "output_type": "stream",
     "text": [
      "/opt/conda/envs/python35-paddle120-env/lib/python3.7/site-packages/numpy/core/_asarray.py:171: VisibleDeprecationWarning: Creating an ndarray from ragged nested sequences (which is a list-or-tuple of lists-or-tuples-or ndarrays with different lengths or shapes) is deprecated. If you meant to do this, you must specify 'dtype=object' when creating the ndarray.\n",
      "  return array(a, dtype, copy=False, order=order, subok=True)\n"
     ]
    },
    {
     "name": "stdout",
     "output_type": "stream",
     "text": [
      "4 train 310: acc:0.80682 , loss: 13.88472\n",
      "4 train 320: acc:0.82500 , loss: 9.83187\n",
      "4 train 330: acc:0.79375 , loss: 11.60618\n",
      "4 train 340: acc:0.79375 , loss: 13.26567\n",
      "4 train 350: acc:0.79375 , loss: 10.07125\n",
      "4 train 360: acc:0.78125 , loss: 9.90585\n",
      "4 train 370: acc:0.75625 , loss: 12.25879\n",
      "4 train 380: acc:0.78125 , loss: 12.90406\n",
      "4 train 390: acc:0.81875 , loss: 11.95285\n",
      "4 train 0: acc:0.81250 , loss: 5.94254\n",
      "4 eval 0：acc: 0.65370\n",
      "early_stop\n",
      "Classification Acc: 0.7966, AUC-ROC: 0.8351\n",
      "Classification report:\n",
      "              precision    recall  f1-score   support\n",
      "\n",
      "           0     0.8839    0.7674    0.8216      1191\n",
      "           1     0.6983    0.8423    0.7635       761\n",
      "\n",
      "    accuracy                         0.7966      1952\n",
      "   macro avg     0.7911    0.8049    0.7926      1952\n",
      "weighted avg     0.8116    0.7966    0.7990      1952\n",
      "\n",
      "\n",
      "Classification confusion matrix:\n",
      "[[914 277]\n",
      " [120 641]]\n",
      "\n",
      "test metrics (0.7966188524590164, 0.7635497319833235, 0.6982570806100218, 0.8423127463863338)\n"
     ]
    }
   ],
   "source": [
    "from \r\n",
    "from paddle import fluid\r\n",
    "import paddle.fluid.layers as L\r\n",
    "from sklearn.metrics import accuracy_score, f1_score, precision_score, recall_score\r\n",
    "\r\n",
    "\r\n",
    "BATCH= 16\r\n",
    "MAX_SEQLEN=150\r\n",
    "LR=5e-5\r\n",
    "EPOCH=30\r\n",
    "   \r\n",
    "\r\n",
    "place=fluid.CUDAPlace(0)\r\n",
    "D.guard(place=place).__enter__() # 为了让Paddle进入动态图模式，需要添加这一行在最前面\r\n",
    "\r\n",
    "path = 'all/'\r\n",
    "with fluid.dygraph.guard():\r\n",
    "    for index, (train_index, eval_index) in enumerate(kf.split(range(len(train_eval)))):\r\n",
    "    \r\n",
    "        with LogWriter(logdir=\"logs/log\"+str(index)) as writer:\r\n",
    "            model = FakeNewsNet()\r\n",
    "            if os.path.exists(path+str(index) + '_bestmodel.pdparams'):\r\n",
    "                model_dict, _= fluid.load_dygraph(path + str(index) + '_bestmodel.pdparams')\r\n",
    "                model.load_dict(model_dict)\r\n",
    "                print('load model')\r\n",
    "            optimizer = fluid.optimizer.Adam(LR, parameter_list=model.parameters())\r\n",
    "            loss_ = nn.BCELoss()\r\n",
    "            all_train_iters = []\r\n",
    "            all_train_costs = []\r\n",
    "            all_train_accs = []\r\n",
    "            all_eval_costs = []\r\n",
    "            all_eval_accs = []\r\n",
    "            best_test_acc = 0\r\n",
    "            early_stop = 0\r\n",
    "            # print('train_indx',train_index)\r\n",
    "            # print('eval_index',eval_index)\r\n",
    "            train_data = train_eval[train_index]\r\n",
    "            eval_data = train_eval[eval_index]\r\n",
    "            cnt = 0\r\n",
    "            cnt2 = 0\r\n",
    "            for i in range(EPOCH): \r\n",
    "                np.random.shuffle(train_data)  # 每个epoch都shuffle数据以获得最佳训练效果；\r\n",
    "                # train\r\n",
    "                for j in range(len(train_data) // BATCH):\r\n",
    "                    \r\n",
    "                    model.train()\r\n",
    "                    feature, text_id, pic_ids, img, label = get_batch_data(train_data, j)\r\n",
    "                    if len(label.shape) == 1:\r\n",
    "                        label = L.reshape(label, [-1, 1])\r\n",
    "                    # print(feature, label)\r\n",
    "                    predict = model(feature, text_id, pic_ids, img)\r\n",
    "                \r\n",
    "                    loss = L.softmax_with_cross_entropy(predict, label)\r\n",
    "                    loss = L.reduce_mean(loss)\r\n",
    "                    predict = L.argmax(predict, -1)\r\n",
    "                    acc = accuracy_score(label.numpy().astype('int64'), predict.numpy().astype('int64'))\r\n",
    "                    \r\n",
    "                    loss.backward()\r\n",
    "                    optimizer.minimize(loss)\r\n",
    "                    model.clear_gradients()\r\n",
    "                    all_train_costs.append(loss.numpy())\r\n",
    "                    all_train_accs.append(acc)\r\n",
    "\r\n",
    "            \r\n",
    "                    \r\n",
    "            \r\n",
    "                    if j  % 10 == 0:\r\n",
    "                        acc_mean = np.mean(all_train_accs)\r\n",
    "                        loss_mean = np.mean(all_train_costs)\r\n",
    "                        writer.add_scalar(tag=\"train-acc\", step=cnt, value=acc_mean)\r\n",
    "                        writer.add_scalar(tag=\"train-loss\", step=cnt, value=loss_mean)\r\n",
    "                        print(index, 'train %d: acc:%.5f , loss: %.5f' % (j, acc_mean, loss_mean))\r\n",
    "                        all_train_accs = []\r\n",
    "                        all_train_costs = []\r\n",
    "                        cnt += 1\r\n",
    "                    # evaluate\r\n",
    "                    \r\n",
    "                    if j % 100 == 0:\r\n",
    "                        all_train_costs.append(loss.numpy()[0])\r\n",
    "                        all_train_accs.append(acc)\r\n",
    "                        with fluid.dygraph.guard():\r\n",
    "                            all_pred, all_label = [], []\r\n",
    "                            with D.base._switch_tracer_mode_guard_(is_train=False):  # 在这个with域内ernie不会进行梯度计算；\r\n",
    "                                model.eval()  # 控制模型进入eval模式，这将会关闭所有的dropout；\r\n",
    "                                for k in range(len(eval_data) // BATCH):\r\n",
    "                                    feature, text_id, pic_ids, img, label = get_batch_data(eval_data, k)\r\n",
    "                                    if len(label.shape) == 1:\r\n",
    "                                        label = L.reshape(label, [-1, 1])\r\n",
    "                                    predict = model(feature, text_id, pic_ids, img)\r\n",
    "                                    loss = L.softmax_with_cross_entropy(predict, label)\r\n",
    "                                    loss = L.reduce_mean(loss)\r\n",
    "                                    predict = L.argmax(predict, -1)\r\n",
    "                                    acc = accuracy_score(label.numpy(), predict.numpy())\r\n",
    "\r\n",
    "                                    writer.add_scalar(tag=\"eval-acc\", step=cnt2, value=acc)\r\n",
    "                                    writer.add_scalar(tag=\"eval-loss\", step=cnt2, value=loss.numpy())\r\n",
    "                                    cnt2 += 1\r\n",
    "\r\n",
    "                                    all_pred.extend(predict.numpy())\r\n",
    "                                    all_label.extend(label.numpy()) \r\n",
    "                                model.train()\r\n",
    "                            acc = accuracy_score(all_label, all_pred)\r\n",
    "                            all_eval_accs.append(acc)\r\n",
    "                            all_eval_costs.append(loss.numpy()[0])\r\n",
    "                            print(index, 'eval %d：acc: %.5f' % (j, acc))\r\n",
    "                            \r\n",
    "                        if acc > best_test_acc:\r\n",
    "                            flag = 1\r\n",
    "                            early_stop = 0\r\n",
    "                            best_test_acc = acc\r\n",
    "                            D.save_dygraph(model.state_dict(), path + str(index) + '_bestmodel')\r\n",
    "                            print('save model to ' + path + str(index) + '_bestmodel')\r\n",
    "                        else:\r\n",
    "                            early_stop += 1\r\n",
    "                            if early_stop == 10:\r\n",
    "                                print(f'early_stop')\r\n",
    "                                flag = 0\r\n",
    "                                break\r\n",
    "\r\n",
    "                if flag == 0:\r\n",
    "                    break\r\n",
    "                            \r\n",
    "        # draw_train_loss(list(range(len(all_eval_accs))),all_eval_accs,all_eval_costs)\r\n",
    "        print('test metrics',test(model, test_data, index, path))\r\n",
    "    "
   ]
  },
  {
   "cell_type": "code",
   "execution_count": null,
   "metadata": {
    "collapsed": false
   },
   "outputs": [
    {
     "name": "stderr",
     "output_type": "stream",
     "text": [
      "2021-04-23 19:02:52,151 - INFO - get pretrain dir from https://ernie-github.cdn.bcebos.com/model-ernie1.0.1.tar.gz\n",
      "[INFO 2021-04-23 19:02:52,151 modeling_ernie.py:236] get pretrain dir from https://ernie-github.cdn.bcebos.com/model-ernie1.0.1.tar.gz\n",
      "2021-04-23 19:02:52,271 - INFO - loading pretrained model from /home/aistudio/.paddle-ernie-cache/466eabcffd6d6a83ae9cb97dd1a167bd\n",
      "[INFO 2021-04-23 19:02:52,271 modeling_ernie.py:254] loading pretrained model from /home/aistudio/.paddle-ernie-cache/466eabcffd6d6a83ae9cb97dd1a167bd\n"
     ]
    },
    {
     "name": "stdout",
     "output_type": "stream",
     "text": [
      "Classification Acc: 0.9531, AUC-ROC: 0.9817\n",
      "Classification report:\n",
      "              precision    recall  f1-score   support\n",
      "\n",
      "           0       0.96      0.95      0.95       374\n",
      "           1       0.95      0.96      0.95       394\n",
      "\n",
      "    accuracy                           0.95       768\n",
      "   macro avg       0.95      0.95      0.95       768\n",
      "weighted avg       0.95      0.95      0.95       768\n",
      "\n",
      "\n",
      "Classification confusion matrix:\n",
      "[[354  20]\n",
      " [ 16 378]]\n",
      "\n",
      "test metrics (0.953125, 0.9545454545454546, 0.949748743718593, 0.9593908629441624)\n"
     ]
    }
   ],
   "source": [
    "model = FakeNewsNet()\r\n",
    "print('test metrics',test(model, test_data, 1, path))\r\n"
   ]
  },
  {
   "cell_type": "code",
   "execution_count": 13,
   "metadata": {
    "collapsed": false
   },
   "outputs": [
    {
     "name": "stderr",
     "output_type": "stream",
     "text": [
      "2021-05-11 21:27:15,087 - INFO - get pretrain dir from https://ernie-github.cdn.bcebos.com/model-ernie1.0.1.tar.gz\n",
      "[INFO 2021-05-11 21:27:15,087 modeling_ernie.py:236] get pretrain dir from https://ernie-github.cdn.bcebos.com/model-ernie1.0.1.tar.gz\n",
      "2021-05-11 21:27:15,223 - INFO - loading pretrained model from /home/aistudio/.paddle-ernie-cache/466eabcffd6d6a83ae9cb97dd1a167bd\n",
      "[INFO 2021-05-11 21:27:15,223 modeling_ernie.py:254] loading pretrained model from /home/aistudio/.paddle-ernie-cache/466eabcffd6d6a83ae9cb97dd1a167bd\n"
     ]
    },
    {
     "name": "stdout",
     "output_type": "stream",
     "text": [
      "Classification Acc: 0.9139, AUC-ROC: 0.9624\n",
      "Classification report:\n",
      "              precision    recall  f1-score   support\n",
      "\n",
      "           0     0.9507    0.9060    0.9278      1191\n",
      "           1     0.8629    0.9264    0.8935       761\n",
      "\n",
      "    accuracy                         0.9139      1952\n",
      "   macro avg     0.9068    0.9162    0.9107      1952\n",
      "weighted avg     0.9165    0.9139    0.9144      1952\n",
      "\n",
      "\n",
      "Classification confusion matrix:\n",
      "[[1079  112]\n",
      " [  56  705]]\n",
      "\n",
      "Classification Acc: 0.9083, AUC-ROC: 0.9525\n",
      "Classification report:\n",
      "              precision    recall  f1-score   support\n",
      "\n",
      "           0     0.9266    0.9228    0.9247      1191\n",
      "           1     0.8799    0.8857    0.8828       761\n",
      "\n",
      "    accuracy                         0.9083      1952\n",
      "   macro avg     0.9033    0.9042    0.9037      1952\n",
      "weighted avg     0.9084    0.9083    0.9084      1952\n",
      "\n",
      "\n",
      "Classification confusion matrix:\n",
      "[[1099   92]\n",
      " [  87  674]]\n",
      "\n",
      "Classification Acc: 0.9355, AUC-ROC: 0.9650\n",
      "Classification report:\n",
      "              precision    recall  f1-score   support\n",
      "\n",
      "           0     0.9563    0.9370    0.9466      1191\n",
      "           1     0.9045    0.9330    0.9185       761\n",
      "\n",
      "    accuracy                         0.9355      1952\n",
      "   macro avg     0.9304    0.9350    0.9325      1952\n",
      "weighted avg     0.9361    0.9355    0.9356      1952\n",
      "\n",
      "\n",
      "Classification confusion matrix:\n",
      "[[1116   75]\n",
      " [  51  710]]\n",
      "\n",
      "Classification Acc: 0.7147, AUC-ROC: 0.7303\n",
      "Classification report:\n",
      "              precision    recall  f1-score   support\n",
      "\n",
      "           0     0.8031    0.7053    0.7510      1191\n",
      "           1     0.6126    0.7293    0.6659       761\n",
      "\n",
      "    accuracy                         0.7147      1952\n",
      "   macro avg     0.7078    0.7173    0.7084      1952\n",
      "weighted avg     0.7288    0.7147    0.7178      1952\n",
      "\n",
      "\n",
      "Classification confusion matrix:\n",
      "[[840 351]\n",
      " [206 555]]\n",
      "\n",
      "Classification Acc: 0.7787, AUC-ROC: 0.8299\n",
      "Classification report:\n",
      "              precision    recall  f1-score   support\n",
      "\n",
      "           0     0.8681    0.7515    0.8056      1191\n",
      "           1     0.6786    0.8213    0.7432       761\n",
      "\n",
      "    accuracy                         0.7787      1952\n",
      "   macro avg     0.7733    0.7864    0.7744      1952\n",
      "weighted avg     0.7942    0.7787    0.7812      1952\n",
      "\n",
      "\n",
      "Classification confusion matrix:\n",
      "[[895 296]\n",
      " [136 625]]\n",
      "\n"
     ]
    },
    {
     "data": {
      "text/plain": [
       "array([0.85020492, 0.82076838, 0.78769205, 0.85913272])"
      ]
     },
     "execution_count": 13,
     "metadata": {},
     "output_type": "execute_result"
    }
   ],
   "source": [
    "model = FakeNewsNet()\r\n",
    "\r\n",
    "a = np.zeros(4)\r\n",
    "\r\n",
    "for i in range(5):\r\n",
    "    \r\n",
    "    a += np.array(test(model, test_data, i, path))\r\n",
    "a/5"
   ]
  },
  {
   "cell_type": "code",
   "execution_count": null,
   "metadata": {
    "collapsed": false
   },
   "outputs": [],
   "source": [
    "from model import *\r\n",
    "model = "
   ]
  }
 ],
 "metadata": {
  "kernelspec": {
   "display_name": "PaddlePaddle 2.0.0b0 (Python 3.5)",
   "language": "python",
   "name": "py35-paddle1.2.0"
  },
  "language_info": {
   "codemirror_mode": {
    "name": "ipython",
    "version": 3
   },
   "file_extension": ".py",
   "mimetype": "text/x-python",
   "name": "python",
   "nbconvert_exporter": "python",
   "pygments_lexer": "ipython3",
   "version": "3.7.4"
  }
 },
 "nbformat": 4,
 "nbformat_minor": 1
}
